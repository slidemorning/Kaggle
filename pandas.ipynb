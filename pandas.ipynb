{
  "nbformat": 4,
  "nbformat_minor": 0,
  "metadata": {
    "colab": {
      "name": "pandas.ipynb",
      "version": "0.3.2",
      "provenance": [],
      "collapsed_sections": [],
      "include_colab_link": true
    },
    "kernelspec": {
      "name": "python3",
      "display_name": "Python 3"
    }
  },
  "cells": [
    {
      "cell_type": "markdown",
      "metadata": {
        "id": "view-in-github",
        "colab_type": "text"
      },
      "source": [
        "<a href=\"https://colab.research.google.com/github/slidemorning/Kaggle/blob/master/pandas.ipynb\" target=\"_parent\"><img src=\"https://colab.research.google.com/assets/colab-badge.svg\" alt=\"Open In Colab\"/></a>"
      ]
    },
    {
      "cell_type": "code",
      "metadata": {
        "id": "lbg0XoJvnKEt",
        "colab_type": "code",
        "colab": {}
      },
      "source": [
        "import numpy as np\n",
        "import pandas as pd"
      ],
      "execution_count": 0,
      "outputs": []
    },
    {
      "cell_type": "code",
      "metadata": {
        "id": "vylBL7N-nUSw",
        "colab_type": "code",
        "colab": {
          "base_uri": "https://localhost:8080/",
          "height": 107
        },
        "outputId": "5ffb7ea1-db25-45d8-8c12-cb49602b17dc"
      },
      "source": [
        "'''\n",
        "1. Series (Data Structure Of Pandas)\n",
        "'''\n",
        "\n",
        "obj = pd.Series([4, 7, -5, 3])\n",
        "obj"
      ],
      "execution_count": 2,
      "outputs": [
        {
          "output_type": "execute_result",
          "data": {
            "text/plain": [
              "0    4\n",
              "1    7\n",
              "2   -5\n",
              "3    3\n",
              "dtype: int64"
            ]
          },
          "metadata": {
            "tags": []
          },
          "execution_count": 2
        }
      ]
    },
    {
      "cell_type": "code",
      "metadata": {
        "id": "IwAijsTEnjCP",
        "colab_type": "code",
        "colab": {
          "base_uri": "https://localhost:8080/",
          "height": 35
        },
        "outputId": "23a5901e-0047-4f7b-aac8-8baa732f2c94"
      },
      "source": [
        "# values\n",
        "obj.values"
      ],
      "execution_count": 3,
      "outputs": [
        {
          "output_type": "execute_result",
          "data": {
            "text/plain": [
              "array([ 4,  7, -5,  3])"
            ]
          },
          "metadata": {
            "tags": []
          },
          "execution_count": 3
        }
      ]
    },
    {
      "cell_type": "code",
      "metadata": {
        "id": "0iV6BIJ4nlq2",
        "colab_type": "code",
        "colab": {
          "base_uri": "https://localhost:8080/",
          "height": 35
        },
        "outputId": "1895ae4a-5cae-4642-ab1d-ccce39e9919f"
      },
      "source": [
        "# index\n",
        "obj.index"
      ],
      "execution_count": 4,
      "outputs": [
        {
          "output_type": "execute_result",
          "data": {
            "text/plain": [
              "RangeIndex(start=0, stop=4, step=1)"
            ]
          },
          "metadata": {
            "tags": []
          },
          "execution_count": 4
        }
      ]
    },
    {
      "cell_type": "code",
      "metadata": {
        "id": "_tlJ0EE1nmyN",
        "colab_type": "code",
        "colab": {
          "base_uri": "https://localhost:8080/",
          "height": 35
        },
        "outputId": "aab0d929-f8a3-4ada-c6c3-cd19827dec49"
      },
      "source": [
        "# type\n",
        "obj.dtypes"
      ],
      "execution_count": 5,
      "outputs": [
        {
          "output_type": "execute_result",
          "data": {
            "text/plain": [
              "dtype('int64')"
            ]
          },
          "metadata": {
            "tags": []
          },
          "execution_count": 5
        }
      ]
    },
    {
      "cell_type": "code",
      "metadata": {
        "id": "9XU3CJ8Fnqo4",
        "colab_type": "code",
        "colab": {
          "base_uri": "https://localhost:8080/",
          "height": 107
        },
        "outputId": "cc39fd64-d46e-4448-d57a-70808bde41e7"
      },
      "source": [
        "# using index param\n",
        "obj2 = pd.Series([4, 7, -5, 3], index=['d', 'b', 'a', 'c'])\n",
        "obj2"
      ],
      "execution_count": 6,
      "outputs": [
        {
          "output_type": "execute_result",
          "data": {
            "text/plain": [
              "d    4\n",
              "b    7\n",
              "a   -5\n",
              "c    3\n",
              "dtype: int64"
            ]
          },
          "metadata": {
            "tags": []
          },
          "execution_count": 6
        }
      ]
    },
    {
      "cell_type": "code",
      "metadata": {
        "id": "bO1ZKlGgnwVs",
        "colab_type": "code",
        "colab": {
          "base_uri": "https://localhost:8080/",
          "height": 89
        },
        "outputId": "7677758f-0e2f-4af7-d226-8206d7a5c0c2"
      },
      "source": [
        "# create Series using dictionary\n",
        "dic = {'apple':1000, 'orange':1200, 'grape':1100}\n",
        "obj3 = pd.Series(dic)\n",
        "# key->index , value->value\n",
        "obj3 "
      ],
      "execution_count": 7,
      "outputs": [
        {
          "output_type": "execute_result",
          "data": {
            "text/plain": [
              "apple     1000\n",
              "orange    1200\n",
              "grape     1100\n",
              "dtype: int64"
            ]
          },
          "metadata": {
            "tags": []
          },
          "execution_count": 7
        }
      ]
    },
    {
      "cell_type": "code",
      "metadata": {
        "id": "qXpgjr8CoCG6",
        "colab_type": "code",
        "colab": {
          "base_uri": "https://localhost:8080/",
          "height": 107
        },
        "outputId": "b0e5d225-72e0-4b32-85be-dfbc5ca6111f"
      },
      "source": [
        "obj3.name = 'price of fruit'\n",
        "obj3.index.name = 'kinds of fruit'\n",
        "obj3"
      ],
      "execution_count": 8,
      "outputs": [
        {
          "output_type": "execute_result",
          "data": {
            "text/plain": [
              "kinds of fruit\n",
              "apple     1000\n",
              "orange    1200\n",
              "grape     1100\n",
              "Name: price of fruit, dtype: int64"
            ]
          },
          "metadata": {
            "tags": []
          },
          "execution_count": 8
        }
      ]
    },
    {
      "cell_type": "code",
      "metadata": {
        "id": "wDGRGQNiosAx",
        "colab_type": "code",
        "colab": {
          "base_uri": "https://localhost:8080/",
          "height": 89
        },
        "outputId": "f3a0f977-5605-4a95-a00a-62b08a6320cf"
      },
      "source": [
        "obj3.index = ['strawberry', 'melon', 'mango']\n",
        "obj3"
      ],
      "execution_count": 9,
      "outputs": [
        {
          "output_type": "execute_result",
          "data": {
            "text/plain": [
              "strawberry    1000\n",
              "melon         1200\n",
              "mango         1100\n",
              "Name: price of fruit, dtype: int64"
            ]
          },
          "metadata": {
            "tags": []
          },
          "execution_count": 9
        }
      ]
    },
    {
      "cell_type": "code",
      "metadata": {
        "id": "QYs3g_J9o1kO",
        "colab_type": "code",
        "colab": {
          "base_uri": "https://localhost:8080/",
          "height": 173
        },
        "outputId": "5fe843da-9d95-4ad7-f5ea-aaf3de3ac19d"
      },
      "source": [
        "'''\n",
        "2. Data Frame (Data Structure Of Pandas)\n",
        "'''\n",
        "# method to create df\n",
        "# 1. using dictionary\n",
        "# 2. using array of numpy \n",
        "\n",
        "dic = {'name':['tony', 'erik', 'son', 'park'],\n",
        "       'year':[1991, 1995, 1990, 1994],\n",
        "       'score':[87, 90, 92, 98]}\n",
        "df = pd.DataFrame(dic)\n",
        "df"
      ],
      "execution_count": 11,
      "outputs": [
        {
          "output_type": "execute_result",
          "data": {
            "text/html": [
              "<div>\n",
              "<style scoped>\n",
              "    .dataframe tbody tr th:only-of-type {\n",
              "        vertical-align: middle;\n",
              "    }\n",
              "\n",
              "    .dataframe tbody tr th {\n",
              "        vertical-align: top;\n",
              "    }\n",
              "\n",
              "    .dataframe thead th {\n",
              "        text-align: right;\n",
              "    }\n",
              "</style>\n",
              "<table border=\"1\" class=\"dataframe\">\n",
              "  <thead>\n",
              "    <tr style=\"text-align: right;\">\n",
              "      <th></th>\n",
              "      <th>name</th>\n",
              "      <th>year</th>\n",
              "      <th>score</th>\n",
              "    </tr>\n",
              "  </thead>\n",
              "  <tbody>\n",
              "    <tr>\n",
              "      <th>0</th>\n",
              "      <td>tony</td>\n",
              "      <td>1991</td>\n",
              "      <td>87</td>\n",
              "    </tr>\n",
              "    <tr>\n",
              "      <th>1</th>\n",
              "      <td>erik</td>\n",
              "      <td>1995</td>\n",
              "      <td>90</td>\n",
              "    </tr>\n",
              "    <tr>\n",
              "      <th>2</th>\n",
              "      <td>son</td>\n",
              "      <td>1990</td>\n",
              "      <td>92</td>\n",
              "    </tr>\n",
              "    <tr>\n",
              "      <th>3</th>\n",
              "      <td>park</td>\n",
              "      <td>1994</td>\n",
              "      <td>98</td>\n",
              "    </tr>\n",
              "  </tbody>\n",
              "</table>\n",
              "</div>"
            ],
            "text/plain": [
              "   name  year  score\n",
              "0  tony  1991     87\n",
              "1  erik  1995     90\n",
              "2   son  1990     92\n",
              "3  park  1994     98"
            ]
          },
          "metadata": {
            "tags": []
          },
          "execution_count": 11
        }
      ]
    },
    {
      "cell_type": "code",
      "metadata": {
        "id": "tvTXQrQrqAKU",
        "colab_type": "code",
        "colab": {
          "base_uri": "https://localhost:8080/",
          "height": 35
        },
        "outputId": "e857f22c-e560-4e3d-ca5f-bb6b5abbf4ef"
      },
      "source": [
        "df.index"
      ],
      "execution_count": 12,
      "outputs": [
        {
          "output_type": "execute_result",
          "data": {
            "text/plain": [
              "RangeIndex(start=0, stop=4, step=1)"
            ]
          },
          "metadata": {
            "tags": []
          },
          "execution_count": 12
        }
      ]
    },
    {
      "cell_type": "code",
      "metadata": {
        "id": "AtcsN-lDqWW-",
        "colab_type": "code",
        "colab": {
          "base_uri": "https://localhost:8080/",
          "height": 35
        },
        "outputId": "f5705dc4-32bd-4fe6-b58a-21ea41c6796e"
      },
      "source": [
        "df.columns"
      ],
      "execution_count": 13,
      "outputs": [
        {
          "output_type": "execute_result",
          "data": {
            "text/plain": [
              "Index(['name', 'year', 'score'], dtype='object')"
            ]
          },
          "metadata": {
            "tags": []
          },
          "execution_count": 13
        }
      ]
    },
    {
      "cell_type": "code",
      "metadata": {
        "id": "actqc1osqaYg",
        "colab_type": "code",
        "colab": {
          "base_uri": "https://localhost:8080/",
          "height": 89
        },
        "outputId": "d6e7f598-72ec-4f2b-cdc0-0d97474a9ad2"
      },
      "source": [
        "df.values"
      ],
      "execution_count": 15,
      "outputs": [
        {
          "output_type": "execute_result",
          "data": {
            "text/plain": [
              "array([['tony', 1991, 87],\n",
              "       ['erik', 1995, 90],\n",
              "       ['son', 1990, 92],\n",
              "       ['park', 1994, 98]], dtype=object)"
            ]
          },
          "metadata": {
            "tags": []
          },
          "execution_count": 15
        }
      ]
    },
    {
      "cell_type": "code",
      "metadata": {
        "id": "wD1tBReRqdDA",
        "colab_type": "code",
        "colab": {
          "base_uri": "https://localhost:8080/",
          "height": 204
        },
        "outputId": "c7785e32-55fd-4038-fde4-82702d7efed5"
      },
      "source": [
        "df.index.name = 'Num'\n",
        "df.columns.name = 'Info'\n",
        "df"
      ],
      "execution_count": 16,
      "outputs": [
        {
          "output_type": "execute_result",
          "data": {
            "text/html": [
              "<div>\n",
              "<style scoped>\n",
              "    .dataframe tbody tr th:only-of-type {\n",
              "        vertical-align: middle;\n",
              "    }\n",
              "\n",
              "    .dataframe tbody tr th {\n",
              "        vertical-align: top;\n",
              "    }\n",
              "\n",
              "    .dataframe thead th {\n",
              "        text-align: right;\n",
              "    }\n",
              "</style>\n",
              "<table border=\"1\" class=\"dataframe\">\n",
              "  <thead>\n",
              "    <tr style=\"text-align: right;\">\n",
              "      <th>Info</th>\n",
              "      <th>name</th>\n",
              "      <th>year</th>\n",
              "      <th>score</th>\n",
              "    </tr>\n",
              "    <tr>\n",
              "      <th>Num</th>\n",
              "      <th></th>\n",
              "      <th></th>\n",
              "      <th></th>\n",
              "    </tr>\n",
              "  </thead>\n",
              "  <tbody>\n",
              "    <tr>\n",
              "      <th>0</th>\n",
              "      <td>tony</td>\n",
              "      <td>1991</td>\n",
              "      <td>87</td>\n",
              "    </tr>\n",
              "    <tr>\n",
              "      <th>1</th>\n",
              "      <td>erik</td>\n",
              "      <td>1995</td>\n",
              "      <td>90</td>\n",
              "    </tr>\n",
              "    <tr>\n",
              "      <th>2</th>\n",
              "      <td>son</td>\n",
              "      <td>1990</td>\n",
              "      <td>92</td>\n",
              "    </tr>\n",
              "    <tr>\n",
              "      <th>3</th>\n",
              "      <td>park</td>\n",
              "      <td>1994</td>\n",
              "      <td>98</td>\n",
              "    </tr>\n",
              "  </tbody>\n",
              "</table>\n",
              "</div>"
            ],
            "text/plain": [
              "Info  name  year  score\n",
              "Num                    \n",
              "0     tony  1991     87\n",
              "1     erik  1995     90\n",
              "2      son  1990     92\n",
              "3     park  1994     98"
            ]
          },
          "metadata": {
            "tags": []
          },
          "execution_count": 16
        }
      ]
    },
    {
      "cell_type": "code",
      "metadata": {
        "id": "i9YhVfHSqpdn",
        "colab_type": "code",
        "colab": {
          "base_uri": "https://localhost:8080/",
          "height": 173
        },
        "outputId": "d542d156-c1dd-4be2-f24d-4b09ac5ef420"
      },
      "source": [
        "df2 = pd.DataFrame(dic, columns=['year', 'name', 'score', 'penalty'],\n",
        "                   index=['one', 'two', 'three', 'four'])\n",
        "df2"
      ],
      "execution_count": 18,
      "outputs": [
        {
          "output_type": "execute_result",
          "data": {
            "text/html": [
              "<div>\n",
              "<style scoped>\n",
              "    .dataframe tbody tr th:only-of-type {\n",
              "        vertical-align: middle;\n",
              "    }\n",
              "\n",
              "    .dataframe tbody tr th {\n",
              "        vertical-align: top;\n",
              "    }\n",
              "\n",
              "    .dataframe thead th {\n",
              "        text-align: right;\n",
              "    }\n",
              "</style>\n",
              "<table border=\"1\" class=\"dataframe\">\n",
              "  <thead>\n",
              "    <tr style=\"text-align: right;\">\n",
              "      <th></th>\n",
              "      <th>year</th>\n",
              "      <th>name</th>\n",
              "      <th>score</th>\n",
              "      <th>penalty</th>\n",
              "    </tr>\n",
              "  </thead>\n",
              "  <tbody>\n",
              "    <tr>\n",
              "      <th>one</th>\n",
              "      <td>1991</td>\n",
              "      <td>tony</td>\n",
              "      <td>87</td>\n",
              "      <td>NaN</td>\n",
              "    </tr>\n",
              "    <tr>\n",
              "      <th>two</th>\n",
              "      <td>1995</td>\n",
              "      <td>erik</td>\n",
              "      <td>90</td>\n",
              "      <td>NaN</td>\n",
              "    </tr>\n",
              "    <tr>\n",
              "      <th>three</th>\n",
              "      <td>1990</td>\n",
              "      <td>son</td>\n",
              "      <td>92</td>\n",
              "      <td>NaN</td>\n",
              "    </tr>\n",
              "    <tr>\n",
              "      <th>four</th>\n",
              "      <td>1994</td>\n",
              "      <td>park</td>\n",
              "      <td>98</td>\n",
              "      <td>NaN</td>\n",
              "    </tr>\n",
              "  </tbody>\n",
              "</table>\n",
              "</div>"
            ],
            "text/plain": [
              "       year  name  score penalty\n",
              "one    1991  tony     87     NaN\n",
              "two    1995  erik     90     NaN\n",
              "three  1990   son     92     NaN\n",
              "four   1994  park     98     NaN"
            ]
          },
          "metadata": {
            "tags": []
          },
          "execution_count": 18
        }
      ]
    },
    {
      "cell_type": "code",
      "metadata": {
        "id": "_V6E0c3OrJra",
        "colab_type": "code",
        "colab": {
          "base_uri": "https://localhost:8080/",
          "height": 297
        },
        "outputId": "2768ef24-e7e7-4a61-fade-bc366daaf0e9"
      },
      "source": [
        "df2.describe()"
      ],
      "execution_count": 19,
      "outputs": [
        {
          "output_type": "execute_result",
          "data": {
            "text/html": [
              "<div>\n",
              "<style scoped>\n",
              "    .dataframe tbody tr th:only-of-type {\n",
              "        vertical-align: middle;\n",
              "    }\n",
              "\n",
              "    .dataframe tbody tr th {\n",
              "        vertical-align: top;\n",
              "    }\n",
              "\n",
              "    .dataframe thead th {\n",
              "        text-align: right;\n",
              "    }\n",
              "</style>\n",
              "<table border=\"1\" class=\"dataframe\">\n",
              "  <thead>\n",
              "    <tr style=\"text-align: right;\">\n",
              "      <th></th>\n",
              "      <th>year</th>\n",
              "      <th>score</th>\n",
              "    </tr>\n",
              "  </thead>\n",
              "  <tbody>\n",
              "    <tr>\n",
              "      <th>count</th>\n",
              "      <td>4.000000</td>\n",
              "      <td>4.000000</td>\n",
              "    </tr>\n",
              "    <tr>\n",
              "      <th>mean</th>\n",
              "      <td>1992.500000</td>\n",
              "      <td>91.750000</td>\n",
              "    </tr>\n",
              "    <tr>\n",
              "      <th>std</th>\n",
              "      <td>2.380476</td>\n",
              "      <td>4.645787</td>\n",
              "    </tr>\n",
              "    <tr>\n",
              "      <th>min</th>\n",
              "      <td>1990.000000</td>\n",
              "      <td>87.000000</td>\n",
              "    </tr>\n",
              "    <tr>\n",
              "      <th>25%</th>\n",
              "      <td>1990.750000</td>\n",
              "      <td>89.250000</td>\n",
              "    </tr>\n",
              "    <tr>\n",
              "      <th>50%</th>\n",
              "      <td>1992.500000</td>\n",
              "      <td>91.000000</td>\n",
              "    </tr>\n",
              "    <tr>\n",
              "      <th>75%</th>\n",
              "      <td>1994.250000</td>\n",
              "      <td>93.500000</td>\n",
              "    </tr>\n",
              "    <tr>\n",
              "      <th>max</th>\n",
              "      <td>1995.000000</td>\n",
              "      <td>98.000000</td>\n",
              "    </tr>\n",
              "  </tbody>\n",
              "</table>\n",
              "</div>"
            ],
            "text/plain": [
              "              year      score\n",
              "count     4.000000   4.000000\n",
              "mean   1992.500000  91.750000\n",
              "std       2.380476   4.645787\n",
              "min    1990.000000  87.000000\n",
              "25%    1990.750000  89.250000\n",
              "50%    1992.500000  91.000000\n",
              "75%    1994.250000  93.500000\n",
              "max    1995.000000  98.000000"
            ]
          },
          "metadata": {
            "tags": []
          },
          "execution_count": 19
        }
      ]
    },
    {
      "cell_type": "code",
      "metadata": {
        "id": "FS3a9fnMrRyK",
        "colab_type": "code",
        "colab": {
          "base_uri": "https://localhost:8080/",
          "height": 204
        },
        "outputId": "b77b8d69-13dc-4c6e-ac89-3e9597598fb9"
      },
      "source": [
        "dic = {'name': ['kilho', 'kilho', 'kilho', 'charles', 'charles'],\n",
        "       'year': [2014, 2015, 2016, 2015, 2016],\n",
        "       'points': [1.5, 1.7, 3.6, 2.4, 2.9]}\n",
        "df = pd.DataFrame(dic, columns=['year', 'name', 'points', 'penalty'],\n",
        "                  index=['one', 'two', 'three', 'four', 'five'])\n",
        "df"
      ],
      "execution_count": 20,
      "outputs": [
        {
          "output_type": "execute_result",
          "data": {
            "text/html": [
              "<div>\n",
              "<style scoped>\n",
              "    .dataframe tbody tr th:only-of-type {\n",
              "        vertical-align: middle;\n",
              "    }\n",
              "\n",
              "    .dataframe tbody tr th {\n",
              "        vertical-align: top;\n",
              "    }\n",
              "\n",
              "    .dataframe thead th {\n",
              "        text-align: right;\n",
              "    }\n",
              "</style>\n",
              "<table border=\"1\" class=\"dataframe\">\n",
              "  <thead>\n",
              "    <tr style=\"text-align: right;\">\n",
              "      <th></th>\n",
              "      <th>year</th>\n",
              "      <th>name</th>\n",
              "      <th>points</th>\n",
              "      <th>penalty</th>\n",
              "    </tr>\n",
              "  </thead>\n",
              "  <tbody>\n",
              "    <tr>\n",
              "      <th>one</th>\n",
              "      <td>2014</td>\n",
              "      <td>kilho</td>\n",
              "      <td>1.5</td>\n",
              "      <td>NaN</td>\n",
              "    </tr>\n",
              "    <tr>\n",
              "      <th>two</th>\n",
              "      <td>2015</td>\n",
              "      <td>kilho</td>\n",
              "      <td>1.7</td>\n",
              "      <td>NaN</td>\n",
              "    </tr>\n",
              "    <tr>\n",
              "      <th>three</th>\n",
              "      <td>2016</td>\n",
              "      <td>kilho</td>\n",
              "      <td>3.6</td>\n",
              "      <td>NaN</td>\n",
              "    </tr>\n",
              "    <tr>\n",
              "      <th>four</th>\n",
              "      <td>2015</td>\n",
              "      <td>charles</td>\n",
              "      <td>2.4</td>\n",
              "      <td>NaN</td>\n",
              "    </tr>\n",
              "    <tr>\n",
              "      <th>five</th>\n",
              "      <td>2016</td>\n",
              "      <td>charles</td>\n",
              "      <td>2.9</td>\n",
              "      <td>NaN</td>\n",
              "    </tr>\n",
              "  </tbody>\n",
              "</table>\n",
              "</div>"
            ],
            "text/plain": [
              "       year     name  points penalty\n",
              "one    2014    kilho     1.5     NaN\n",
              "two    2015    kilho     1.7     NaN\n",
              "three  2016    kilho     3.6     NaN\n",
              "four   2015  charles     2.4     NaN\n",
              "five   2016  charles     2.9     NaN"
            ]
          },
          "metadata": {
            "tags": []
          },
          "execution_count": 20
        }
      ]
    },
    {
      "cell_type": "code",
      "metadata": {
        "id": "tRiNfsyJ90c6",
        "colab_type": "code",
        "colab": {
          "base_uri": "https://localhost:8080/",
          "height": 125
        },
        "outputId": "11c35cd0-ad43-4a2e-c036-304c91b80d21"
      },
      "source": [
        "'''\n",
        "  2-1. columns\n",
        "'''\n",
        "df['year'] # same expression : df.year"
      ],
      "execution_count": 21,
      "outputs": [
        {
          "output_type": "execute_result",
          "data": {
            "text/plain": [
              "one      2014\n",
              "two      2015\n",
              "three    2016\n",
              "four     2015\n",
              "five     2016\n",
              "Name: year, dtype: int64"
            ]
          },
          "metadata": {
            "tags": []
          },
          "execution_count": 21
        }
      ]
    },
    {
      "cell_type": "code",
      "metadata": {
        "id": "1lnzOKB_-B9F",
        "colab_type": "code",
        "colab": {
          "base_uri": "https://localhost:8080/",
          "height": 125
        },
        "outputId": "ae00561b-2e6a-4429-c821-b2edc4918146"
      },
      "source": [
        "df.year # same expression : df['year']"
      ],
      "execution_count": 22,
      "outputs": [
        {
          "output_type": "execute_result",
          "data": {
            "text/plain": [
              "one      2014\n",
              "two      2015\n",
              "three    2016\n",
              "four     2015\n",
              "five     2016\n",
              "Name: year, dtype: int64"
            ]
          },
          "metadata": {
            "tags": []
          },
          "execution_count": 22
        }
      ]
    },
    {
      "cell_type": "code",
      "metadata": {
        "id": "q9ZW_X9Q-E83",
        "colab_type": "code",
        "colab": {
          "base_uri": "https://localhost:8080/",
          "height": 204
        },
        "outputId": "908db961-9311-4513-d208-773f302ac0d6"
      },
      "source": [
        "df[['year', 'points']]"
      ],
      "execution_count": 23,
      "outputs": [
        {
          "output_type": "execute_result",
          "data": {
            "text/html": [
              "<div>\n",
              "<style scoped>\n",
              "    .dataframe tbody tr th:only-of-type {\n",
              "        vertical-align: middle;\n",
              "    }\n",
              "\n",
              "    .dataframe tbody tr th {\n",
              "        vertical-align: top;\n",
              "    }\n",
              "\n",
              "    .dataframe thead th {\n",
              "        text-align: right;\n",
              "    }\n",
              "</style>\n",
              "<table border=\"1\" class=\"dataframe\">\n",
              "  <thead>\n",
              "    <tr style=\"text-align: right;\">\n",
              "      <th></th>\n",
              "      <th>year</th>\n",
              "      <th>points</th>\n",
              "    </tr>\n",
              "  </thead>\n",
              "  <tbody>\n",
              "    <tr>\n",
              "      <th>one</th>\n",
              "      <td>2014</td>\n",
              "      <td>1.5</td>\n",
              "    </tr>\n",
              "    <tr>\n",
              "      <th>two</th>\n",
              "      <td>2015</td>\n",
              "      <td>1.7</td>\n",
              "    </tr>\n",
              "    <tr>\n",
              "      <th>three</th>\n",
              "      <td>2016</td>\n",
              "      <td>3.6</td>\n",
              "    </tr>\n",
              "    <tr>\n",
              "      <th>four</th>\n",
              "      <td>2015</td>\n",
              "      <td>2.4</td>\n",
              "    </tr>\n",
              "    <tr>\n",
              "      <th>five</th>\n",
              "      <td>2016</td>\n",
              "      <td>2.9</td>\n",
              "    </tr>\n",
              "  </tbody>\n",
              "</table>\n",
              "</div>"
            ],
            "text/plain": [
              "       year  points\n",
              "one    2014     1.5\n",
              "two    2015     1.7\n",
              "three  2016     3.6\n",
              "four   2015     2.4\n",
              "five   2016     2.9"
            ]
          },
          "metadata": {
            "tags": []
          },
          "execution_count": 23
        }
      ]
    },
    {
      "cell_type": "code",
      "metadata": {
        "id": "X6JIoOAs-Ox5",
        "colab_type": "code",
        "colab": {
          "base_uri": "https://localhost:8080/",
          "height": 204
        },
        "outputId": "ba889ee4-2f35-41ca-924b-8dbd5725ffeb"
      },
      "source": [
        "df['penalty'] = 0.5\n",
        "df"
      ],
      "execution_count": 24,
      "outputs": [
        {
          "output_type": "execute_result",
          "data": {
            "text/html": [
              "<div>\n",
              "<style scoped>\n",
              "    .dataframe tbody tr th:only-of-type {\n",
              "        vertical-align: middle;\n",
              "    }\n",
              "\n",
              "    .dataframe tbody tr th {\n",
              "        vertical-align: top;\n",
              "    }\n",
              "\n",
              "    .dataframe thead th {\n",
              "        text-align: right;\n",
              "    }\n",
              "</style>\n",
              "<table border=\"1\" class=\"dataframe\">\n",
              "  <thead>\n",
              "    <tr style=\"text-align: right;\">\n",
              "      <th></th>\n",
              "      <th>year</th>\n",
              "      <th>name</th>\n",
              "      <th>points</th>\n",
              "      <th>penalty</th>\n",
              "    </tr>\n",
              "  </thead>\n",
              "  <tbody>\n",
              "    <tr>\n",
              "      <th>one</th>\n",
              "      <td>2014</td>\n",
              "      <td>kilho</td>\n",
              "      <td>1.5</td>\n",
              "      <td>0.5</td>\n",
              "    </tr>\n",
              "    <tr>\n",
              "      <th>two</th>\n",
              "      <td>2015</td>\n",
              "      <td>kilho</td>\n",
              "      <td>1.7</td>\n",
              "      <td>0.5</td>\n",
              "    </tr>\n",
              "    <tr>\n",
              "      <th>three</th>\n",
              "      <td>2016</td>\n",
              "      <td>kilho</td>\n",
              "      <td>3.6</td>\n",
              "      <td>0.5</td>\n",
              "    </tr>\n",
              "    <tr>\n",
              "      <th>four</th>\n",
              "      <td>2015</td>\n",
              "      <td>charles</td>\n",
              "      <td>2.4</td>\n",
              "      <td>0.5</td>\n",
              "    </tr>\n",
              "    <tr>\n",
              "      <th>five</th>\n",
              "      <td>2016</td>\n",
              "      <td>charles</td>\n",
              "      <td>2.9</td>\n",
              "      <td>0.5</td>\n",
              "    </tr>\n",
              "  </tbody>\n",
              "</table>\n",
              "</div>"
            ],
            "text/plain": [
              "       year     name  points  penalty\n",
              "one    2014    kilho     1.5      0.5\n",
              "two    2015    kilho     1.7      0.5\n",
              "three  2016    kilho     3.6      0.5\n",
              "four   2015  charles     2.4      0.5\n",
              "five   2016  charles     2.9      0.5"
            ]
          },
          "metadata": {
            "tags": []
          },
          "execution_count": 24
        }
      ]
    },
    {
      "cell_type": "code",
      "metadata": {
        "id": "gF3rc4o1-SEn",
        "colab_type": "code",
        "colab": {
          "base_uri": "https://localhost:8080/",
          "height": 35
        },
        "outputId": "a56e6255-7fd4-44e8-bc62-622842674c6c"
      },
      "source": [
        "df.columns"
      ],
      "execution_count": 33,
      "outputs": [
        {
          "output_type": "execute_result",
          "data": {
            "text/plain": [
              "Index(['year', 'name', 'points', 'penalty', (0, 'penalty')], dtype='object')"
            ]
          },
          "metadata": {
            "tags": []
          },
          "execution_count": 33
        }
      ]
    },
    {
      "cell_type": "code",
      "metadata": {
        "id": "b-rSiQlV-Whp",
        "colab_type": "code",
        "colab": {
          "base_uri": "https://localhost:8080/",
          "height": 204
        },
        "outputId": "625758a6-7697-4d05-d764-7a30ade91ee6"
      },
      "source": [
        "df.drop((0, 'penalty'), axis=1, inplace=True)\n",
        "df"
      ],
      "execution_count": 34,
      "outputs": [
        {
          "output_type": "execute_result",
          "data": {
            "text/html": [
              "<div>\n",
              "<style scoped>\n",
              "    .dataframe tbody tr th:only-of-type {\n",
              "        vertical-align: middle;\n",
              "    }\n",
              "\n",
              "    .dataframe tbody tr th {\n",
              "        vertical-align: top;\n",
              "    }\n",
              "\n",
              "    .dataframe thead th {\n",
              "        text-align: right;\n",
              "    }\n",
              "</style>\n",
              "<table border=\"1\" class=\"dataframe\">\n",
              "  <thead>\n",
              "    <tr style=\"text-align: right;\">\n",
              "      <th></th>\n",
              "      <th>year</th>\n",
              "      <th>name</th>\n",
              "      <th>points</th>\n",
              "      <th>penalty</th>\n",
              "    </tr>\n",
              "  </thead>\n",
              "  <tbody>\n",
              "    <tr>\n",
              "      <th>one</th>\n",
              "      <td>2014</td>\n",
              "      <td>kilho</td>\n",
              "      <td>1.5</td>\n",
              "      <td>0.5</td>\n",
              "    </tr>\n",
              "    <tr>\n",
              "      <th>two</th>\n",
              "      <td>2015</td>\n",
              "      <td>kilho</td>\n",
              "      <td>1.7</td>\n",
              "      <td>0.5</td>\n",
              "    </tr>\n",
              "    <tr>\n",
              "      <th>three</th>\n",
              "      <td>2016</td>\n",
              "      <td>kilho</td>\n",
              "      <td>3.6</td>\n",
              "      <td>0.5</td>\n",
              "    </tr>\n",
              "    <tr>\n",
              "      <th>four</th>\n",
              "      <td>2015</td>\n",
              "      <td>charles</td>\n",
              "      <td>2.4</td>\n",
              "      <td>0.5</td>\n",
              "    </tr>\n",
              "    <tr>\n",
              "      <th>five</th>\n",
              "      <td>2016</td>\n",
              "      <td>charles</td>\n",
              "      <td>2.9</td>\n",
              "      <td>0.5</td>\n",
              "    </tr>\n",
              "  </tbody>\n",
              "</table>\n",
              "</div>"
            ],
            "text/plain": [
              "       year     name  points  penalty\n",
              "one    2014    kilho     1.5      0.5\n",
              "two    2015    kilho     1.7      0.5\n",
              "three  2016    kilho     3.6      0.5\n",
              "four   2015  charles     2.4      0.5\n",
              "five   2016  charles     2.9      0.5"
            ]
          },
          "metadata": {
            "tags": []
          },
          "execution_count": 34
        }
      ]
    },
    {
      "cell_type": "code",
      "metadata": {
        "id": "K9n3ZsGr_ALy",
        "colab_type": "code",
        "colab": {
          "base_uri": "https://localhost:8080/",
          "height": 204
        },
        "outputId": "fd0c77a3-39ff-444a-e467-d5cef6abbadf"
      },
      "source": [
        "df['penalty'] = [0.1, 0.2, 0.3, 0.4, 0.5]\n",
        "df"
      ],
      "execution_count": 35,
      "outputs": [
        {
          "output_type": "execute_result",
          "data": {
            "text/html": [
              "<div>\n",
              "<style scoped>\n",
              "    .dataframe tbody tr th:only-of-type {\n",
              "        vertical-align: middle;\n",
              "    }\n",
              "\n",
              "    .dataframe tbody tr th {\n",
              "        vertical-align: top;\n",
              "    }\n",
              "\n",
              "    .dataframe thead th {\n",
              "        text-align: right;\n",
              "    }\n",
              "</style>\n",
              "<table border=\"1\" class=\"dataframe\">\n",
              "  <thead>\n",
              "    <tr style=\"text-align: right;\">\n",
              "      <th></th>\n",
              "      <th>year</th>\n",
              "      <th>name</th>\n",
              "      <th>points</th>\n",
              "      <th>penalty</th>\n",
              "    </tr>\n",
              "  </thead>\n",
              "  <tbody>\n",
              "    <tr>\n",
              "      <th>one</th>\n",
              "      <td>2014</td>\n",
              "      <td>kilho</td>\n",
              "      <td>1.5</td>\n",
              "      <td>0.1</td>\n",
              "    </tr>\n",
              "    <tr>\n",
              "      <th>two</th>\n",
              "      <td>2015</td>\n",
              "      <td>kilho</td>\n",
              "      <td>1.7</td>\n",
              "      <td>0.2</td>\n",
              "    </tr>\n",
              "    <tr>\n",
              "      <th>three</th>\n",
              "      <td>2016</td>\n",
              "      <td>kilho</td>\n",
              "      <td>3.6</td>\n",
              "      <td>0.3</td>\n",
              "    </tr>\n",
              "    <tr>\n",
              "      <th>four</th>\n",
              "      <td>2015</td>\n",
              "      <td>charles</td>\n",
              "      <td>2.4</td>\n",
              "      <td>0.4</td>\n",
              "    </tr>\n",
              "    <tr>\n",
              "      <th>five</th>\n",
              "      <td>2016</td>\n",
              "      <td>charles</td>\n",
              "      <td>2.9</td>\n",
              "      <td>0.5</td>\n",
              "    </tr>\n",
              "  </tbody>\n",
              "</table>\n",
              "</div>"
            ],
            "text/plain": [
              "       year     name  points  penalty\n",
              "one    2014    kilho     1.5      0.1\n",
              "two    2015    kilho     1.7      0.2\n",
              "three  2016    kilho     3.6      0.3\n",
              "four   2015  charles     2.4      0.4\n",
              "five   2016  charles     2.9      0.5"
            ]
          },
          "metadata": {
            "tags": []
          },
          "execution_count": 35
        }
      ]
    },
    {
      "cell_type": "code",
      "metadata": {
        "id": "bmJYJ1wW_GQ3",
        "colab_type": "code",
        "colab": {
          "base_uri": "https://localhost:8080/",
          "height": 204
        },
        "outputId": "ee1d8d3c-d525-45f7-c5b1-5591b626c44f"
      },
      "source": [
        "df['zeros'] = np.arange(5)\n",
        "df"
      ],
      "execution_count": 36,
      "outputs": [
        {
          "output_type": "execute_result",
          "data": {
            "text/html": [
              "<div>\n",
              "<style scoped>\n",
              "    .dataframe tbody tr th:only-of-type {\n",
              "        vertical-align: middle;\n",
              "    }\n",
              "\n",
              "    .dataframe tbody tr th {\n",
              "        vertical-align: top;\n",
              "    }\n",
              "\n",
              "    .dataframe thead th {\n",
              "        text-align: right;\n",
              "    }\n",
              "</style>\n",
              "<table border=\"1\" class=\"dataframe\">\n",
              "  <thead>\n",
              "    <tr style=\"text-align: right;\">\n",
              "      <th></th>\n",
              "      <th>year</th>\n",
              "      <th>name</th>\n",
              "      <th>points</th>\n",
              "      <th>penalty</th>\n",
              "      <th>zeros</th>\n",
              "    </tr>\n",
              "  </thead>\n",
              "  <tbody>\n",
              "    <tr>\n",
              "      <th>one</th>\n",
              "      <td>2014</td>\n",
              "      <td>kilho</td>\n",
              "      <td>1.5</td>\n",
              "      <td>0.1</td>\n",
              "      <td>0</td>\n",
              "    </tr>\n",
              "    <tr>\n",
              "      <th>two</th>\n",
              "      <td>2015</td>\n",
              "      <td>kilho</td>\n",
              "      <td>1.7</td>\n",
              "      <td>0.2</td>\n",
              "      <td>1</td>\n",
              "    </tr>\n",
              "    <tr>\n",
              "      <th>three</th>\n",
              "      <td>2016</td>\n",
              "      <td>kilho</td>\n",
              "      <td>3.6</td>\n",
              "      <td>0.3</td>\n",
              "      <td>2</td>\n",
              "    </tr>\n",
              "    <tr>\n",
              "      <th>four</th>\n",
              "      <td>2015</td>\n",
              "      <td>charles</td>\n",
              "      <td>2.4</td>\n",
              "      <td>0.4</td>\n",
              "      <td>3</td>\n",
              "    </tr>\n",
              "    <tr>\n",
              "      <th>five</th>\n",
              "      <td>2016</td>\n",
              "      <td>charles</td>\n",
              "      <td>2.9</td>\n",
              "      <td>0.5</td>\n",
              "      <td>4</td>\n",
              "    </tr>\n",
              "  </tbody>\n",
              "</table>\n",
              "</div>"
            ],
            "text/plain": [
              "       year     name  points  penalty  zeros\n",
              "one    2014    kilho     1.5      0.1      0\n",
              "two    2015    kilho     1.7      0.2      1\n",
              "three  2016    kilho     3.6      0.3      2\n",
              "four   2015  charles     2.4      0.4      3\n",
              "five   2016  charles     2.9      0.5      4"
            ]
          },
          "metadata": {
            "tags": []
          },
          "execution_count": 36
        }
      ]
    },
    {
      "cell_type": "code",
      "metadata": {
        "id": "emnRAqT5_K_C",
        "colab_type": "code",
        "colab": {
          "base_uri": "https://localhost:8080/",
          "height": 204
        },
        "outputId": "2afceece-8cb6-42c9-e1af-efaa2314b7d7"
      },
      "source": [
        "val = pd.Series([-1.2, -1.5, -1.7], index=['two', 'four', 'five'])\n",
        "df['debt'] = val\n",
        "df"
      ],
      "execution_count": 37,
      "outputs": [
        {
          "output_type": "execute_result",
          "data": {
            "text/html": [
              "<div>\n",
              "<style scoped>\n",
              "    .dataframe tbody tr th:only-of-type {\n",
              "        vertical-align: middle;\n",
              "    }\n",
              "\n",
              "    .dataframe tbody tr th {\n",
              "        vertical-align: top;\n",
              "    }\n",
              "\n",
              "    .dataframe thead th {\n",
              "        text-align: right;\n",
              "    }\n",
              "</style>\n",
              "<table border=\"1\" class=\"dataframe\">\n",
              "  <thead>\n",
              "    <tr style=\"text-align: right;\">\n",
              "      <th></th>\n",
              "      <th>year</th>\n",
              "      <th>name</th>\n",
              "      <th>points</th>\n",
              "      <th>penalty</th>\n",
              "      <th>zeros</th>\n",
              "      <th>debt</th>\n",
              "    </tr>\n",
              "  </thead>\n",
              "  <tbody>\n",
              "    <tr>\n",
              "      <th>one</th>\n",
              "      <td>2014</td>\n",
              "      <td>kilho</td>\n",
              "      <td>1.5</td>\n",
              "      <td>0.1</td>\n",
              "      <td>0</td>\n",
              "      <td>NaN</td>\n",
              "    </tr>\n",
              "    <tr>\n",
              "      <th>two</th>\n",
              "      <td>2015</td>\n",
              "      <td>kilho</td>\n",
              "      <td>1.7</td>\n",
              "      <td>0.2</td>\n",
              "      <td>1</td>\n",
              "      <td>-1.2</td>\n",
              "    </tr>\n",
              "    <tr>\n",
              "      <th>three</th>\n",
              "      <td>2016</td>\n",
              "      <td>kilho</td>\n",
              "      <td>3.6</td>\n",
              "      <td>0.3</td>\n",
              "      <td>2</td>\n",
              "      <td>NaN</td>\n",
              "    </tr>\n",
              "    <tr>\n",
              "      <th>four</th>\n",
              "      <td>2015</td>\n",
              "      <td>charles</td>\n",
              "      <td>2.4</td>\n",
              "      <td>0.4</td>\n",
              "      <td>3</td>\n",
              "      <td>-1.5</td>\n",
              "    </tr>\n",
              "    <tr>\n",
              "      <th>five</th>\n",
              "      <td>2016</td>\n",
              "      <td>charles</td>\n",
              "      <td>2.9</td>\n",
              "      <td>0.5</td>\n",
              "      <td>4</td>\n",
              "      <td>-1.7</td>\n",
              "    </tr>\n",
              "  </tbody>\n",
              "</table>\n",
              "</div>"
            ],
            "text/plain": [
              "       year     name  points  penalty  zeros  debt\n",
              "one    2014    kilho     1.5      0.1      0   NaN\n",
              "two    2015    kilho     1.7      0.2      1  -1.2\n",
              "three  2016    kilho     3.6      0.3      2   NaN\n",
              "four   2015  charles     2.4      0.4      3  -1.5\n",
              "five   2016  charles     2.9      0.5      4  -1.7"
            ]
          },
          "metadata": {
            "tags": []
          },
          "execution_count": 37
        }
      ]
    },
    {
      "cell_type": "code",
      "metadata": {
        "id": "dqQZ4zKI_XUN",
        "colab_type": "code",
        "colab": {
          "base_uri": "https://localhost:8080/",
          "height": 204
        },
        "outputId": "4b5e9ef9-5069-4e2f-84aa-ebb5484d0bd3"
      },
      "source": [
        "df['net_points'] = df['points'] - df['penalty']\n",
        "df"
      ],
      "execution_count": 39,
      "outputs": [
        {
          "output_type": "execute_result",
          "data": {
            "text/html": [
              "<div>\n",
              "<style scoped>\n",
              "    .dataframe tbody tr th:only-of-type {\n",
              "        vertical-align: middle;\n",
              "    }\n",
              "\n",
              "    .dataframe tbody tr th {\n",
              "        vertical-align: top;\n",
              "    }\n",
              "\n",
              "    .dataframe thead th {\n",
              "        text-align: right;\n",
              "    }\n",
              "</style>\n",
              "<table border=\"1\" class=\"dataframe\">\n",
              "  <thead>\n",
              "    <tr style=\"text-align: right;\">\n",
              "      <th></th>\n",
              "      <th>year</th>\n",
              "      <th>name</th>\n",
              "      <th>points</th>\n",
              "      <th>penalty</th>\n",
              "      <th>zeros</th>\n",
              "      <th>debt</th>\n",
              "      <th>net_points</th>\n",
              "    </tr>\n",
              "  </thead>\n",
              "  <tbody>\n",
              "    <tr>\n",
              "      <th>one</th>\n",
              "      <td>2014</td>\n",
              "      <td>kilho</td>\n",
              "      <td>1.5</td>\n",
              "      <td>0.1</td>\n",
              "      <td>0</td>\n",
              "      <td>NaN</td>\n",
              "      <td>1.4</td>\n",
              "    </tr>\n",
              "    <tr>\n",
              "      <th>two</th>\n",
              "      <td>2015</td>\n",
              "      <td>kilho</td>\n",
              "      <td>1.7</td>\n",
              "      <td>0.2</td>\n",
              "      <td>1</td>\n",
              "      <td>-1.2</td>\n",
              "      <td>1.5</td>\n",
              "    </tr>\n",
              "    <tr>\n",
              "      <th>three</th>\n",
              "      <td>2016</td>\n",
              "      <td>kilho</td>\n",
              "      <td>3.6</td>\n",
              "      <td>0.3</td>\n",
              "      <td>2</td>\n",
              "      <td>NaN</td>\n",
              "      <td>3.3</td>\n",
              "    </tr>\n",
              "    <tr>\n",
              "      <th>four</th>\n",
              "      <td>2015</td>\n",
              "      <td>charles</td>\n",
              "      <td>2.4</td>\n",
              "      <td>0.4</td>\n",
              "      <td>3</td>\n",
              "      <td>-1.5</td>\n",
              "      <td>2.0</td>\n",
              "    </tr>\n",
              "    <tr>\n",
              "      <th>five</th>\n",
              "      <td>2016</td>\n",
              "      <td>charles</td>\n",
              "      <td>2.9</td>\n",
              "      <td>0.5</td>\n",
              "      <td>4</td>\n",
              "      <td>-1.7</td>\n",
              "      <td>2.4</td>\n",
              "    </tr>\n",
              "  </tbody>\n",
              "</table>\n",
              "</div>"
            ],
            "text/plain": [
              "       year     name  points  penalty  zeros  debt  net_points\n",
              "one    2014    kilho     1.5      0.1      0   NaN         1.4\n",
              "two    2015    kilho     1.7      0.2      1  -1.2         1.5\n",
              "three  2016    kilho     3.6      0.3      2   NaN         3.3\n",
              "four   2015  charles     2.4      0.4      3  -1.5         2.0\n",
              "five   2016  charles     2.9      0.5      4  -1.7         2.4"
            ]
          },
          "metadata": {
            "tags": []
          },
          "execution_count": 39
        }
      ]
    },
    {
      "cell_type": "code",
      "metadata": {
        "id": "zJgTB7Mj_ge3",
        "colab_type": "code",
        "colab": {
          "base_uri": "https://localhost:8080/",
          "height": 204
        },
        "outputId": "c1970623-2589-466a-ec37-8a607dd59631"
      },
      "source": [
        "df['high_points'] = df['net_points'] > 2.0\n",
        "df"
      ],
      "execution_count": 40,
      "outputs": [
        {
          "output_type": "execute_result",
          "data": {
            "text/html": [
              "<div>\n",
              "<style scoped>\n",
              "    .dataframe tbody tr th:only-of-type {\n",
              "        vertical-align: middle;\n",
              "    }\n",
              "\n",
              "    .dataframe tbody tr th {\n",
              "        vertical-align: top;\n",
              "    }\n",
              "\n",
              "    .dataframe thead th {\n",
              "        text-align: right;\n",
              "    }\n",
              "</style>\n",
              "<table border=\"1\" class=\"dataframe\">\n",
              "  <thead>\n",
              "    <tr style=\"text-align: right;\">\n",
              "      <th></th>\n",
              "      <th>year</th>\n",
              "      <th>name</th>\n",
              "      <th>points</th>\n",
              "      <th>penalty</th>\n",
              "      <th>zeros</th>\n",
              "      <th>debt</th>\n",
              "      <th>net_points</th>\n",
              "      <th>high_points</th>\n",
              "    </tr>\n",
              "  </thead>\n",
              "  <tbody>\n",
              "    <tr>\n",
              "      <th>one</th>\n",
              "      <td>2014</td>\n",
              "      <td>kilho</td>\n",
              "      <td>1.5</td>\n",
              "      <td>0.1</td>\n",
              "      <td>0</td>\n",
              "      <td>NaN</td>\n",
              "      <td>1.4</td>\n",
              "      <td>False</td>\n",
              "    </tr>\n",
              "    <tr>\n",
              "      <th>two</th>\n",
              "      <td>2015</td>\n",
              "      <td>kilho</td>\n",
              "      <td>1.7</td>\n",
              "      <td>0.2</td>\n",
              "      <td>1</td>\n",
              "      <td>-1.2</td>\n",
              "      <td>1.5</td>\n",
              "      <td>False</td>\n",
              "    </tr>\n",
              "    <tr>\n",
              "      <th>three</th>\n",
              "      <td>2016</td>\n",
              "      <td>kilho</td>\n",
              "      <td>3.6</td>\n",
              "      <td>0.3</td>\n",
              "      <td>2</td>\n",
              "      <td>NaN</td>\n",
              "      <td>3.3</td>\n",
              "      <td>True</td>\n",
              "    </tr>\n",
              "    <tr>\n",
              "      <th>four</th>\n",
              "      <td>2015</td>\n",
              "      <td>charles</td>\n",
              "      <td>2.4</td>\n",
              "      <td>0.4</td>\n",
              "      <td>3</td>\n",
              "      <td>-1.5</td>\n",
              "      <td>2.0</td>\n",
              "      <td>False</td>\n",
              "    </tr>\n",
              "    <tr>\n",
              "      <th>five</th>\n",
              "      <td>2016</td>\n",
              "      <td>charles</td>\n",
              "      <td>2.9</td>\n",
              "      <td>0.5</td>\n",
              "      <td>4</td>\n",
              "      <td>-1.7</td>\n",
              "      <td>2.4</td>\n",
              "      <td>True</td>\n",
              "    </tr>\n",
              "  </tbody>\n",
              "</table>\n",
              "</div>"
            ],
            "text/plain": [
              "       year     name  points  penalty  zeros  debt  net_points  high_points\n",
              "one    2014    kilho     1.5      0.1      0   NaN         1.4        False\n",
              "two    2015    kilho     1.7      0.2      1  -1.2         1.5        False\n",
              "three  2016    kilho     3.6      0.3      2   NaN         3.3         True\n",
              "four   2015  charles     2.4      0.4      3  -1.5         2.0        False\n",
              "five   2016  charles     2.9      0.5      4  -1.7         2.4         True"
            ]
          },
          "metadata": {
            "tags": []
          },
          "execution_count": 40
        }
      ]
    },
    {
      "cell_type": "code",
      "metadata": {
        "id": "foNk6FGS_yW_",
        "colab_type": "code",
        "colab": {
          "base_uri": "https://localhost:8080/",
          "height": 204
        },
        "outputId": "a00d305f-9f7f-4f22-b607-0f294016956e"
      },
      "source": [
        "del df['high_points'] # same expression : df.drop('high_points', axis=1, inplace=True)\n",
        "del df['net_points']\n",
        "del df['zeros']\n",
        "df"
      ],
      "execution_count": 41,
      "outputs": [
        {
          "output_type": "execute_result",
          "data": {
            "text/html": [
              "<div>\n",
              "<style scoped>\n",
              "    .dataframe tbody tr th:only-of-type {\n",
              "        vertical-align: middle;\n",
              "    }\n",
              "\n",
              "    .dataframe tbody tr th {\n",
              "        vertical-align: top;\n",
              "    }\n",
              "\n",
              "    .dataframe thead th {\n",
              "        text-align: right;\n",
              "    }\n",
              "</style>\n",
              "<table border=\"1\" class=\"dataframe\">\n",
              "  <thead>\n",
              "    <tr style=\"text-align: right;\">\n",
              "      <th></th>\n",
              "      <th>year</th>\n",
              "      <th>name</th>\n",
              "      <th>points</th>\n",
              "      <th>penalty</th>\n",
              "      <th>debt</th>\n",
              "    </tr>\n",
              "  </thead>\n",
              "  <tbody>\n",
              "    <tr>\n",
              "      <th>one</th>\n",
              "      <td>2014</td>\n",
              "      <td>kilho</td>\n",
              "      <td>1.5</td>\n",
              "      <td>0.1</td>\n",
              "      <td>NaN</td>\n",
              "    </tr>\n",
              "    <tr>\n",
              "      <th>two</th>\n",
              "      <td>2015</td>\n",
              "      <td>kilho</td>\n",
              "      <td>1.7</td>\n",
              "      <td>0.2</td>\n",
              "      <td>-1.2</td>\n",
              "    </tr>\n",
              "    <tr>\n",
              "      <th>three</th>\n",
              "      <td>2016</td>\n",
              "      <td>kilho</td>\n",
              "      <td>3.6</td>\n",
              "      <td>0.3</td>\n",
              "      <td>NaN</td>\n",
              "    </tr>\n",
              "    <tr>\n",
              "      <th>four</th>\n",
              "      <td>2015</td>\n",
              "      <td>charles</td>\n",
              "      <td>2.4</td>\n",
              "      <td>0.4</td>\n",
              "      <td>-1.5</td>\n",
              "    </tr>\n",
              "    <tr>\n",
              "      <th>five</th>\n",
              "      <td>2016</td>\n",
              "      <td>charles</td>\n",
              "      <td>2.9</td>\n",
              "      <td>0.5</td>\n",
              "      <td>-1.7</td>\n",
              "    </tr>\n",
              "  </tbody>\n",
              "</table>\n",
              "</div>"
            ],
            "text/plain": [
              "       year     name  points  penalty  debt\n",
              "one    2014    kilho     1.5      0.1   NaN\n",
              "two    2015    kilho     1.7      0.2  -1.2\n",
              "three  2016    kilho     3.6      0.3   NaN\n",
              "four   2015  charles     2.4      0.4  -1.5\n",
              "five   2016  charles     2.9      0.5  -1.7"
            ]
          },
          "metadata": {
            "tags": []
          },
          "execution_count": 41
        }
      ]
    },
    {
      "cell_type": "code",
      "metadata": {
        "id": "8EppopOK_6AN",
        "colab_type": "code",
        "colab": {
          "base_uri": "https://localhost:8080/",
          "height": 35
        },
        "outputId": "58df482d-55e0-4113-ff8f-e4e50611d3f8"
      },
      "source": [
        "df.columns"
      ],
      "execution_count": 42,
      "outputs": [
        {
          "output_type": "execute_result",
          "data": {
            "text/plain": [
              "Index(['year', 'name', 'points', 'penalty', 'debt'], dtype='object')"
            ]
          },
          "metadata": {
            "tags": []
          },
          "execution_count": 42
        }
      ]
    },
    {
      "cell_type": "code",
      "metadata": {
        "id": "p-HVDNeAAGOc",
        "colab_type": "code",
        "colab": {
          "base_uri": "https://localhost:8080/",
          "height": 235
        },
        "outputId": "a361a483-fdbb-4900-a013-318efa9e851f"
      },
      "source": [
        "df.index.name = 'order'\n",
        "df.columns.name = 'info'\n",
        "df"
      ],
      "execution_count": 43,
      "outputs": [
        {
          "output_type": "execute_result",
          "data": {
            "text/html": [
              "<div>\n",
              "<style scoped>\n",
              "    .dataframe tbody tr th:only-of-type {\n",
              "        vertical-align: middle;\n",
              "    }\n",
              "\n",
              "    .dataframe tbody tr th {\n",
              "        vertical-align: top;\n",
              "    }\n",
              "\n",
              "    .dataframe thead th {\n",
              "        text-align: right;\n",
              "    }\n",
              "</style>\n",
              "<table border=\"1\" class=\"dataframe\">\n",
              "  <thead>\n",
              "    <tr style=\"text-align: right;\">\n",
              "      <th>info</th>\n",
              "      <th>year</th>\n",
              "      <th>name</th>\n",
              "      <th>points</th>\n",
              "      <th>penalty</th>\n",
              "      <th>debt</th>\n",
              "    </tr>\n",
              "    <tr>\n",
              "      <th>order</th>\n",
              "      <th></th>\n",
              "      <th></th>\n",
              "      <th></th>\n",
              "      <th></th>\n",
              "      <th></th>\n",
              "    </tr>\n",
              "  </thead>\n",
              "  <tbody>\n",
              "    <tr>\n",
              "      <th>one</th>\n",
              "      <td>2014</td>\n",
              "      <td>kilho</td>\n",
              "      <td>1.5</td>\n",
              "      <td>0.1</td>\n",
              "      <td>NaN</td>\n",
              "    </tr>\n",
              "    <tr>\n",
              "      <th>two</th>\n",
              "      <td>2015</td>\n",
              "      <td>kilho</td>\n",
              "      <td>1.7</td>\n",
              "      <td>0.2</td>\n",
              "      <td>-1.2</td>\n",
              "    </tr>\n",
              "    <tr>\n",
              "      <th>three</th>\n",
              "      <td>2016</td>\n",
              "      <td>kilho</td>\n",
              "      <td>3.6</td>\n",
              "      <td>0.3</td>\n",
              "      <td>NaN</td>\n",
              "    </tr>\n",
              "    <tr>\n",
              "      <th>four</th>\n",
              "      <td>2015</td>\n",
              "      <td>charles</td>\n",
              "      <td>2.4</td>\n",
              "      <td>0.4</td>\n",
              "      <td>-1.5</td>\n",
              "    </tr>\n",
              "    <tr>\n",
              "      <th>five</th>\n",
              "      <td>2016</td>\n",
              "      <td>charles</td>\n",
              "      <td>2.9</td>\n",
              "      <td>0.5</td>\n",
              "      <td>-1.7</td>\n",
              "    </tr>\n",
              "  </tbody>\n",
              "</table>\n",
              "</div>"
            ],
            "text/plain": [
              "info   year     name  points  penalty  debt\n",
              "order                                      \n",
              "one    2014    kilho     1.5      0.1   NaN\n",
              "two    2015    kilho     1.7      0.2  -1.2\n",
              "three  2016    kilho     3.6      0.3   NaN\n",
              "four   2015  charles     2.4      0.4  -1.5\n",
              "five   2016  charles     2.9      0.5  -1.7"
            ]
          },
          "metadata": {
            "tags": []
          },
          "execution_count": 43
        }
      ]
    },
    {
      "cell_type": "code",
      "metadata": {
        "id": "8TKw1QyTAKkG",
        "colab_type": "code",
        "colab": {
          "base_uri": "https://localhost:8080/",
          "height": 173
        },
        "outputId": "3e214c20-3d14-414c-ab48-4b1c987a13b4"
      },
      "source": [
        "'''\n",
        "  2-2. row(index)\n",
        "'''\n",
        "df[0:3] # exclusive"
      ],
      "execution_count": 44,
      "outputs": [
        {
          "output_type": "execute_result",
          "data": {
            "text/html": [
              "<div>\n",
              "<style scoped>\n",
              "    .dataframe tbody tr th:only-of-type {\n",
              "        vertical-align: middle;\n",
              "    }\n",
              "\n",
              "    .dataframe tbody tr th {\n",
              "        vertical-align: top;\n",
              "    }\n",
              "\n",
              "    .dataframe thead th {\n",
              "        text-align: right;\n",
              "    }\n",
              "</style>\n",
              "<table border=\"1\" class=\"dataframe\">\n",
              "  <thead>\n",
              "    <tr style=\"text-align: right;\">\n",
              "      <th>info</th>\n",
              "      <th>year</th>\n",
              "      <th>name</th>\n",
              "      <th>points</th>\n",
              "      <th>penalty</th>\n",
              "      <th>debt</th>\n",
              "    </tr>\n",
              "    <tr>\n",
              "      <th>order</th>\n",
              "      <th></th>\n",
              "      <th></th>\n",
              "      <th></th>\n",
              "      <th></th>\n",
              "      <th></th>\n",
              "    </tr>\n",
              "  </thead>\n",
              "  <tbody>\n",
              "    <tr>\n",
              "      <th>one</th>\n",
              "      <td>2014</td>\n",
              "      <td>kilho</td>\n",
              "      <td>1.5</td>\n",
              "      <td>0.1</td>\n",
              "      <td>NaN</td>\n",
              "    </tr>\n",
              "    <tr>\n",
              "      <th>two</th>\n",
              "      <td>2015</td>\n",
              "      <td>kilho</td>\n",
              "      <td>1.7</td>\n",
              "      <td>0.2</td>\n",
              "      <td>-1.2</td>\n",
              "    </tr>\n",
              "    <tr>\n",
              "      <th>three</th>\n",
              "      <td>2016</td>\n",
              "      <td>kilho</td>\n",
              "      <td>3.6</td>\n",
              "      <td>0.3</td>\n",
              "      <td>NaN</td>\n",
              "    </tr>\n",
              "  </tbody>\n",
              "</table>\n",
              "</div>"
            ],
            "text/plain": [
              "info   year   name  points  penalty  debt\n",
              "order                                    \n",
              "one    2014  kilho     1.5      0.1   NaN\n",
              "two    2015  kilho     1.7      0.2  -1.2\n",
              "three  2016  kilho     3.6      0.3   NaN"
            ]
          },
          "metadata": {
            "tags": []
          },
          "execution_count": 44
        }
      ]
    },
    {
      "cell_type": "code",
      "metadata": {
        "id": "qUjNjVYnAlGu",
        "colab_type": "code",
        "colab": {
          "base_uri": "https://localhost:8080/",
          "height": 173
        },
        "outputId": "6a98034d-32bf-473d-9504-b1afe286f773"
      },
      "source": [
        "df['one':'three'] # inclusive"
      ],
      "execution_count": 45,
      "outputs": [
        {
          "output_type": "execute_result",
          "data": {
            "text/html": [
              "<div>\n",
              "<style scoped>\n",
              "    .dataframe tbody tr th:only-of-type {\n",
              "        vertical-align: middle;\n",
              "    }\n",
              "\n",
              "    .dataframe tbody tr th {\n",
              "        vertical-align: top;\n",
              "    }\n",
              "\n",
              "    .dataframe thead th {\n",
              "        text-align: right;\n",
              "    }\n",
              "</style>\n",
              "<table border=\"1\" class=\"dataframe\">\n",
              "  <thead>\n",
              "    <tr style=\"text-align: right;\">\n",
              "      <th>info</th>\n",
              "      <th>year</th>\n",
              "      <th>name</th>\n",
              "      <th>points</th>\n",
              "      <th>penalty</th>\n",
              "      <th>debt</th>\n",
              "    </tr>\n",
              "    <tr>\n",
              "      <th>order</th>\n",
              "      <th></th>\n",
              "      <th></th>\n",
              "      <th></th>\n",
              "      <th></th>\n",
              "      <th></th>\n",
              "    </tr>\n",
              "  </thead>\n",
              "  <tbody>\n",
              "    <tr>\n",
              "      <th>one</th>\n",
              "      <td>2014</td>\n",
              "      <td>kilho</td>\n",
              "      <td>1.5</td>\n",
              "      <td>0.1</td>\n",
              "      <td>NaN</td>\n",
              "    </tr>\n",
              "    <tr>\n",
              "      <th>two</th>\n",
              "      <td>2015</td>\n",
              "      <td>kilho</td>\n",
              "      <td>1.7</td>\n",
              "      <td>0.2</td>\n",
              "      <td>-1.2</td>\n",
              "    </tr>\n",
              "    <tr>\n",
              "      <th>three</th>\n",
              "      <td>2016</td>\n",
              "      <td>kilho</td>\n",
              "      <td>3.6</td>\n",
              "      <td>0.3</td>\n",
              "      <td>NaN</td>\n",
              "    </tr>\n",
              "  </tbody>\n",
              "</table>\n",
              "</div>"
            ],
            "text/plain": [
              "info   year   name  points  penalty  debt\n",
              "order                                    \n",
              "one    2014  kilho     1.5      0.1   NaN\n",
              "two    2015  kilho     1.7      0.2  -1.2\n",
              "three  2016  kilho     3.6      0.3   NaN"
            ]
          },
          "metadata": {
            "tags": []
          },
          "execution_count": 45
        }
      ]
    },
    {
      "cell_type": "code",
      "metadata": {
        "id": "9e9rhg1KApqI",
        "colab_type": "code",
        "colab": {
          "base_uri": "https://localhost:8080/",
          "height": 143
        },
        "outputId": "c0562ea2-5d0a-4cec-acdc-ebc5a7672fd6"
      },
      "source": [
        "# recommended method : using loc, iloc\n",
        "# loc : using 'name of columns'\n",
        "# iloc : using number of index\n",
        "\n",
        "\n",
        "# loc\n",
        "df.loc['two'] # return Series "
      ],
      "execution_count": 46,
      "outputs": [
        {
          "output_type": "execute_result",
          "data": {
            "text/plain": [
              "info\n",
              "year        2015\n",
              "name       kilho\n",
              "points       1.7\n",
              "penalty      0.2\n",
              "debt        -1.2\n",
              "Name: two, dtype: object"
            ]
          },
          "metadata": {
            "tags": []
          },
          "execution_count": 46
        }
      ]
    },
    {
      "cell_type": "code",
      "metadata": {
        "id": "y6x8VnXXBEyw",
        "colab_type": "code",
        "colab": {
          "base_uri": "https://localhost:8080/",
          "height": 173
        },
        "outputId": "c383e333-af19-40bb-c75e-5157f9dae34b"
      },
      "source": [
        "df.loc['two':'four']"
      ],
      "execution_count": 47,
      "outputs": [
        {
          "output_type": "execute_result",
          "data": {
            "text/html": [
              "<div>\n",
              "<style scoped>\n",
              "    .dataframe tbody tr th:only-of-type {\n",
              "        vertical-align: middle;\n",
              "    }\n",
              "\n",
              "    .dataframe tbody tr th {\n",
              "        vertical-align: top;\n",
              "    }\n",
              "\n",
              "    .dataframe thead th {\n",
              "        text-align: right;\n",
              "    }\n",
              "</style>\n",
              "<table border=\"1\" class=\"dataframe\">\n",
              "  <thead>\n",
              "    <tr style=\"text-align: right;\">\n",
              "      <th>info</th>\n",
              "      <th>year</th>\n",
              "      <th>name</th>\n",
              "      <th>points</th>\n",
              "      <th>penalty</th>\n",
              "      <th>debt</th>\n",
              "    </tr>\n",
              "    <tr>\n",
              "      <th>order</th>\n",
              "      <th></th>\n",
              "      <th></th>\n",
              "      <th></th>\n",
              "      <th></th>\n",
              "      <th></th>\n",
              "    </tr>\n",
              "  </thead>\n",
              "  <tbody>\n",
              "    <tr>\n",
              "      <th>two</th>\n",
              "      <td>2015</td>\n",
              "      <td>kilho</td>\n",
              "      <td>1.7</td>\n",
              "      <td>0.2</td>\n",
              "      <td>-1.2</td>\n",
              "    </tr>\n",
              "    <tr>\n",
              "      <th>three</th>\n",
              "      <td>2016</td>\n",
              "      <td>kilho</td>\n",
              "      <td>3.6</td>\n",
              "      <td>0.3</td>\n",
              "      <td>NaN</td>\n",
              "    </tr>\n",
              "    <tr>\n",
              "      <th>four</th>\n",
              "      <td>2015</td>\n",
              "      <td>charles</td>\n",
              "      <td>2.4</td>\n",
              "      <td>0.4</td>\n",
              "      <td>-1.5</td>\n",
              "    </tr>\n",
              "  </tbody>\n",
              "</table>\n",
              "</div>"
            ],
            "text/plain": [
              "info   year     name  points  penalty  debt\n",
              "order                                      \n",
              "two    2015    kilho     1.7      0.2  -1.2\n",
              "three  2016    kilho     3.6      0.3   NaN\n",
              "four   2015  charles     2.4      0.4  -1.5"
            ]
          },
          "metadata": {
            "tags": []
          },
          "execution_count": 47
        }
      ]
    },
    {
      "cell_type": "code",
      "metadata": {
        "id": "jDAcILnoBLLM",
        "colab_type": "code",
        "colab": {
          "base_uri": "https://localhost:8080/",
          "height": 107
        },
        "outputId": "579f028d-1c62-4f21-97aa-c499aedee216"
      },
      "source": [
        "df.loc['two':'four', 'points']"
      ],
      "execution_count": 48,
      "outputs": [
        {
          "output_type": "execute_result",
          "data": {
            "text/plain": [
              "order\n",
              "two      1.7\n",
              "three    3.6\n",
              "four     2.4\n",
              "Name: points, dtype: float64"
            ]
          },
          "metadata": {
            "tags": []
          },
          "execution_count": 48
        }
      ]
    },
    {
      "cell_type": "code",
      "metadata": {
        "id": "CIo4XonMBPpu",
        "colab_type": "code",
        "colab": {
          "base_uri": "https://localhost:8080/",
          "height": 143
        },
        "outputId": "ae83de57-6d1f-4e94-f729-80c2415d8ffd"
      },
      "source": [
        "df.loc[:, 'year'] # same expression : df['year']"
      ],
      "execution_count": 49,
      "outputs": [
        {
          "output_type": "execute_result",
          "data": {
            "text/plain": [
              "order\n",
              "one      2014\n",
              "two      2015\n",
              "three    2016\n",
              "four     2015\n",
              "five     2016\n",
              "Name: year, dtype: int64"
            ]
          },
          "metadata": {
            "tags": []
          },
          "execution_count": 49
        }
      ]
    },
    {
      "cell_type": "code",
      "metadata": {
        "id": "iqQl9iCsBTFP",
        "colab_type": "code",
        "colab": {
          "base_uri": "https://localhost:8080/",
          "height": 235
        },
        "outputId": "84381a6f-2a07-4ca3-b289-ff58ad57866a"
      },
      "source": [
        "df.loc[:, ['year', 'name']]"
      ],
      "execution_count": 52,
      "outputs": [
        {
          "output_type": "execute_result",
          "data": {
            "text/html": [
              "<div>\n",
              "<style scoped>\n",
              "    .dataframe tbody tr th:only-of-type {\n",
              "        vertical-align: middle;\n",
              "    }\n",
              "\n",
              "    .dataframe tbody tr th {\n",
              "        vertical-align: top;\n",
              "    }\n",
              "\n",
              "    .dataframe thead th {\n",
              "        text-align: right;\n",
              "    }\n",
              "</style>\n",
              "<table border=\"1\" class=\"dataframe\">\n",
              "  <thead>\n",
              "    <tr style=\"text-align: right;\">\n",
              "      <th>info</th>\n",
              "      <th>year</th>\n",
              "      <th>name</th>\n",
              "    </tr>\n",
              "    <tr>\n",
              "      <th>order</th>\n",
              "      <th></th>\n",
              "      <th></th>\n",
              "    </tr>\n",
              "  </thead>\n",
              "  <tbody>\n",
              "    <tr>\n",
              "      <th>one</th>\n",
              "      <td>2014</td>\n",
              "      <td>kilho</td>\n",
              "    </tr>\n",
              "    <tr>\n",
              "      <th>two</th>\n",
              "      <td>2015</td>\n",
              "      <td>kilho</td>\n",
              "    </tr>\n",
              "    <tr>\n",
              "      <th>three</th>\n",
              "      <td>2016</td>\n",
              "      <td>kilho</td>\n",
              "    </tr>\n",
              "    <tr>\n",
              "      <th>four</th>\n",
              "      <td>2015</td>\n",
              "      <td>charles</td>\n",
              "    </tr>\n",
              "    <tr>\n",
              "      <th>five</th>\n",
              "      <td>2016</td>\n",
              "      <td>charles</td>\n",
              "    </tr>\n",
              "  </tbody>\n",
              "</table>\n",
              "</div>"
            ],
            "text/plain": [
              "info   year     name\n",
              "order               \n",
              "one    2014    kilho\n",
              "two    2015    kilho\n",
              "three  2016    kilho\n",
              "four   2015  charles\n",
              "five   2016  charles"
            ]
          },
          "metadata": {
            "tags": []
          },
          "execution_count": 52
        }
      ]
    },
    {
      "cell_type": "code",
      "metadata": {
        "id": "RgwHq91cBZTD",
        "colab_type": "code",
        "colab": {
          "base_uri": "https://localhost:8080/",
          "height": 173
        },
        "outputId": "1cc182f3-f324-424d-d45f-8f5091fd1748"
      },
      "source": [
        "df.loc['three':'five', 'year':'penalty']"
      ],
      "execution_count": 53,
      "outputs": [
        {
          "output_type": "execute_result",
          "data": {
            "text/html": [
              "<div>\n",
              "<style scoped>\n",
              "    .dataframe tbody tr th:only-of-type {\n",
              "        vertical-align: middle;\n",
              "    }\n",
              "\n",
              "    .dataframe tbody tr th {\n",
              "        vertical-align: top;\n",
              "    }\n",
              "\n",
              "    .dataframe thead th {\n",
              "        text-align: right;\n",
              "    }\n",
              "</style>\n",
              "<table border=\"1\" class=\"dataframe\">\n",
              "  <thead>\n",
              "    <tr style=\"text-align: right;\">\n",
              "      <th>info</th>\n",
              "      <th>year</th>\n",
              "      <th>name</th>\n",
              "      <th>points</th>\n",
              "      <th>penalty</th>\n",
              "    </tr>\n",
              "    <tr>\n",
              "      <th>order</th>\n",
              "      <th></th>\n",
              "      <th></th>\n",
              "      <th></th>\n",
              "      <th></th>\n",
              "    </tr>\n",
              "  </thead>\n",
              "  <tbody>\n",
              "    <tr>\n",
              "      <th>three</th>\n",
              "      <td>2016</td>\n",
              "      <td>kilho</td>\n",
              "      <td>3.6</td>\n",
              "      <td>0.3</td>\n",
              "    </tr>\n",
              "    <tr>\n",
              "      <th>four</th>\n",
              "      <td>2015</td>\n",
              "      <td>charles</td>\n",
              "      <td>2.4</td>\n",
              "      <td>0.4</td>\n",
              "    </tr>\n",
              "    <tr>\n",
              "      <th>five</th>\n",
              "      <td>2016</td>\n",
              "      <td>charles</td>\n",
              "      <td>2.9</td>\n",
              "      <td>0.5</td>\n",
              "    </tr>\n",
              "  </tbody>\n",
              "</table>\n",
              "</div>"
            ],
            "text/plain": [
              "info   year     name  points  penalty\n",
              "order                                \n",
              "three  2016    kilho     3.6      0.3\n",
              "four   2015  charles     2.4      0.4\n",
              "five   2016  charles     2.9      0.5"
            ]
          },
          "metadata": {
            "tags": []
          },
          "execution_count": 53
        }
      ]
    },
    {
      "cell_type": "code",
      "metadata": {
        "id": "afGr8bP9Bqhq",
        "colab_type": "code",
        "colab": {
          "base_uri": "https://localhost:8080/",
          "height": 266
        },
        "outputId": "894bbfef-ec83-4a81-bbe2-5ee8d8a77c3b"
      },
      "source": [
        "df.loc['six', :] = [2013, 'jun', 4.0, 0.1, 2.1]\n",
        "df"
      ],
      "execution_count": 55,
      "outputs": [
        {
          "output_type": "execute_result",
          "data": {
            "text/html": [
              "<div>\n",
              "<style scoped>\n",
              "    .dataframe tbody tr th:only-of-type {\n",
              "        vertical-align: middle;\n",
              "    }\n",
              "\n",
              "    .dataframe tbody tr th {\n",
              "        vertical-align: top;\n",
              "    }\n",
              "\n",
              "    .dataframe thead th {\n",
              "        text-align: right;\n",
              "    }\n",
              "</style>\n",
              "<table border=\"1\" class=\"dataframe\">\n",
              "  <thead>\n",
              "    <tr style=\"text-align: right;\">\n",
              "      <th>info</th>\n",
              "      <th>year</th>\n",
              "      <th>name</th>\n",
              "      <th>points</th>\n",
              "      <th>penalty</th>\n",
              "      <th>debt</th>\n",
              "    </tr>\n",
              "    <tr>\n",
              "      <th>order</th>\n",
              "      <th></th>\n",
              "      <th></th>\n",
              "      <th></th>\n",
              "      <th></th>\n",
              "      <th></th>\n",
              "    </tr>\n",
              "  </thead>\n",
              "  <tbody>\n",
              "    <tr>\n",
              "      <th>one</th>\n",
              "      <td>2014.0</td>\n",
              "      <td>kilho</td>\n",
              "      <td>1.5</td>\n",
              "      <td>0.1</td>\n",
              "      <td>NaN</td>\n",
              "    </tr>\n",
              "    <tr>\n",
              "      <th>two</th>\n",
              "      <td>2015.0</td>\n",
              "      <td>kilho</td>\n",
              "      <td>1.7</td>\n",
              "      <td>0.2</td>\n",
              "      <td>-1.2</td>\n",
              "    </tr>\n",
              "    <tr>\n",
              "      <th>three</th>\n",
              "      <td>2016.0</td>\n",
              "      <td>kilho</td>\n",
              "      <td>3.6</td>\n",
              "      <td>0.3</td>\n",
              "      <td>NaN</td>\n",
              "    </tr>\n",
              "    <tr>\n",
              "      <th>four</th>\n",
              "      <td>2015.0</td>\n",
              "      <td>charles</td>\n",
              "      <td>2.4</td>\n",
              "      <td>0.4</td>\n",
              "      <td>-1.5</td>\n",
              "    </tr>\n",
              "    <tr>\n",
              "      <th>five</th>\n",
              "      <td>2016.0</td>\n",
              "      <td>charles</td>\n",
              "      <td>2.9</td>\n",
              "      <td>0.5</td>\n",
              "      <td>-1.7</td>\n",
              "    </tr>\n",
              "    <tr>\n",
              "      <th>six</th>\n",
              "      <td>2013.0</td>\n",
              "      <td>jun</td>\n",
              "      <td>4.0</td>\n",
              "      <td>0.1</td>\n",
              "      <td>2.1</td>\n",
              "    </tr>\n",
              "  </tbody>\n",
              "</table>\n",
              "</div>"
            ],
            "text/plain": [
              "info     year     name  points  penalty  debt\n",
              "order                                        \n",
              "one    2014.0    kilho     1.5      0.1   NaN\n",
              "two    2015.0    kilho     1.7      0.2  -1.2\n",
              "three  2016.0    kilho     3.6      0.3   NaN\n",
              "four   2015.0  charles     2.4      0.4  -1.5\n",
              "five   2016.0  charles     2.9      0.5  -1.7\n",
              "six    2013.0      jun     4.0      0.1   2.1"
            ]
          },
          "metadata": {
            "tags": []
          },
          "execution_count": 55
        }
      ]
    },
    {
      "cell_type": "code",
      "metadata": {
        "id": "luPh-bQlCNLZ",
        "colab_type": "code",
        "colab": {
          "base_uri": "https://localhost:8080/",
          "height": 143
        },
        "outputId": "b41df384-c9c0-42bb-ca57-e4596a40da2d"
      },
      "source": [
        "# iloc\n",
        "\n",
        "df.iloc[3]"
      ],
      "execution_count": 56,
      "outputs": [
        {
          "output_type": "execute_result",
          "data": {
            "text/plain": [
              "info\n",
              "year          2015\n",
              "name       charles\n",
              "points         2.4\n",
              "penalty        0.4\n",
              "debt          -1.5\n",
              "Name: four, dtype: object"
            ]
          },
          "metadata": {
            "tags": []
          },
          "execution_count": 56
        }
      ]
    },
    {
      "cell_type": "code",
      "metadata": {
        "id": "ej2gLa6mCxx9",
        "colab_type": "code",
        "colab": {
          "base_uri": "https://localhost:8080/",
          "height": 142
        },
        "outputId": "20db94e0-7422-49f0-efb4-b5e9150809f1"
      },
      "source": [
        "df.iloc[3:5, 0:2]"
      ],
      "execution_count": 57,
      "outputs": [
        {
          "output_type": "execute_result",
          "data": {
            "text/html": [
              "<div>\n",
              "<style scoped>\n",
              "    .dataframe tbody tr th:only-of-type {\n",
              "        vertical-align: middle;\n",
              "    }\n",
              "\n",
              "    .dataframe tbody tr th {\n",
              "        vertical-align: top;\n",
              "    }\n",
              "\n",
              "    .dataframe thead th {\n",
              "        text-align: right;\n",
              "    }\n",
              "</style>\n",
              "<table border=\"1\" class=\"dataframe\">\n",
              "  <thead>\n",
              "    <tr style=\"text-align: right;\">\n",
              "      <th>info</th>\n",
              "      <th>year</th>\n",
              "      <th>name</th>\n",
              "    </tr>\n",
              "    <tr>\n",
              "      <th>order</th>\n",
              "      <th></th>\n",
              "      <th></th>\n",
              "    </tr>\n",
              "  </thead>\n",
              "  <tbody>\n",
              "    <tr>\n",
              "      <th>four</th>\n",
              "      <td>2015.0</td>\n",
              "      <td>charles</td>\n",
              "    </tr>\n",
              "    <tr>\n",
              "      <th>five</th>\n",
              "      <td>2016.0</td>\n",
              "      <td>charles</td>\n",
              "    </tr>\n",
              "  </tbody>\n",
              "</table>\n",
              "</div>"
            ],
            "text/plain": [
              "info     year     name\n",
              "order                 \n",
              "four   2015.0  charles\n",
              "five   2016.0  charles"
            ]
          },
          "metadata": {
            "tags": []
          },
          "execution_count": 57
        }
      ]
    },
    {
      "cell_type": "code",
      "metadata": {
        "id": "fHaY7ILvFWU8",
        "colab_type": "code",
        "colab": {
          "base_uri": "https://localhost:8080/",
          "height": 173
        },
        "outputId": "b020a349-da40-4e10-c9be-7e14009d0ed5"
      },
      "source": [
        "df.iloc[[0, 1, 3], [1, 2]]"
      ],
      "execution_count": 58,
      "outputs": [
        {
          "output_type": "execute_result",
          "data": {
            "text/html": [
              "<div>\n",
              "<style scoped>\n",
              "    .dataframe tbody tr th:only-of-type {\n",
              "        vertical-align: middle;\n",
              "    }\n",
              "\n",
              "    .dataframe tbody tr th {\n",
              "        vertical-align: top;\n",
              "    }\n",
              "\n",
              "    .dataframe thead th {\n",
              "        text-align: right;\n",
              "    }\n",
              "</style>\n",
              "<table border=\"1\" class=\"dataframe\">\n",
              "  <thead>\n",
              "    <tr style=\"text-align: right;\">\n",
              "      <th>info</th>\n",
              "      <th>name</th>\n",
              "      <th>points</th>\n",
              "    </tr>\n",
              "    <tr>\n",
              "      <th>order</th>\n",
              "      <th></th>\n",
              "      <th></th>\n",
              "    </tr>\n",
              "  </thead>\n",
              "  <tbody>\n",
              "    <tr>\n",
              "      <th>one</th>\n",
              "      <td>kilho</td>\n",
              "      <td>1.5</td>\n",
              "    </tr>\n",
              "    <tr>\n",
              "      <th>two</th>\n",
              "      <td>kilho</td>\n",
              "      <td>1.7</td>\n",
              "    </tr>\n",
              "    <tr>\n",
              "      <th>four</th>\n",
              "      <td>charles</td>\n",
              "      <td>2.4</td>\n",
              "    </tr>\n",
              "  </tbody>\n",
              "</table>\n",
              "</div>"
            ],
            "text/plain": [
              "info      name  points\n",
              "order                 \n",
              "one      kilho     1.5\n",
              "two      kilho     1.7\n",
              "four   charles     2.4"
            ]
          },
          "metadata": {
            "tags": []
          },
          "execution_count": 58
        }
      ]
    },
    {
      "cell_type": "code",
      "metadata": {
        "id": "7dGZIhfDFaUM",
        "colab_type": "code",
        "colab": {
          "base_uri": "https://localhost:8080/",
          "height": 266
        },
        "outputId": "eb4d2c3e-4ba1-4e1c-d2ba-2032630833d9"
      },
      "source": [
        "df.iloc[:, 1:4]"
      ],
      "execution_count": 59,
      "outputs": [
        {
          "output_type": "execute_result",
          "data": {
            "text/html": [
              "<div>\n",
              "<style scoped>\n",
              "    .dataframe tbody tr th:only-of-type {\n",
              "        vertical-align: middle;\n",
              "    }\n",
              "\n",
              "    .dataframe tbody tr th {\n",
              "        vertical-align: top;\n",
              "    }\n",
              "\n",
              "    .dataframe thead th {\n",
              "        text-align: right;\n",
              "    }\n",
              "</style>\n",
              "<table border=\"1\" class=\"dataframe\">\n",
              "  <thead>\n",
              "    <tr style=\"text-align: right;\">\n",
              "      <th>info</th>\n",
              "      <th>name</th>\n",
              "      <th>points</th>\n",
              "      <th>penalty</th>\n",
              "    </tr>\n",
              "    <tr>\n",
              "      <th>order</th>\n",
              "      <th></th>\n",
              "      <th></th>\n",
              "      <th></th>\n",
              "    </tr>\n",
              "  </thead>\n",
              "  <tbody>\n",
              "    <tr>\n",
              "      <th>one</th>\n",
              "      <td>kilho</td>\n",
              "      <td>1.5</td>\n",
              "      <td>0.1</td>\n",
              "    </tr>\n",
              "    <tr>\n",
              "      <th>two</th>\n",
              "      <td>kilho</td>\n",
              "      <td>1.7</td>\n",
              "      <td>0.2</td>\n",
              "    </tr>\n",
              "    <tr>\n",
              "      <th>three</th>\n",
              "      <td>kilho</td>\n",
              "      <td>3.6</td>\n",
              "      <td>0.3</td>\n",
              "    </tr>\n",
              "    <tr>\n",
              "      <th>four</th>\n",
              "      <td>charles</td>\n",
              "      <td>2.4</td>\n",
              "      <td>0.4</td>\n",
              "    </tr>\n",
              "    <tr>\n",
              "      <th>five</th>\n",
              "      <td>charles</td>\n",
              "      <td>2.9</td>\n",
              "      <td>0.5</td>\n",
              "    </tr>\n",
              "    <tr>\n",
              "      <th>six</th>\n",
              "      <td>jun</td>\n",
              "      <td>4.0</td>\n",
              "      <td>0.1</td>\n",
              "    </tr>\n",
              "  </tbody>\n",
              "</table>\n",
              "</div>"
            ],
            "text/plain": [
              "info      name  points  penalty\n",
              "order                          \n",
              "one      kilho     1.5      0.1\n",
              "two      kilho     1.7      0.2\n",
              "three    kilho     3.6      0.3\n",
              "four   charles     2.4      0.4\n",
              "five   charles     2.9      0.5\n",
              "six        jun     4.0      0.1"
            ]
          },
          "metadata": {
            "tags": []
          },
          "execution_count": 59
        }
      ]
    },
    {
      "cell_type": "code",
      "metadata": {
        "id": "4oSyo73dFd72",
        "colab_type": "code",
        "colab": {
          "base_uri": "https://localhost:8080/",
          "height": 35
        },
        "outputId": "a0130ce5-df66-417a-99ae-a540c6b84efc"
      },
      "source": [
        "df.iloc[1, 1]"
      ],
      "execution_count": 60,
      "outputs": [
        {
          "output_type": "execute_result",
          "data": {
            "text/plain": [
              "'kilho'"
            ]
          },
          "metadata": {
            "tags": []
          },
          "execution_count": 60
        }
      ]
    },
    {
      "cell_type": "code",
      "metadata": {
        "id": "NW9HNX-vFhOy",
        "colab_type": "code",
        "colab": {
          "base_uri": "https://localhost:8080/",
          "height": 266
        },
        "outputId": "acaf79fc-d1be-491e-e34e-5c73e83bb77d"
      },
      "source": [
        "'''\n",
        "  3. boolean indexing of Data Frame\n",
        "'''\n",
        "df"
      ],
      "execution_count": 61,
      "outputs": [
        {
          "output_type": "execute_result",
          "data": {
            "text/html": [
              "<div>\n",
              "<style scoped>\n",
              "    .dataframe tbody tr th:only-of-type {\n",
              "        vertical-align: middle;\n",
              "    }\n",
              "\n",
              "    .dataframe tbody tr th {\n",
              "        vertical-align: top;\n",
              "    }\n",
              "\n",
              "    .dataframe thead th {\n",
              "        text-align: right;\n",
              "    }\n",
              "</style>\n",
              "<table border=\"1\" class=\"dataframe\">\n",
              "  <thead>\n",
              "    <tr style=\"text-align: right;\">\n",
              "      <th>info</th>\n",
              "      <th>year</th>\n",
              "      <th>name</th>\n",
              "      <th>points</th>\n",
              "      <th>penalty</th>\n",
              "      <th>debt</th>\n",
              "    </tr>\n",
              "    <tr>\n",
              "      <th>order</th>\n",
              "      <th></th>\n",
              "      <th></th>\n",
              "      <th></th>\n",
              "      <th></th>\n",
              "      <th></th>\n",
              "    </tr>\n",
              "  </thead>\n",
              "  <tbody>\n",
              "    <tr>\n",
              "      <th>one</th>\n",
              "      <td>2014.0</td>\n",
              "      <td>kilho</td>\n",
              "      <td>1.5</td>\n",
              "      <td>0.1</td>\n",
              "      <td>NaN</td>\n",
              "    </tr>\n",
              "    <tr>\n",
              "      <th>two</th>\n",
              "      <td>2015.0</td>\n",
              "      <td>kilho</td>\n",
              "      <td>1.7</td>\n",
              "      <td>0.2</td>\n",
              "      <td>-1.2</td>\n",
              "    </tr>\n",
              "    <tr>\n",
              "      <th>three</th>\n",
              "      <td>2016.0</td>\n",
              "      <td>kilho</td>\n",
              "      <td>3.6</td>\n",
              "      <td>0.3</td>\n",
              "      <td>NaN</td>\n",
              "    </tr>\n",
              "    <tr>\n",
              "      <th>four</th>\n",
              "      <td>2015.0</td>\n",
              "      <td>charles</td>\n",
              "      <td>2.4</td>\n",
              "      <td>0.4</td>\n",
              "      <td>-1.5</td>\n",
              "    </tr>\n",
              "    <tr>\n",
              "      <th>five</th>\n",
              "      <td>2016.0</td>\n",
              "      <td>charles</td>\n",
              "      <td>2.9</td>\n",
              "      <td>0.5</td>\n",
              "      <td>-1.7</td>\n",
              "    </tr>\n",
              "    <tr>\n",
              "      <th>six</th>\n",
              "      <td>2013.0</td>\n",
              "      <td>jun</td>\n",
              "      <td>4.0</td>\n",
              "      <td>0.1</td>\n",
              "      <td>2.1</td>\n",
              "    </tr>\n",
              "  </tbody>\n",
              "</table>\n",
              "</div>"
            ],
            "text/plain": [
              "info     year     name  points  penalty  debt\n",
              "order                                        \n",
              "one    2014.0    kilho     1.5      0.1   NaN\n",
              "two    2015.0    kilho     1.7      0.2  -1.2\n",
              "three  2016.0    kilho     3.6      0.3   NaN\n",
              "four   2015.0  charles     2.4      0.4  -1.5\n",
              "five   2016.0  charles     2.9      0.5  -1.7\n",
              "six    2013.0      jun     4.0      0.1   2.1"
            ]
          },
          "metadata": {
            "tags": []
          },
          "execution_count": 61
        }
      ]
    },
    {
      "cell_type": "code",
      "metadata": {
        "id": "GV22apkrFx1I",
        "colab_type": "code",
        "colab": {
          "base_uri": "https://localhost:8080/",
          "height": 161
        },
        "outputId": "639c942a-325c-40ad-e9e0-4c755c958e49"
      },
      "source": [
        "df['year'] > 2014"
      ],
      "execution_count": 62,
      "outputs": [
        {
          "output_type": "execute_result",
          "data": {
            "text/plain": [
              "order\n",
              "one      False\n",
              "two       True\n",
              "three     True\n",
              "four      True\n",
              "five      True\n",
              "six      False\n",
              "Name: year, dtype: bool"
            ]
          },
          "metadata": {
            "tags": []
          },
          "execution_count": 62
        }
      ]
    },
    {
      "cell_type": "code",
      "metadata": {
        "id": "yDvENz9-Fzyk",
        "colab_type": "code",
        "colab": {
          "base_uri": "https://localhost:8080/",
          "height": 204
        },
        "outputId": "5238ff4d-c902-4c10-dc92-4525cab74d38"
      },
      "source": [
        "df.loc[df['year'] > 2014, :]"
      ],
      "execution_count": 63,
      "outputs": [
        {
          "output_type": "execute_result",
          "data": {
            "text/html": [
              "<div>\n",
              "<style scoped>\n",
              "    .dataframe tbody tr th:only-of-type {\n",
              "        vertical-align: middle;\n",
              "    }\n",
              "\n",
              "    .dataframe tbody tr th {\n",
              "        vertical-align: top;\n",
              "    }\n",
              "\n",
              "    .dataframe thead th {\n",
              "        text-align: right;\n",
              "    }\n",
              "</style>\n",
              "<table border=\"1\" class=\"dataframe\">\n",
              "  <thead>\n",
              "    <tr style=\"text-align: right;\">\n",
              "      <th>info</th>\n",
              "      <th>year</th>\n",
              "      <th>name</th>\n",
              "      <th>points</th>\n",
              "      <th>penalty</th>\n",
              "      <th>debt</th>\n",
              "    </tr>\n",
              "    <tr>\n",
              "      <th>order</th>\n",
              "      <th></th>\n",
              "      <th></th>\n",
              "      <th></th>\n",
              "      <th></th>\n",
              "      <th></th>\n",
              "    </tr>\n",
              "  </thead>\n",
              "  <tbody>\n",
              "    <tr>\n",
              "      <th>two</th>\n",
              "      <td>2015.0</td>\n",
              "      <td>kilho</td>\n",
              "      <td>1.7</td>\n",
              "      <td>0.2</td>\n",
              "      <td>-1.2</td>\n",
              "    </tr>\n",
              "    <tr>\n",
              "      <th>three</th>\n",
              "      <td>2016.0</td>\n",
              "      <td>kilho</td>\n",
              "      <td>3.6</td>\n",
              "      <td>0.3</td>\n",
              "      <td>NaN</td>\n",
              "    </tr>\n",
              "    <tr>\n",
              "      <th>four</th>\n",
              "      <td>2015.0</td>\n",
              "      <td>charles</td>\n",
              "      <td>2.4</td>\n",
              "      <td>0.4</td>\n",
              "      <td>-1.5</td>\n",
              "    </tr>\n",
              "    <tr>\n",
              "      <th>five</th>\n",
              "      <td>2016.0</td>\n",
              "      <td>charles</td>\n",
              "      <td>2.9</td>\n",
              "      <td>0.5</td>\n",
              "      <td>-1.7</td>\n",
              "    </tr>\n",
              "  </tbody>\n",
              "</table>\n",
              "</div>"
            ],
            "text/plain": [
              "info     year     name  points  penalty  debt\n",
              "order                                        \n",
              "two    2015.0    kilho     1.7      0.2  -1.2\n",
              "three  2016.0    kilho     3.6      0.3   NaN\n",
              "four   2015.0  charles     2.4      0.4  -1.5\n",
              "five   2016.0  charles     2.9      0.5  -1.7"
            ]
          },
          "metadata": {
            "tags": []
          },
          "execution_count": 63
        }
      ]
    },
    {
      "cell_type": "code",
      "metadata": {
        "id": "7mLhRD2YF4GP",
        "colab_type": "code",
        "colab": {
          "base_uri": "https://localhost:8080/",
          "height": 173
        },
        "outputId": "da533447-4781-47e2-8b6a-71093fa1bc83"
      },
      "source": [
        "df.loc[df['name'] == 'kilho', ['name', 'points']]"
      ],
      "execution_count": 65,
      "outputs": [
        {
          "output_type": "execute_result",
          "data": {
            "text/html": [
              "<div>\n",
              "<style scoped>\n",
              "    .dataframe tbody tr th:only-of-type {\n",
              "        vertical-align: middle;\n",
              "    }\n",
              "\n",
              "    .dataframe tbody tr th {\n",
              "        vertical-align: top;\n",
              "    }\n",
              "\n",
              "    .dataframe thead th {\n",
              "        text-align: right;\n",
              "    }\n",
              "</style>\n",
              "<table border=\"1\" class=\"dataframe\">\n",
              "  <thead>\n",
              "    <tr style=\"text-align: right;\">\n",
              "      <th>info</th>\n",
              "      <th>name</th>\n",
              "      <th>points</th>\n",
              "    </tr>\n",
              "    <tr>\n",
              "      <th>order</th>\n",
              "      <th></th>\n",
              "      <th></th>\n",
              "    </tr>\n",
              "  </thead>\n",
              "  <tbody>\n",
              "    <tr>\n",
              "      <th>one</th>\n",
              "      <td>kilho</td>\n",
              "      <td>1.5</td>\n",
              "    </tr>\n",
              "    <tr>\n",
              "      <th>two</th>\n",
              "      <td>kilho</td>\n",
              "      <td>1.7</td>\n",
              "    </tr>\n",
              "    <tr>\n",
              "      <th>three</th>\n",
              "      <td>kilho</td>\n",
              "      <td>3.6</td>\n",
              "    </tr>\n",
              "  </tbody>\n",
              "</table>\n",
              "</div>"
            ],
            "text/plain": [
              "info    name  points\n",
              "order               \n",
              "one    kilho     1.5\n",
              "two    kilho     1.7\n",
              "three  kilho     3.6"
            ]
          },
          "metadata": {
            "tags": []
          },
          "execution_count": 65
        }
      ]
    },
    {
      "cell_type": "code",
      "metadata": {
        "id": "WSVT8c1sF-C2",
        "colab_type": "code",
        "colab": {
          "base_uri": "https://localhost:8080/",
          "height": 142
        },
        "outputId": "ac7f50b1-336a-4886-b669-352f8df94b55"
      },
      "source": [
        "df.loc[(df['points'] > 2)&(df['points'] < 3), :]"
      ],
      "execution_count": 66,
      "outputs": [
        {
          "output_type": "execute_result",
          "data": {
            "text/html": [
              "<div>\n",
              "<style scoped>\n",
              "    .dataframe tbody tr th:only-of-type {\n",
              "        vertical-align: middle;\n",
              "    }\n",
              "\n",
              "    .dataframe tbody tr th {\n",
              "        vertical-align: top;\n",
              "    }\n",
              "\n",
              "    .dataframe thead th {\n",
              "        text-align: right;\n",
              "    }\n",
              "</style>\n",
              "<table border=\"1\" class=\"dataframe\">\n",
              "  <thead>\n",
              "    <tr style=\"text-align: right;\">\n",
              "      <th>info</th>\n",
              "      <th>year</th>\n",
              "      <th>name</th>\n",
              "      <th>points</th>\n",
              "      <th>penalty</th>\n",
              "      <th>debt</th>\n",
              "    </tr>\n",
              "    <tr>\n",
              "      <th>order</th>\n",
              "      <th></th>\n",
              "      <th></th>\n",
              "      <th></th>\n",
              "      <th></th>\n",
              "      <th></th>\n",
              "    </tr>\n",
              "  </thead>\n",
              "  <tbody>\n",
              "    <tr>\n",
              "      <th>four</th>\n",
              "      <td>2015.0</td>\n",
              "      <td>charles</td>\n",
              "      <td>2.4</td>\n",
              "      <td>0.4</td>\n",
              "      <td>-1.5</td>\n",
              "    </tr>\n",
              "    <tr>\n",
              "      <th>five</th>\n",
              "      <td>2016.0</td>\n",
              "      <td>charles</td>\n",
              "      <td>2.9</td>\n",
              "      <td>0.5</td>\n",
              "      <td>-1.7</td>\n",
              "    </tr>\n",
              "  </tbody>\n",
              "</table>\n",
              "</div>"
            ],
            "text/plain": [
              "info     year     name  points  penalty  debt\n",
              "order                                        \n",
              "four   2015.0  charles     2.4      0.4  -1.5\n",
              "five   2016.0  charles     2.9      0.5  -1.7"
            ]
          },
          "metadata": {
            "tags": []
          },
          "execution_count": 66
        }
      ]
    },
    {
      "cell_type": "code",
      "metadata": {
        "id": "-Hrx1Fk_HjGq",
        "colab_type": "code",
        "colab": {
          "base_uri": "https://localhost:8080/",
          "height": 266
        },
        "outputId": "6530fc3e-07d5-4d47-a469-627b6eb2b2f6"
      },
      "source": [
        "df"
      ],
      "execution_count": 67,
      "outputs": [
        {
          "output_type": "execute_result",
          "data": {
            "text/html": [
              "<div>\n",
              "<style scoped>\n",
              "    .dataframe tbody tr th:only-of-type {\n",
              "        vertical-align: middle;\n",
              "    }\n",
              "\n",
              "    .dataframe tbody tr th {\n",
              "        vertical-align: top;\n",
              "    }\n",
              "\n",
              "    .dataframe thead th {\n",
              "        text-align: right;\n",
              "    }\n",
              "</style>\n",
              "<table border=\"1\" class=\"dataframe\">\n",
              "  <thead>\n",
              "    <tr style=\"text-align: right;\">\n",
              "      <th>info</th>\n",
              "      <th>year</th>\n",
              "      <th>name</th>\n",
              "      <th>points</th>\n",
              "      <th>penalty</th>\n",
              "      <th>debt</th>\n",
              "    </tr>\n",
              "    <tr>\n",
              "      <th>order</th>\n",
              "      <th></th>\n",
              "      <th></th>\n",
              "      <th></th>\n",
              "      <th></th>\n",
              "      <th></th>\n",
              "    </tr>\n",
              "  </thead>\n",
              "  <tbody>\n",
              "    <tr>\n",
              "      <th>one</th>\n",
              "      <td>2014.0</td>\n",
              "      <td>kilho</td>\n",
              "      <td>1.5</td>\n",
              "      <td>0.1</td>\n",
              "      <td>NaN</td>\n",
              "    </tr>\n",
              "    <tr>\n",
              "      <th>two</th>\n",
              "      <td>2015.0</td>\n",
              "      <td>kilho</td>\n",
              "      <td>1.7</td>\n",
              "      <td>0.2</td>\n",
              "      <td>-1.2</td>\n",
              "    </tr>\n",
              "    <tr>\n",
              "      <th>three</th>\n",
              "      <td>2016.0</td>\n",
              "      <td>kilho</td>\n",
              "      <td>3.6</td>\n",
              "      <td>0.3</td>\n",
              "      <td>NaN</td>\n",
              "    </tr>\n",
              "    <tr>\n",
              "      <th>four</th>\n",
              "      <td>2015.0</td>\n",
              "      <td>charles</td>\n",
              "      <td>2.4</td>\n",
              "      <td>0.4</td>\n",
              "      <td>-1.5</td>\n",
              "    </tr>\n",
              "    <tr>\n",
              "      <th>five</th>\n",
              "      <td>2016.0</td>\n",
              "      <td>charles</td>\n",
              "      <td>2.9</td>\n",
              "      <td>0.5</td>\n",
              "      <td>-1.7</td>\n",
              "    </tr>\n",
              "    <tr>\n",
              "      <th>six</th>\n",
              "      <td>2013.0</td>\n",
              "      <td>jun</td>\n",
              "      <td>4.0</td>\n",
              "      <td>0.1</td>\n",
              "      <td>2.1</td>\n",
              "    </tr>\n",
              "  </tbody>\n",
              "</table>\n",
              "</div>"
            ],
            "text/plain": [
              "info     year     name  points  penalty  debt\n",
              "order                                        \n",
              "one    2014.0    kilho     1.5      0.1   NaN\n",
              "two    2015.0    kilho     1.7      0.2  -1.2\n",
              "three  2016.0    kilho     3.6      0.3   NaN\n",
              "four   2015.0  charles     2.4      0.4  -1.5\n",
              "five   2016.0  charles     2.9      0.5  -1.7\n",
              "six    2013.0      jun     4.0      0.1   2.1"
            ]
          },
          "metadata": {
            "tags": []
          },
          "execution_count": 67
        }
      ]
    },
    {
      "cell_type": "code",
      "metadata": {
        "id": "nPgvI7v4HomV",
        "colab_type": "code",
        "colab": {
          "base_uri": "https://localhost:8080/",
          "height": 266
        },
        "outputId": "7a249f08-803c-488e-c0d4-896c466e7d65"
      },
      "source": [
        "df.loc[df['points'] > 3, 'penalty'] = 0\n",
        "df"
      ],
      "execution_count": 69,
      "outputs": [
        {
          "output_type": "execute_result",
          "data": {
            "text/html": [
              "<div>\n",
              "<style scoped>\n",
              "    .dataframe tbody tr th:only-of-type {\n",
              "        vertical-align: middle;\n",
              "    }\n",
              "\n",
              "    .dataframe tbody tr th {\n",
              "        vertical-align: top;\n",
              "    }\n",
              "\n",
              "    .dataframe thead th {\n",
              "        text-align: right;\n",
              "    }\n",
              "</style>\n",
              "<table border=\"1\" class=\"dataframe\">\n",
              "  <thead>\n",
              "    <tr style=\"text-align: right;\">\n",
              "      <th>info</th>\n",
              "      <th>year</th>\n",
              "      <th>name</th>\n",
              "      <th>points</th>\n",
              "      <th>penalty</th>\n",
              "      <th>debt</th>\n",
              "    </tr>\n",
              "    <tr>\n",
              "      <th>order</th>\n",
              "      <th></th>\n",
              "      <th></th>\n",
              "      <th></th>\n",
              "      <th></th>\n",
              "      <th></th>\n",
              "    </tr>\n",
              "  </thead>\n",
              "  <tbody>\n",
              "    <tr>\n",
              "      <th>one</th>\n",
              "      <td>2014.0</td>\n",
              "      <td>kilho</td>\n",
              "      <td>1.5</td>\n",
              "      <td>0.1</td>\n",
              "      <td>NaN</td>\n",
              "    </tr>\n",
              "    <tr>\n",
              "      <th>two</th>\n",
              "      <td>2015.0</td>\n",
              "      <td>kilho</td>\n",
              "      <td>1.7</td>\n",
              "      <td>0.2</td>\n",
              "      <td>-1.2</td>\n",
              "    </tr>\n",
              "    <tr>\n",
              "      <th>three</th>\n",
              "      <td>2016.0</td>\n",
              "      <td>kilho</td>\n",
              "      <td>3.6</td>\n",
              "      <td>0.0</td>\n",
              "      <td>NaN</td>\n",
              "    </tr>\n",
              "    <tr>\n",
              "      <th>four</th>\n",
              "      <td>2015.0</td>\n",
              "      <td>charles</td>\n",
              "      <td>2.4</td>\n",
              "      <td>0.4</td>\n",
              "      <td>-1.5</td>\n",
              "    </tr>\n",
              "    <tr>\n",
              "      <th>five</th>\n",
              "      <td>2016.0</td>\n",
              "      <td>charles</td>\n",
              "      <td>2.9</td>\n",
              "      <td>0.5</td>\n",
              "      <td>-1.7</td>\n",
              "    </tr>\n",
              "    <tr>\n",
              "      <th>six</th>\n",
              "      <td>2013.0</td>\n",
              "      <td>jun</td>\n",
              "      <td>4.0</td>\n",
              "      <td>0.0</td>\n",
              "      <td>2.1</td>\n",
              "    </tr>\n",
              "  </tbody>\n",
              "</table>\n",
              "</div>"
            ],
            "text/plain": [
              "info     year     name  points  penalty  debt\n",
              "order                                        \n",
              "one    2014.0    kilho     1.5      0.1   NaN\n",
              "two    2015.0    kilho     1.7      0.2  -1.2\n",
              "three  2016.0    kilho     3.6      0.0   NaN\n",
              "four   2015.0  charles     2.4      0.4  -1.5\n",
              "five   2016.0  charles     2.9      0.5  -1.7\n",
              "six    2013.0      jun     4.0      0.0   2.1"
            ]
          },
          "metadata": {
            "tags": []
          },
          "execution_count": 69
        }
      ]
    },
    {
      "cell_type": "code",
      "metadata": {
        "id": "vYFVlevHHt-1",
        "colab_type": "code",
        "colab": {
          "base_uri": "https://localhost:8080/",
          "height": 235
        },
        "outputId": "badebd9d-0d34-466a-82a2-fef9238af25c"
      },
      "source": [
        "# Data\n",
        "\n",
        "df = pd.DataFrame(np.random.randn(6, 4))\n",
        "df"
      ],
      "execution_count": 70,
      "outputs": [
        {
          "output_type": "execute_result",
          "data": {
            "text/html": [
              "<div>\n",
              "<style scoped>\n",
              "    .dataframe tbody tr th:only-of-type {\n",
              "        vertical-align: middle;\n",
              "    }\n",
              "\n",
              "    .dataframe tbody tr th {\n",
              "        vertical-align: top;\n",
              "    }\n",
              "\n",
              "    .dataframe thead th {\n",
              "        text-align: right;\n",
              "    }\n",
              "</style>\n",
              "<table border=\"1\" class=\"dataframe\">\n",
              "  <thead>\n",
              "    <tr style=\"text-align: right;\">\n",
              "      <th></th>\n",
              "      <th>0</th>\n",
              "      <th>1</th>\n",
              "      <th>2</th>\n",
              "      <th>3</th>\n",
              "    </tr>\n",
              "  </thead>\n",
              "  <tbody>\n",
              "    <tr>\n",
              "      <th>0</th>\n",
              "      <td>0.412806</td>\n",
              "      <td>0.785678</td>\n",
              "      <td>-2.584773</td>\n",
              "      <td>-0.603822</td>\n",
              "    </tr>\n",
              "    <tr>\n",
              "      <th>1</th>\n",
              "      <td>1.460746</td>\n",
              "      <td>-0.305871</td>\n",
              "      <td>-0.813106</td>\n",
              "      <td>0.677055</td>\n",
              "    </tr>\n",
              "    <tr>\n",
              "      <th>2</th>\n",
              "      <td>1.149074</td>\n",
              "      <td>1.707585</td>\n",
              "      <td>-0.398772</td>\n",
              "      <td>-0.470960</td>\n",
              "    </tr>\n",
              "    <tr>\n",
              "      <th>3</th>\n",
              "      <td>0.190664</td>\n",
              "      <td>-1.402913</td>\n",
              "      <td>-0.772934</td>\n",
              "      <td>0.372401</td>\n",
              "    </tr>\n",
              "    <tr>\n",
              "      <th>4</th>\n",
              "      <td>0.053703</td>\n",
              "      <td>-0.141468</td>\n",
              "      <td>1.185618</td>\n",
              "      <td>-0.071422</td>\n",
              "    </tr>\n",
              "    <tr>\n",
              "      <th>5</th>\n",
              "      <td>-0.090998</td>\n",
              "      <td>-1.307879</td>\n",
              "      <td>1.304461</td>\n",
              "      <td>-0.626320</td>\n",
              "    </tr>\n",
              "  </tbody>\n",
              "</table>\n",
              "</div>"
            ],
            "text/plain": [
              "          0         1         2         3\n",
              "0  0.412806  0.785678 -2.584773 -0.603822\n",
              "1  1.460746 -0.305871 -0.813106  0.677055\n",
              "2  1.149074  1.707585 -0.398772 -0.470960\n",
              "3  0.190664 -1.402913 -0.772934  0.372401\n",
              "4  0.053703 -0.141468  1.185618 -0.071422\n",
              "5 -0.090998 -1.307879  1.304461 -0.626320"
            ]
          },
          "metadata": {
            "tags": []
          },
          "execution_count": 70
        }
      ]
    },
    {
      "cell_type": "code",
      "metadata": {
        "id": "IVKlv9EVIRQc",
        "colab_type": "code",
        "colab": {
          "base_uri": "https://localhost:8080/",
          "height": 235
        },
        "outputId": "d3dac467-8761-48a5-8daa-cc407dd8accd"
      },
      "source": [
        "df.columns = ['a', 'b', 'c', 'd']\n",
        "df"
      ],
      "execution_count": 71,
      "outputs": [
        {
          "output_type": "execute_result",
          "data": {
            "text/html": [
              "<div>\n",
              "<style scoped>\n",
              "    .dataframe tbody tr th:only-of-type {\n",
              "        vertical-align: middle;\n",
              "    }\n",
              "\n",
              "    .dataframe tbody tr th {\n",
              "        vertical-align: top;\n",
              "    }\n",
              "\n",
              "    .dataframe thead th {\n",
              "        text-align: right;\n",
              "    }\n",
              "</style>\n",
              "<table border=\"1\" class=\"dataframe\">\n",
              "  <thead>\n",
              "    <tr style=\"text-align: right;\">\n",
              "      <th></th>\n",
              "      <th>a</th>\n",
              "      <th>b</th>\n",
              "      <th>c</th>\n",
              "      <th>d</th>\n",
              "    </tr>\n",
              "  </thead>\n",
              "  <tbody>\n",
              "    <tr>\n",
              "      <th>0</th>\n",
              "      <td>0.412806</td>\n",
              "      <td>0.785678</td>\n",
              "      <td>-2.584773</td>\n",
              "      <td>-0.603822</td>\n",
              "    </tr>\n",
              "    <tr>\n",
              "      <th>1</th>\n",
              "      <td>1.460746</td>\n",
              "      <td>-0.305871</td>\n",
              "      <td>-0.813106</td>\n",
              "      <td>0.677055</td>\n",
              "    </tr>\n",
              "    <tr>\n",
              "      <th>2</th>\n",
              "      <td>1.149074</td>\n",
              "      <td>1.707585</td>\n",
              "      <td>-0.398772</td>\n",
              "      <td>-0.470960</td>\n",
              "    </tr>\n",
              "    <tr>\n",
              "      <th>3</th>\n",
              "      <td>0.190664</td>\n",
              "      <td>-1.402913</td>\n",
              "      <td>-0.772934</td>\n",
              "      <td>0.372401</td>\n",
              "    </tr>\n",
              "    <tr>\n",
              "      <th>4</th>\n",
              "      <td>0.053703</td>\n",
              "      <td>-0.141468</td>\n",
              "      <td>1.185618</td>\n",
              "      <td>-0.071422</td>\n",
              "    </tr>\n",
              "    <tr>\n",
              "      <th>5</th>\n",
              "      <td>-0.090998</td>\n",
              "      <td>-1.307879</td>\n",
              "      <td>1.304461</td>\n",
              "      <td>-0.626320</td>\n",
              "    </tr>\n",
              "  </tbody>\n",
              "</table>\n",
              "</div>"
            ],
            "text/plain": [
              "          a         b         c         d\n",
              "0  0.412806  0.785678 -2.584773 -0.603822\n",
              "1  1.460746 -0.305871 -0.813106  0.677055\n",
              "2  1.149074  1.707585 -0.398772 -0.470960\n",
              "3  0.190664 -1.402913 -0.772934  0.372401\n",
              "4  0.053703 -0.141468  1.185618 -0.071422\n",
              "5 -0.090998 -1.307879  1.304461 -0.626320"
            ]
          },
          "metadata": {
            "tags": []
          },
          "execution_count": 71
        }
      ]
    },
    {
      "cell_type": "code",
      "metadata": {
        "id": "t1DnS4M8IXqx",
        "colab_type": "code",
        "colab": {
          "base_uri": "https://localhost:8080/",
          "height": 71
        },
        "outputId": "9d65d53a-e1a1-419a-d7be-378b2205798f"
      },
      "source": [
        "df.index = pd.date_range('20190903', periods=len(df))\n",
        "df.index"
      ],
      "execution_count": 79,
      "outputs": [
        {
          "output_type": "execute_result",
          "data": {
            "text/plain": [
              "DatetimeIndex(['2019-09-03', '2019-09-04', '2019-09-05', '2019-09-06',\n",
              "               '2019-09-07', '2019-09-08'],\n",
              "              dtype='datetime64[ns]', freq='D')"
            ]
          },
          "metadata": {
            "tags": []
          },
          "execution_count": 79
        }
      ]
    },
    {
      "cell_type": "code",
      "metadata": {
        "id": "Nwad9gUvIoLK",
        "colab_type": "code",
        "colab": {
          "base_uri": "https://localhost:8080/",
          "height": 235
        },
        "outputId": "2218113a-8b54-42fa-951b-ee9d2900eda2"
      },
      "source": [
        "df"
      ],
      "execution_count": 80,
      "outputs": [
        {
          "output_type": "execute_result",
          "data": {
            "text/html": [
              "<div>\n",
              "<style scoped>\n",
              "    .dataframe tbody tr th:only-of-type {\n",
              "        vertical-align: middle;\n",
              "    }\n",
              "\n",
              "    .dataframe tbody tr th {\n",
              "        vertical-align: top;\n",
              "    }\n",
              "\n",
              "    .dataframe thead th {\n",
              "        text-align: right;\n",
              "    }\n",
              "</style>\n",
              "<table border=\"1\" class=\"dataframe\">\n",
              "  <thead>\n",
              "    <tr style=\"text-align: right;\">\n",
              "      <th></th>\n",
              "      <th>a</th>\n",
              "      <th>b</th>\n",
              "      <th>c</th>\n",
              "      <th>d</th>\n",
              "    </tr>\n",
              "  </thead>\n",
              "  <tbody>\n",
              "    <tr>\n",
              "      <th>2019-09-03</th>\n",
              "      <td>0.412806</td>\n",
              "      <td>0.785678</td>\n",
              "      <td>-2.584773</td>\n",
              "      <td>-0.603822</td>\n",
              "    </tr>\n",
              "    <tr>\n",
              "      <th>2019-09-04</th>\n",
              "      <td>1.460746</td>\n",
              "      <td>-0.305871</td>\n",
              "      <td>-0.813106</td>\n",
              "      <td>0.677055</td>\n",
              "    </tr>\n",
              "    <tr>\n",
              "      <th>2019-09-05</th>\n",
              "      <td>1.149074</td>\n",
              "      <td>1.707585</td>\n",
              "      <td>-0.398772</td>\n",
              "      <td>-0.470960</td>\n",
              "    </tr>\n",
              "    <tr>\n",
              "      <th>2019-09-06</th>\n",
              "      <td>0.190664</td>\n",
              "      <td>-1.402913</td>\n",
              "      <td>-0.772934</td>\n",
              "      <td>0.372401</td>\n",
              "    </tr>\n",
              "    <tr>\n",
              "      <th>2019-09-07</th>\n",
              "      <td>0.053703</td>\n",
              "      <td>-0.141468</td>\n",
              "      <td>1.185618</td>\n",
              "      <td>-0.071422</td>\n",
              "    </tr>\n",
              "    <tr>\n",
              "      <th>2019-09-08</th>\n",
              "      <td>-0.090998</td>\n",
              "      <td>-1.307879</td>\n",
              "      <td>1.304461</td>\n",
              "      <td>-0.626320</td>\n",
              "    </tr>\n",
              "  </tbody>\n",
              "</table>\n",
              "</div>"
            ],
            "text/plain": [
              "                   a         b         c         d\n",
              "2019-09-03  0.412806  0.785678 -2.584773 -0.603822\n",
              "2019-09-04  1.460746 -0.305871 -0.813106  0.677055\n",
              "2019-09-05  1.149074  1.707585 -0.398772 -0.470960\n",
              "2019-09-06  0.190664 -1.402913 -0.772934  0.372401\n",
              "2019-09-07  0.053703 -0.141468  1.185618 -0.071422\n",
              "2019-09-08 -0.090998 -1.307879  1.304461 -0.626320"
            ]
          },
          "metadata": {
            "tags": []
          },
          "execution_count": 80
        }
      ]
    },
    {
      "cell_type": "code",
      "metadata": {
        "id": "zL6tTZyZIskU",
        "colab_type": "code",
        "colab": {
          "base_uri": "https://localhost:8080/",
          "height": 235
        },
        "outputId": "cf618d14-c0c4-4962-d959-2b970a5c6bb4"
      },
      "source": [
        "df['f'] = [1.0, np.nan, 3.5, 6.1, np.nan, 7.0]\n",
        "df"
      ],
      "execution_count": 81,
      "outputs": [
        {
          "output_type": "execute_result",
          "data": {
            "text/html": [
              "<div>\n",
              "<style scoped>\n",
              "    .dataframe tbody tr th:only-of-type {\n",
              "        vertical-align: middle;\n",
              "    }\n",
              "\n",
              "    .dataframe tbody tr th {\n",
              "        vertical-align: top;\n",
              "    }\n",
              "\n",
              "    .dataframe thead th {\n",
              "        text-align: right;\n",
              "    }\n",
              "</style>\n",
              "<table border=\"1\" class=\"dataframe\">\n",
              "  <thead>\n",
              "    <tr style=\"text-align: right;\">\n",
              "      <th></th>\n",
              "      <th>a</th>\n",
              "      <th>b</th>\n",
              "      <th>c</th>\n",
              "      <th>d</th>\n",
              "      <th>f</th>\n",
              "    </tr>\n",
              "  </thead>\n",
              "  <tbody>\n",
              "    <tr>\n",
              "      <th>2019-09-03</th>\n",
              "      <td>0.412806</td>\n",
              "      <td>0.785678</td>\n",
              "      <td>-2.584773</td>\n",
              "      <td>-0.603822</td>\n",
              "      <td>1.0</td>\n",
              "    </tr>\n",
              "    <tr>\n",
              "      <th>2019-09-04</th>\n",
              "      <td>1.460746</td>\n",
              "      <td>-0.305871</td>\n",
              "      <td>-0.813106</td>\n",
              "      <td>0.677055</td>\n",
              "      <td>NaN</td>\n",
              "    </tr>\n",
              "    <tr>\n",
              "      <th>2019-09-05</th>\n",
              "      <td>1.149074</td>\n",
              "      <td>1.707585</td>\n",
              "      <td>-0.398772</td>\n",
              "      <td>-0.470960</td>\n",
              "      <td>3.5</td>\n",
              "    </tr>\n",
              "    <tr>\n",
              "      <th>2019-09-06</th>\n",
              "      <td>0.190664</td>\n",
              "      <td>-1.402913</td>\n",
              "      <td>-0.772934</td>\n",
              "      <td>0.372401</td>\n",
              "      <td>6.1</td>\n",
              "    </tr>\n",
              "    <tr>\n",
              "      <th>2019-09-07</th>\n",
              "      <td>0.053703</td>\n",
              "      <td>-0.141468</td>\n",
              "      <td>1.185618</td>\n",
              "      <td>-0.071422</td>\n",
              "      <td>NaN</td>\n",
              "    </tr>\n",
              "    <tr>\n",
              "      <th>2019-09-08</th>\n",
              "      <td>-0.090998</td>\n",
              "      <td>-1.307879</td>\n",
              "      <td>1.304461</td>\n",
              "      <td>-0.626320</td>\n",
              "      <td>7.0</td>\n",
              "    </tr>\n",
              "  </tbody>\n",
              "</table>\n",
              "</div>"
            ],
            "text/plain": [
              "                   a         b         c         d    f\n",
              "2019-09-03  0.412806  0.785678 -2.584773 -0.603822  1.0\n",
              "2019-09-04  1.460746 -0.305871 -0.813106  0.677055  NaN\n",
              "2019-09-05  1.149074  1.707585 -0.398772 -0.470960  3.5\n",
              "2019-09-06  0.190664 -1.402913 -0.772934  0.372401  6.1\n",
              "2019-09-07  0.053703 -0.141468  1.185618 -0.071422  NaN\n",
              "2019-09-08 -0.090998 -1.307879  1.304461 -0.626320  7.0"
            ]
          },
          "metadata": {
            "tags": []
          },
          "execution_count": 81
        }
      ]
    },
    {
      "cell_type": "code",
      "metadata": {
        "id": "Qjy8ldtGI9ia",
        "colab_type": "code",
        "colab": {
          "base_uri": "https://localhost:8080/",
          "height": 173
        },
        "outputId": "f9feb169-3cfa-4ac3-a979-cde294a30a2a"
      },
      "source": [
        "df.dropna(how='any')"
      ],
      "execution_count": 83,
      "outputs": [
        {
          "output_type": "execute_result",
          "data": {
            "text/html": [
              "<div>\n",
              "<style scoped>\n",
              "    .dataframe tbody tr th:only-of-type {\n",
              "        vertical-align: middle;\n",
              "    }\n",
              "\n",
              "    .dataframe tbody tr th {\n",
              "        vertical-align: top;\n",
              "    }\n",
              "\n",
              "    .dataframe thead th {\n",
              "        text-align: right;\n",
              "    }\n",
              "</style>\n",
              "<table border=\"1\" class=\"dataframe\">\n",
              "  <thead>\n",
              "    <tr style=\"text-align: right;\">\n",
              "      <th></th>\n",
              "      <th>a</th>\n",
              "      <th>b</th>\n",
              "      <th>c</th>\n",
              "      <th>d</th>\n",
              "      <th>f</th>\n",
              "    </tr>\n",
              "  </thead>\n",
              "  <tbody>\n",
              "    <tr>\n",
              "      <th>2019-09-03</th>\n",
              "      <td>0.412806</td>\n",
              "      <td>0.785678</td>\n",
              "      <td>-2.584773</td>\n",
              "      <td>-0.603822</td>\n",
              "      <td>1.0</td>\n",
              "    </tr>\n",
              "    <tr>\n",
              "      <th>2019-09-05</th>\n",
              "      <td>1.149074</td>\n",
              "      <td>1.707585</td>\n",
              "      <td>-0.398772</td>\n",
              "      <td>-0.470960</td>\n",
              "      <td>3.5</td>\n",
              "    </tr>\n",
              "    <tr>\n",
              "      <th>2019-09-06</th>\n",
              "      <td>0.190664</td>\n",
              "      <td>-1.402913</td>\n",
              "      <td>-0.772934</td>\n",
              "      <td>0.372401</td>\n",
              "      <td>6.1</td>\n",
              "    </tr>\n",
              "    <tr>\n",
              "      <th>2019-09-08</th>\n",
              "      <td>-0.090998</td>\n",
              "      <td>-1.307879</td>\n",
              "      <td>1.304461</td>\n",
              "      <td>-0.626320</td>\n",
              "      <td>7.0</td>\n",
              "    </tr>\n",
              "  </tbody>\n",
              "</table>\n",
              "</div>"
            ],
            "text/plain": [
              "                   a         b         c         d    f\n",
              "2019-09-03  0.412806  0.785678 -2.584773 -0.603822  1.0\n",
              "2019-09-05  1.149074  1.707585 -0.398772 -0.470960  3.5\n",
              "2019-09-06  0.190664 -1.402913 -0.772934  0.372401  6.1\n",
              "2019-09-08 -0.090998 -1.307879  1.304461 -0.626320  7.0"
            ]
          },
          "metadata": {
            "tags": []
          },
          "execution_count": 83
        }
      ]
    },
    {
      "cell_type": "code",
      "metadata": {
        "id": "9Tcc9Vl6JEGA",
        "colab_type": "code",
        "colab": {
          "base_uri": "https://localhost:8080/",
          "height": 235
        },
        "outputId": "68bcfc5a-e46a-4714-e8d8-694c840f9df5"
      },
      "source": [
        "df.dropna(how='all')"
      ],
      "execution_count": 84,
      "outputs": [
        {
          "output_type": "execute_result",
          "data": {
            "text/html": [
              "<div>\n",
              "<style scoped>\n",
              "    .dataframe tbody tr th:only-of-type {\n",
              "        vertical-align: middle;\n",
              "    }\n",
              "\n",
              "    .dataframe tbody tr th {\n",
              "        vertical-align: top;\n",
              "    }\n",
              "\n",
              "    .dataframe thead th {\n",
              "        text-align: right;\n",
              "    }\n",
              "</style>\n",
              "<table border=\"1\" class=\"dataframe\">\n",
              "  <thead>\n",
              "    <tr style=\"text-align: right;\">\n",
              "      <th></th>\n",
              "      <th>a</th>\n",
              "      <th>b</th>\n",
              "      <th>c</th>\n",
              "      <th>d</th>\n",
              "      <th>f</th>\n",
              "    </tr>\n",
              "  </thead>\n",
              "  <tbody>\n",
              "    <tr>\n",
              "      <th>2019-09-03</th>\n",
              "      <td>0.412806</td>\n",
              "      <td>0.785678</td>\n",
              "      <td>-2.584773</td>\n",
              "      <td>-0.603822</td>\n",
              "      <td>1.0</td>\n",
              "    </tr>\n",
              "    <tr>\n",
              "      <th>2019-09-04</th>\n",
              "      <td>1.460746</td>\n",
              "      <td>-0.305871</td>\n",
              "      <td>-0.813106</td>\n",
              "      <td>0.677055</td>\n",
              "      <td>NaN</td>\n",
              "    </tr>\n",
              "    <tr>\n",
              "      <th>2019-09-05</th>\n",
              "      <td>1.149074</td>\n",
              "      <td>1.707585</td>\n",
              "      <td>-0.398772</td>\n",
              "      <td>-0.470960</td>\n",
              "      <td>3.5</td>\n",
              "    </tr>\n",
              "    <tr>\n",
              "      <th>2019-09-06</th>\n",
              "      <td>0.190664</td>\n",
              "      <td>-1.402913</td>\n",
              "      <td>-0.772934</td>\n",
              "      <td>0.372401</td>\n",
              "      <td>6.1</td>\n",
              "    </tr>\n",
              "    <tr>\n",
              "      <th>2019-09-07</th>\n",
              "      <td>0.053703</td>\n",
              "      <td>-0.141468</td>\n",
              "      <td>1.185618</td>\n",
              "      <td>-0.071422</td>\n",
              "      <td>NaN</td>\n",
              "    </tr>\n",
              "    <tr>\n",
              "      <th>2019-09-08</th>\n",
              "      <td>-0.090998</td>\n",
              "      <td>-1.307879</td>\n",
              "      <td>1.304461</td>\n",
              "      <td>-0.626320</td>\n",
              "      <td>7.0</td>\n",
              "    </tr>\n",
              "  </tbody>\n",
              "</table>\n",
              "</div>"
            ],
            "text/plain": [
              "                   a         b         c         d    f\n",
              "2019-09-03  0.412806  0.785678 -2.584773 -0.603822  1.0\n",
              "2019-09-04  1.460746 -0.305871 -0.813106  0.677055  NaN\n",
              "2019-09-05  1.149074  1.707585 -0.398772 -0.470960  3.5\n",
              "2019-09-06  0.190664 -1.402913 -0.772934  0.372401  6.1\n",
              "2019-09-07  0.053703 -0.141468  1.185618 -0.071422  NaN\n",
              "2019-09-08 -0.090998 -1.307879  1.304461 -0.626320  7.0"
            ]
          },
          "metadata": {
            "tags": []
          },
          "execution_count": 84
        }
      ]
    },
    {
      "cell_type": "code",
      "metadata": {
        "id": "jjo349aHJME_",
        "colab_type": "code",
        "colab": {
          "base_uri": "https://localhost:8080/",
          "height": 235
        },
        "outputId": "2ac793a3-cd16-4ef7-a9fc-5c977396b9c0"
      },
      "source": [
        "df['g'] = np.nan\n",
        "df"
      ],
      "execution_count": 85,
      "outputs": [
        {
          "output_type": "execute_result",
          "data": {
            "text/html": [
              "<div>\n",
              "<style scoped>\n",
              "    .dataframe tbody tr th:only-of-type {\n",
              "        vertical-align: middle;\n",
              "    }\n",
              "\n",
              "    .dataframe tbody tr th {\n",
              "        vertical-align: top;\n",
              "    }\n",
              "\n",
              "    .dataframe thead th {\n",
              "        text-align: right;\n",
              "    }\n",
              "</style>\n",
              "<table border=\"1\" class=\"dataframe\">\n",
              "  <thead>\n",
              "    <tr style=\"text-align: right;\">\n",
              "      <th></th>\n",
              "      <th>a</th>\n",
              "      <th>b</th>\n",
              "      <th>c</th>\n",
              "      <th>d</th>\n",
              "      <th>f</th>\n",
              "      <th>g</th>\n",
              "    </tr>\n",
              "  </thead>\n",
              "  <tbody>\n",
              "    <tr>\n",
              "      <th>2019-09-03</th>\n",
              "      <td>0.412806</td>\n",
              "      <td>0.785678</td>\n",
              "      <td>-2.584773</td>\n",
              "      <td>-0.603822</td>\n",
              "      <td>1.0</td>\n",
              "      <td>NaN</td>\n",
              "    </tr>\n",
              "    <tr>\n",
              "      <th>2019-09-04</th>\n",
              "      <td>1.460746</td>\n",
              "      <td>-0.305871</td>\n",
              "      <td>-0.813106</td>\n",
              "      <td>0.677055</td>\n",
              "      <td>NaN</td>\n",
              "      <td>NaN</td>\n",
              "    </tr>\n",
              "    <tr>\n",
              "      <th>2019-09-05</th>\n",
              "      <td>1.149074</td>\n",
              "      <td>1.707585</td>\n",
              "      <td>-0.398772</td>\n",
              "      <td>-0.470960</td>\n",
              "      <td>3.5</td>\n",
              "      <td>NaN</td>\n",
              "    </tr>\n",
              "    <tr>\n",
              "      <th>2019-09-06</th>\n",
              "      <td>0.190664</td>\n",
              "      <td>-1.402913</td>\n",
              "      <td>-0.772934</td>\n",
              "      <td>0.372401</td>\n",
              "      <td>6.1</td>\n",
              "      <td>NaN</td>\n",
              "    </tr>\n",
              "    <tr>\n",
              "      <th>2019-09-07</th>\n",
              "      <td>0.053703</td>\n",
              "      <td>-0.141468</td>\n",
              "      <td>1.185618</td>\n",
              "      <td>-0.071422</td>\n",
              "      <td>NaN</td>\n",
              "      <td>NaN</td>\n",
              "    </tr>\n",
              "    <tr>\n",
              "      <th>2019-09-08</th>\n",
              "      <td>-0.090998</td>\n",
              "      <td>-1.307879</td>\n",
              "      <td>1.304461</td>\n",
              "      <td>-0.626320</td>\n",
              "      <td>7.0</td>\n",
              "      <td>NaN</td>\n",
              "    </tr>\n",
              "  </tbody>\n",
              "</table>\n",
              "</div>"
            ],
            "text/plain": [
              "                   a         b         c         d    f   g\n",
              "2019-09-03  0.412806  0.785678 -2.584773 -0.603822  1.0 NaN\n",
              "2019-09-04  1.460746 -0.305871 -0.813106  0.677055  NaN NaN\n",
              "2019-09-05  1.149074  1.707585 -0.398772 -0.470960  3.5 NaN\n",
              "2019-09-06  0.190664 -1.402913 -0.772934  0.372401  6.1 NaN\n",
              "2019-09-07  0.053703 -0.141468  1.185618 -0.071422  NaN NaN\n",
              "2019-09-08 -0.090998 -1.307879  1.304461 -0.626320  7.0 NaN"
            ]
          },
          "metadata": {
            "tags": []
          },
          "execution_count": 85
        }
      ]
    },
    {
      "cell_type": "code",
      "metadata": {
        "id": "jfGPLds6JVKi",
        "colab_type": "code",
        "colab": {
          "base_uri": "https://localhost:8080/",
          "height": 266
        },
        "outputId": "78c088d1-4750-4ccf-c9ee-f844cbf39ac9"
      },
      "source": [
        "df.loc['2019-09-09'] = np.nan\n",
        "df"
      ],
      "execution_count": 87,
      "outputs": [
        {
          "output_type": "execute_result",
          "data": {
            "text/html": [
              "<div>\n",
              "<style scoped>\n",
              "    .dataframe tbody tr th:only-of-type {\n",
              "        vertical-align: middle;\n",
              "    }\n",
              "\n",
              "    .dataframe tbody tr th {\n",
              "        vertical-align: top;\n",
              "    }\n",
              "\n",
              "    .dataframe thead th {\n",
              "        text-align: right;\n",
              "    }\n",
              "</style>\n",
              "<table border=\"1\" class=\"dataframe\">\n",
              "  <thead>\n",
              "    <tr style=\"text-align: right;\">\n",
              "      <th></th>\n",
              "      <th>a</th>\n",
              "      <th>b</th>\n",
              "      <th>c</th>\n",
              "      <th>d</th>\n",
              "      <th>f</th>\n",
              "      <th>g</th>\n",
              "    </tr>\n",
              "  </thead>\n",
              "  <tbody>\n",
              "    <tr>\n",
              "      <th>2019-09-03 00:00:00</th>\n",
              "      <td>0.412806</td>\n",
              "      <td>0.785678</td>\n",
              "      <td>-2.584773</td>\n",
              "      <td>-0.603822</td>\n",
              "      <td>1.0</td>\n",
              "      <td>NaN</td>\n",
              "    </tr>\n",
              "    <tr>\n",
              "      <th>2019-09-04 00:00:00</th>\n",
              "      <td>1.460746</td>\n",
              "      <td>-0.305871</td>\n",
              "      <td>-0.813106</td>\n",
              "      <td>0.677055</td>\n",
              "      <td>NaN</td>\n",
              "      <td>NaN</td>\n",
              "    </tr>\n",
              "    <tr>\n",
              "      <th>2019-09-05 00:00:00</th>\n",
              "      <td>1.149074</td>\n",
              "      <td>1.707585</td>\n",
              "      <td>-0.398772</td>\n",
              "      <td>-0.470960</td>\n",
              "      <td>3.5</td>\n",
              "      <td>NaN</td>\n",
              "    </tr>\n",
              "    <tr>\n",
              "      <th>2019-09-06 00:00:00</th>\n",
              "      <td>0.190664</td>\n",
              "      <td>-1.402913</td>\n",
              "      <td>-0.772934</td>\n",
              "      <td>0.372401</td>\n",
              "      <td>6.1</td>\n",
              "      <td>NaN</td>\n",
              "    </tr>\n",
              "    <tr>\n",
              "      <th>2019-09-07 00:00:00</th>\n",
              "      <td>0.053703</td>\n",
              "      <td>-0.141468</td>\n",
              "      <td>1.185618</td>\n",
              "      <td>-0.071422</td>\n",
              "      <td>NaN</td>\n",
              "      <td>NaN</td>\n",
              "    </tr>\n",
              "    <tr>\n",
              "      <th>2019-09-08 00:00:00</th>\n",
              "      <td>-0.090998</td>\n",
              "      <td>-1.307879</td>\n",
              "      <td>1.304461</td>\n",
              "      <td>-0.626320</td>\n",
              "      <td>7.0</td>\n",
              "      <td>NaN</td>\n",
              "    </tr>\n",
              "    <tr>\n",
              "      <th>2019-09-09</th>\n",
              "      <td>NaN</td>\n",
              "      <td>NaN</td>\n",
              "      <td>NaN</td>\n",
              "      <td>NaN</td>\n",
              "      <td>NaN</td>\n",
              "      <td>NaN</td>\n",
              "    </tr>\n",
              "  </tbody>\n",
              "</table>\n",
              "</div>"
            ],
            "text/plain": [
              "                            a         b         c         d    f   g\n",
              "2019-09-03 00:00:00  0.412806  0.785678 -2.584773 -0.603822  1.0 NaN\n",
              "2019-09-04 00:00:00  1.460746 -0.305871 -0.813106  0.677055  NaN NaN\n",
              "2019-09-05 00:00:00  1.149074  1.707585 -0.398772 -0.470960  3.5 NaN\n",
              "2019-09-06 00:00:00  0.190664 -1.402913 -0.772934  0.372401  6.1 NaN\n",
              "2019-09-07 00:00:00  0.053703 -0.141468  1.185618 -0.071422  NaN NaN\n",
              "2019-09-08 00:00:00 -0.090998 -1.307879  1.304461 -0.626320  7.0 NaN\n",
              "2019-09-09                NaN       NaN       NaN       NaN  NaN NaN"
            ]
          },
          "metadata": {
            "tags": []
          },
          "execution_count": 87
        }
      ]
    },
    {
      "cell_type": "code",
      "metadata": {
        "id": "xTxDqugFJX2K",
        "colab_type": "code",
        "colab": {}
      },
      "source": [
        "df.dropna(how='all', inplace=True)"
      ],
      "execution_count": 0,
      "outputs": []
    },
    {
      "cell_type": "code",
      "metadata": {
        "id": "OI7XGFMpJlV5",
        "colab_type": "code",
        "colab": {
          "base_uri": "https://localhost:8080/",
          "height": 235
        },
        "outputId": "d64785ff-ba08-4311-fbff-0cd8dfe3b99b"
      },
      "source": [
        "df"
      ],
      "execution_count": 92,
      "outputs": [
        {
          "output_type": "execute_result",
          "data": {
            "text/html": [
              "<div>\n",
              "<style scoped>\n",
              "    .dataframe tbody tr th:only-of-type {\n",
              "        vertical-align: middle;\n",
              "    }\n",
              "\n",
              "    .dataframe tbody tr th {\n",
              "        vertical-align: top;\n",
              "    }\n",
              "\n",
              "    .dataframe thead th {\n",
              "        text-align: right;\n",
              "    }\n",
              "</style>\n",
              "<table border=\"1\" class=\"dataframe\">\n",
              "  <thead>\n",
              "    <tr style=\"text-align: right;\">\n",
              "      <th></th>\n",
              "      <th>a</th>\n",
              "      <th>b</th>\n",
              "      <th>c</th>\n",
              "      <th>d</th>\n",
              "      <th>f</th>\n",
              "      <th>g</th>\n",
              "    </tr>\n",
              "  </thead>\n",
              "  <tbody>\n",
              "    <tr>\n",
              "      <th>2019-09-03 00:00:00</th>\n",
              "      <td>0.412806</td>\n",
              "      <td>0.785678</td>\n",
              "      <td>-2.584773</td>\n",
              "      <td>-0.603822</td>\n",
              "      <td>1.0</td>\n",
              "      <td>NaN</td>\n",
              "    </tr>\n",
              "    <tr>\n",
              "      <th>2019-09-04 00:00:00</th>\n",
              "      <td>1.460746</td>\n",
              "      <td>-0.305871</td>\n",
              "      <td>-0.813106</td>\n",
              "      <td>0.677055</td>\n",
              "      <td>NaN</td>\n",
              "      <td>NaN</td>\n",
              "    </tr>\n",
              "    <tr>\n",
              "      <th>2019-09-05 00:00:00</th>\n",
              "      <td>1.149074</td>\n",
              "      <td>1.707585</td>\n",
              "      <td>-0.398772</td>\n",
              "      <td>-0.470960</td>\n",
              "      <td>3.5</td>\n",
              "      <td>NaN</td>\n",
              "    </tr>\n",
              "    <tr>\n",
              "      <th>2019-09-06 00:00:00</th>\n",
              "      <td>0.190664</td>\n",
              "      <td>-1.402913</td>\n",
              "      <td>-0.772934</td>\n",
              "      <td>0.372401</td>\n",
              "      <td>6.1</td>\n",
              "      <td>NaN</td>\n",
              "    </tr>\n",
              "    <tr>\n",
              "      <th>2019-09-07 00:00:00</th>\n",
              "      <td>0.053703</td>\n",
              "      <td>-0.141468</td>\n",
              "      <td>1.185618</td>\n",
              "      <td>-0.071422</td>\n",
              "      <td>NaN</td>\n",
              "      <td>NaN</td>\n",
              "    </tr>\n",
              "    <tr>\n",
              "      <th>2019-09-08 00:00:00</th>\n",
              "      <td>-0.090998</td>\n",
              "      <td>-1.307879</td>\n",
              "      <td>1.304461</td>\n",
              "      <td>-0.626320</td>\n",
              "      <td>7.0</td>\n",
              "      <td>NaN</td>\n",
              "    </tr>\n",
              "  </tbody>\n",
              "</table>\n",
              "</div>"
            ],
            "text/plain": [
              "                            a         b         c         d    f   g\n",
              "2019-09-03 00:00:00  0.412806  0.785678 -2.584773 -0.603822  1.0 NaN\n",
              "2019-09-04 00:00:00  1.460746 -0.305871 -0.813106  0.677055  NaN NaN\n",
              "2019-09-05 00:00:00  1.149074  1.707585 -0.398772 -0.470960  3.5 NaN\n",
              "2019-09-06 00:00:00  0.190664 -1.402913 -0.772934  0.372401  6.1 NaN\n",
              "2019-09-07 00:00:00  0.053703 -0.141468  1.185618 -0.071422  NaN NaN\n",
              "2019-09-08 00:00:00 -0.090998 -1.307879  1.304461 -0.626320  7.0 NaN"
            ]
          },
          "metadata": {
            "tags": []
          },
          "execution_count": 92
        }
      ]
    },
    {
      "cell_type": "code",
      "metadata": {
        "id": "MvFi6KLUJrl9",
        "colab_type": "code",
        "colab": {
          "base_uri": "https://localhost:8080/",
          "height": 235
        },
        "outputId": "7abcaaf5-9d1b-4b72-9f00-3aa800b1efb2"
      },
      "source": [
        "df.fillna(value=111)"
      ],
      "execution_count": 93,
      "outputs": [
        {
          "output_type": "execute_result",
          "data": {
            "text/html": [
              "<div>\n",
              "<style scoped>\n",
              "    .dataframe tbody tr th:only-of-type {\n",
              "        vertical-align: middle;\n",
              "    }\n",
              "\n",
              "    .dataframe tbody tr th {\n",
              "        vertical-align: top;\n",
              "    }\n",
              "\n",
              "    .dataframe thead th {\n",
              "        text-align: right;\n",
              "    }\n",
              "</style>\n",
              "<table border=\"1\" class=\"dataframe\">\n",
              "  <thead>\n",
              "    <tr style=\"text-align: right;\">\n",
              "      <th></th>\n",
              "      <th>a</th>\n",
              "      <th>b</th>\n",
              "      <th>c</th>\n",
              "      <th>d</th>\n",
              "      <th>f</th>\n",
              "      <th>g</th>\n",
              "    </tr>\n",
              "  </thead>\n",
              "  <tbody>\n",
              "    <tr>\n",
              "      <th>2019-09-03 00:00:00</th>\n",
              "      <td>0.412806</td>\n",
              "      <td>0.785678</td>\n",
              "      <td>-2.584773</td>\n",
              "      <td>-0.603822</td>\n",
              "      <td>1.0</td>\n",
              "      <td>111.0</td>\n",
              "    </tr>\n",
              "    <tr>\n",
              "      <th>2019-09-04 00:00:00</th>\n",
              "      <td>1.460746</td>\n",
              "      <td>-0.305871</td>\n",
              "      <td>-0.813106</td>\n",
              "      <td>0.677055</td>\n",
              "      <td>111.0</td>\n",
              "      <td>111.0</td>\n",
              "    </tr>\n",
              "    <tr>\n",
              "      <th>2019-09-05 00:00:00</th>\n",
              "      <td>1.149074</td>\n",
              "      <td>1.707585</td>\n",
              "      <td>-0.398772</td>\n",
              "      <td>-0.470960</td>\n",
              "      <td>3.5</td>\n",
              "      <td>111.0</td>\n",
              "    </tr>\n",
              "    <tr>\n",
              "      <th>2019-09-06 00:00:00</th>\n",
              "      <td>0.190664</td>\n",
              "      <td>-1.402913</td>\n",
              "      <td>-0.772934</td>\n",
              "      <td>0.372401</td>\n",
              "      <td>6.1</td>\n",
              "      <td>111.0</td>\n",
              "    </tr>\n",
              "    <tr>\n",
              "      <th>2019-09-07 00:00:00</th>\n",
              "      <td>0.053703</td>\n",
              "      <td>-0.141468</td>\n",
              "      <td>1.185618</td>\n",
              "      <td>-0.071422</td>\n",
              "      <td>111.0</td>\n",
              "      <td>111.0</td>\n",
              "    </tr>\n",
              "    <tr>\n",
              "      <th>2019-09-08 00:00:00</th>\n",
              "      <td>-0.090998</td>\n",
              "      <td>-1.307879</td>\n",
              "      <td>1.304461</td>\n",
              "      <td>-0.626320</td>\n",
              "      <td>7.0</td>\n",
              "      <td>111.0</td>\n",
              "    </tr>\n",
              "  </tbody>\n",
              "</table>\n",
              "</div>"
            ],
            "text/plain": [
              "                            a         b         c         d      f      g\n",
              "2019-09-03 00:00:00  0.412806  0.785678 -2.584773 -0.603822    1.0  111.0\n",
              "2019-09-04 00:00:00  1.460746 -0.305871 -0.813106  0.677055  111.0  111.0\n",
              "2019-09-05 00:00:00  1.149074  1.707585 -0.398772 -0.470960    3.5  111.0\n",
              "2019-09-06 00:00:00  0.190664 -1.402913 -0.772934  0.372401    6.1  111.0\n",
              "2019-09-07 00:00:00  0.053703 -0.141468  1.185618 -0.071422  111.0  111.0\n",
              "2019-09-08 00:00:00 -0.090998 -1.307879  1.304461 -0.626320    7.0  111.0"
            ]
          },
          "metadata": {
            "tags": []
          },
          "execution_count": 93
        }
      ]
    },
    {
      "cell_type": "code",
      "metadata": {
        "id": "kSh7JGCHJ2ei",
        "colab_type": "code",
        "colab": {
          "base_uri": "https://localhost:8080/",
          "height": 235
        },
        "outputId": "87474a9f-dacf-4d85-e891-8cf020b2d860"
      },
      "source": [
        "df.isnull()"
      ],
      "execution_count": 96,
      "outputs": [
        {
          "output_type": "execute_result",
          "data": {
            "text/html": [
              "<div>\n",
              "<style scoped>\n",
              "    .dataframe tbody tr th:only-of-type {\n",
              "        vertical-align: middle;\n",
              "    }\n",
              "\n",
              "    .dataframe tbody tr th {\n",
              "        vertical-align: top;\n",
              "    }\n",
              "\n",
              "    .dataframe thead th {\n",
              "        text-align: right;\n",
              "    }\n",
              "</style>\n",
              "<table border=\"1\" class=\"dataframe\">\n",
              "  <thead>\n",
              "    <tr style=\"text-align: right;\">\n",
              "      <th></th>\n",
              "      <th>a</th>\n",
              "      <th>b</th>\n",
              "      <th>c</th>\n",
              "      <th>d</th>\n",
              "      <th>f</th>\n",
              "      <th>g</th>\n",
              "    </tr>\n",
              "  </thead>\n",
              "  <tbody>\n",
              "    <tr>\n",
              "      <th>2019-09-03 00:00:00</th>\n",
              "      <td>False</td>\n",
              "      <td>False</td>\n",
              "      <td>False</td>\n",
              "      <td>False</td>\n",
              "      <td>False</td>\n",
              "      <td>True</td>\n",
              "    </tr>\n",
              "    <tr>\n",
              "      <th>2019-09-04 00:00:00</th>\n",
              "      <td>False</td>\n",
              "      <td>False</td>\n",
              "      <td>False</td>\n",
              "      <td>False</td>\n",
              "      <td>True</td>\n",
              "      <td>True</td>\n",
              "    </tr>\n",
              "    <tr>\n",
              "      <th>2019-09-05 00:00:00</th>\n",
              "      <td>False</td>\n",
              "      <td>False</td>\n",
              "      <td>False</td>\n",
              "      <td>False</td>\n",
              "      <td>False</td>\n",
              "      <td>True</td>\n",
              "    </tr>\n",
              "    <tr>\n",
              "      <th>2019-09-06 00:00:00</th>\n",
              "      <td>False</td>\n",
              "      <td>False</td>\n",
              "      <td>False</td>\n",
              "      <td>False</td>\n",
              "      <td>False</td>\n",
              "      <td>True</td>\n",
              "    </tr>\n",
              "    <tr>\n",
              "      <th>2019-09-07 00:00:00</th>\n",
              "      <td>False</td>\n",
              "      <td>False</td>\n",
              "      <td>False</td>\n",
              "      <td>False</td>\n",
              "      <td>True</td>\n",
              "      <td>True</td>\n",
              "    </tr>\n",
              "    <tr>\n",
              "      <th>2019-09-08 00:00:00</th>\n",
              "      <td>False</td>\n",
              "      <td>False</td>\n",
              "      <td>False</td>\n",
              "      <td>False</td>\n",
              "      <td>False</td>\n",
              "      <td>True</td>\n",
              "    </tr>\n",
              "  </tbody>\n",
              "</table>\n",
              "</div>"
            ],
            "text/plain": [
              "                         a      b      c      d      f     g\n",
              "2019-09-03 00:00:00  False  False  False  False  False  True\n",
              "2019-09-04 00:00:00  False  False  False  False   True  True\n",
              "2019-09-05 00:00:00  False  False  False  False  False  True\n",
              "2019-09-06 00:00:00  False  False  False  False  False  True\n",
              "2019-09-07 00:00:00  False  False  False  False   True  True\n",
              "2019-09-08 00:00:00  False  False  False  False  False  True"
            ]
          },
          "metadata": {
            "tags": []
          },
          "execution_count": 96
        }
      ]
    },
    {
      "cell_type": "code",
      "metadata": {
        "id": "gPt32eDHJ34-",
        "colab_type": "code",
        "colab": {
          "base_uri": "https://localhost:8080/",
          "height": 111
        },
        "outputId": "224f0979-9bec-4ab5-b099-a231c2aad44a"
      },
      "source": [
        "df.loc[df.isnull()['f'], :]"
      ],
      "execution_count": 97,
      "outputs": [
        {
          "output_type": "execute_result",
          "data": {
            "text/html": [
              "<div>\n",
              "<style scoped>\n",
              "    .dataframe tbody tr th:only-of-type {\n",
              "        vertical-align: middle;\n",
              "    }\n",
              "\n",
              "    .dataframe tbody tr th {\n",
              "        vertical-align: top;\n",
              "    }\n",
              "\n",
              "    .dataframe thead th {\n",
              "        text-align: right;\n",
              "    }\n",
              "</style>\n",
              "<table border=\"1\" class=\"dataframe\">\n",
              "  <thead>\n",
              "    <tr style=\"text-align: right;\">\n",
              "      <th></th>\n",
              "      <th>a</th>\n",
              "      <th>b</th>\n",
              "      <th>c</th>\n",
              "      <th>d</th>\n",
              "      <th>f</th>\n",
              "      <th>g</th>\n",
              "    </tr>\n",
              "  </thead>\n",
              "  <tbody>\n",
              "    <tr>\n",
              "      <th>2019-09-04 00:00:00</th>\n",
              "      <td>1.460746</td>\n",
              "      <td>-0.305871</td>\n",
              "      <td>-0.813106</td>\n",
              "      <td>0.677055</td>\n",
              "      <td>NaN</td>\n",
              "      <td>NaN</td>\n",
              "    </tr>\n",
              "    <tr>\n",
              "      <th>2019-09-07 00:00:00</th>\n",
              "      <td>0.053703</td>\n",
              "      <td>-0.141468</td>\n",
              "      <td>1.185618</td>\n",
              "      <td>-0.071422</td>\n",
              "      <td>NaN</td>\n",
              "      <td>NaN</td>\n",
              "    </tr>\n",
              "  </tbody>\n",
              "</table>\n",
              "</div>"
            ],
            "text/plain": [
              "                            a         b         c         d   f   g\n",
              "2019-09-04 00:00:00  1.460746 -0.305871 -0.813106  0.677055 NaN NaN\n",
              "2019-09-07 00:00:00  0.053703 -0.141468  1.185618 -0.071422 NaN NaN"
            ]
          },
          "metadata": {
            "tags": []
          },
          "execution_count": 97
        }
      ]
    },
    {
      "cell_type": "code",
      "metadata": {
        "id": "L81vUraoKHpi",
        "colab_type": "code",
        "colab": {
          "base_uri": "https://localhost:8080/",
          "height": 143
        },
        "outputId": "059a8c55-ae2b-4c95-9b10-9d5fb2c8e606"
      },
      "source": [
        "df.isnull()['f']"
      ],
      "execution_count": 99,
      "outputs": [
        {
          "output_type": "execute_result",
          "data": {
            "text/plain": [
              "2019-09-03    False\n",
              "2019-09-04     True\n",
              "2019-09-05    False\n",
              "2019-09-06    False\n",
              "2019-09-07     True\n",
              "2019-09-08    False\n",
              "Name: f, dtype: bool"
            ]
          },
          "metadata": {
            "tags": []
          },
          "execution_count": 99
        }
      ]
    },
    {
      "cell_type": "code",
      "metadata": {
        "id": "mYBoS0pbKYbA",
        "colab_type": "code",
        "colab": {
          "base_uri": "https://localhost:8080/",
          "height": 111
        },
        "outputId": "71e75bc4-b175-4a10-84c5-95391a1620ed"
      },
      "source": [
        "df.loc[df.isnull()['f'] == 1, :]"
      ],
      "execution_count": 100,
      "outputs": [
        {
          "output_type": "execute_result",
          "data": {
            "text/html": [
              "<div>\n",
              "<style scoped>\n",
              "    .dataframe tbody tr th:only-of-type {\n",
              "        vertical-align: middle;\n",
              "    }\n",
              "\n",
              "    .dataframe tbody tr th {\n",
              "        vertical-align: top;\n",
              "    }\n",
              "\n",
              "    .dataframe thead th {\n",
              "        text-align: right;\n",
              "    }\n",
              "</style>\n",
              "<table border=\"1\" class=\"dataframe\">\n",
              "  <thead>\n",
              "    <tr style=\"text-align: right;\">\n",
              "      <th></th>\n",
              "      <th>a</th>\n",
              "      <th>b</th>\n",
              "      <th>c</th>\n",
              "      <th>d</th>\n",
              "      <th>f</th>\n",
              "      <th>g</th>\n",
              "    </tr>\n",
              "  </thead>\n",
              "  <tbody>\n",
              "    <tr>\n",
              "      <th>2019-09-04 00:00:00</th>\n",
              "      <td>1.460746</td>\n",
              "      <td>-0.305871</td>\n",
              "      <td>-0.813106</td>\n",
              "      <td>0.677055</td>\n",
              "      <td>NaN</td>\n",
              "      <td>NaN</td>\n",
              "    </tr>\n",
              "    <tr>\n",
              "      <th>2019-09-07 00:00:00</th>\n",
              "      <td>0.053703</td>\n",
              "      <td>-0.141468</td>\n",
              "      <td>1.185618</td>\n",
              "      <td>-0.071422</td>\n",
              "      <td>NaN</td>\n",
              "      <td>NaN</td>\n",
              "    </tr>\n",
              "  </tbody>\n",
              "</table>\n",
              "</div>"
            ],
            "text/plain": [
              "                            a         b         c         d   f   g\n",
              "2019-09-04 00:00:00  1.460746 -0.305871 -0.813106  0.677055 NaN NaN\n",
              "2019-09-07 00:00:00  0.053703 -0.141468  1.185618 -0.071422 NaN NaN"
            ]
          },
          "metadata": {
            "tags": []
          },
          "execution_count": 100
        }
      ]
    },
    {
      "cell_type": "code",
      "metadata": {
        "id": "fS8H4XKeKymL",
        "colab_type": "code",
        "colab": {
          "base_uri": "https://localhost:8080/",
          "height": 35
        },
        "outputId": "4501d775-a1a7-4c89-a17d-6a3fc7ca4a7f"
      },
      "source": [
        "pd.to_datetime('20190903')"
      ],
      "execution_count": 101,
      "outputs": [
        {
          "output_type": "execute_result",
          "data": {
            "text/plain": [
              "Timestamp('2019-09-03 00:00:00')"
            ]
          },
          "metadata": {
            "tags": []
          },
          "execution_count": 101
        }
      ]
    },
    {
      "cell_type": "code",
      "metadata": {
        "id": "NQzRSI7kMaiN",
        "colab_type": "code",
        "colab": {
          "base_uri": "https://localhost:8080/",
          "height": 204
        },
        "outputId": "2f1b0aeb-b4ee-488c-9176-3e089dcfb9bb"
      },
      "source": [
        "df.drop(pd.to_datetime('20190903'))"
      ],
      "execution_count": 102,
      "outputs": [
        {
          "output_type": "execute_result",
          "data": {
            "text/html": [
              "<div>\n",
              "<style scoped>\n",
              "    .dataframe tbody tr th:only-of-type {\n",
              "        vertical-align: middle;\n",
              "    }\n",
              "\n",
              "    .dataframe tbody tr th {\n",
              "        vertical-align: top;\n",
              "    }\n",
              "\n",
              "    .dataframe thead th {\n",
              "        text-align: right;\n",
              "    }\n",
              "</style>\n",
              "<table border=\"1\" class=\"dataframe\">\n",
              "  <thead>\n",
              "    <tr style=\"text-align: right;\">\n",
              "      <th></th>\n",
              "      <th>a</th>\n",
              "      <th>b</th>\n",
              "      <th>c</th>\n",
              "      <th>d</th>\n",
              "      <th>f</th>\n",
              "      <th>g</th>\n",
              "    </tr>\n",
              "  </thead>\n",
              "  <tbody>\n",
              "    <tr>\n",
              "      <th>2019-09-04 00:00:00</th>\n",
              "      <td>1.460746</td>\n",
              "      <td>-0.305871</td>\n",
              "      <td>-0.813106</td>\n",
              "      <td>0.677055</td>\n",
              "      <td>NaN</td>\n",
              "      <td>NaN</td>\n",
              "    </tr>\n",
              "    <tr>\n",
              "      <th>2019-09-05 00:00:00</th>\n",
              "      <td>1.149074</td>\n",
              "      <td>1.707585</td>\n",
              "      <td>-0.398772</td>\n",
              "      <td>-0.470960</td>\n",
              "      <td>3.5</td>\n",
              "      <td>NaN</td>\n",
              "    </tr>\n",
              "    <tr>\n",
              "      <th>2019-09-06 00:00:00</th>\n",
              "      <td>0.190664</td>\n",
              "      <td>-1.402913</td>\n",
              "      <td>-0.772934</td>\n",
              "      <td>0.372401</td>\n",
              "      <td>6.1</td>\n",
              "      <td>NaN</td>\n",
              "    </tr>\n",
              "    <tr>\n",
              "      <th>2019-09-07 00:00:00</th>\n",
              "      <td>0.053703</td>\n",
              "      <td>-0.141468</td>\n",
              "      <td>1.185618</td>\n",
              "      <td>-0.071422</td>\n",
              "      <td>NaN</td>\n",
              "      <td>NaN</td>\n",
              "    </tr>\n",
              "    <tr>\n",
              "      <th>2019-09-08 00:00:00</th>\n",
              "      <td>-0.090998</td>\n",
              "      <td>-1.307879</td>\n",
              "      <td>1.304461</td>\n",
              "      <td>-0.626320</td>\n",
              "      <td>7.0</td>\n",
              "      <td>NaN</td>\n",
              "    </tr>\n",
              "  </tbody>\n",
              "</table>\n",
              "</div>"
            ],
            "text/plain": [
              "                            a         b         c         d    f   g\n",
              "2019-09-04 00:00:00  1.460746 -0.305871 -0.813106  0.677055  NaN NaN\n",
              "2019-09-05 00:00:00  1.149074  1.707585 -0.398772 -0.470960  3.5 NaN\n",
              "2019-09-06 00:00:00  0.190664 -1.402913 -0.772934  0.372401  6.1 NaN\n",
              "2019-09-07 00:00:00  0.053703 -0.141468  1.185618 -0.071422  NaN NaN\n",
              "2019-09-08 00:00:00 -0.090998 -1.307879  1.304461 -0.626320  7.0 NaN"
            ]
          },
          "metadata": {
            "tags": []
          },
          "execution_count": 102
        }
      ]
    },
    {
      "cell_type": "code",
      "metadata": {
        "id": "wwB1a1qYMjKz",
        "colab_type": "code",
        "colab": {
          "base_uri": "https://localhost:8080/",
          "height": 173
        },
        "outputId": "fc8e48ee-3bf4-4859-bccc-1853645ef8e2"
      },
      "source": [
        "df.drop([pd.to_datetime('20190904'), pd.to_datetime('20190905')])"
      ],
      "execution_count": 103,
      "outputs": [
        {
          "output_type": "execute_result",
          "data": {
            "text/html": [
              "<div>\n",
              "<style scoped>\n",
              "    .dataframe tbody tr th:only-of-type {\n",
              "        vertical-align: middle;\n",
              "    }\n",
              "\n",
              "    .dataframe tbody tr th {\n",
              "        vertical-align: top;\n",
              "    }\n",
              "\n",
              "    .dataframe thead th {\n",
              "        text-align: right;\n",
              "    }\n",
              "</style>\n",
              "<table border=\"1\" class=\"dataframe\">\n",
              "  <thead>\n",
              "    <tr style=\"text-align: right;\">\n",
              "      <th></th>\n",
              "      <th>a</th>\n",
              "      <th>b</th>\n",
              "      <th>c</th>\n",
              "      <th>d</th>\n",
              "      <th>f</th>\n",
              "      <th>g</th>\n",
              "    </tr>\n",
              "  </thead>\n",
              "  <tbody>\n",
              "    <tr>\n",
              "      <th>2019-09-03 00:00:00</th>\n",
              "      <td>0.412806</td>\n",
              "      <td>0.785678</td>\n",
              "      <td>-2.584773</td>\n",
              "      <td>-0.603822</td>\n",
              "      <td>1.0</td>\n",
              "      <td>NaN</td>\n",
              "    </tr>\n",
              "    <tr>\n",
              "      <th>2019-09-06 00:00:00</th>\n",
              "      <td>0.190664</td>\n",
              "      <td>-1.402913</td>\n",
              "      <td>-0.772934</td>\n",
              "      <td>0.372401</td>\n",
              "      <td>6.1</td>\n",
              "      <td>NaN</td>\n",
              "    </tr>\n",
              "    <tr>\n",
              "      <th>2019-09-07 00:00:00</th>\n",
              "      <td>0.053703</td>\n",
              "      <td>-0.141468</td>\n",
              "      <td>1.185618</td>\n",
              "      <td>-0.071422</td>\n",
              "      <td>NaN</td>\n",
              "      <td>NaN</td>\n",
              "    </tr>\n",
              "    <tr>\n",
              "      <th>2019-09-08 00:00:00</th>\n",
              "      <td>-0.090998</td>\n",
              "      <td>-1.307879</td>\n",
              "      <td>1.304461</td>\n",
              "      <td>-0.626320</td>\n",
              "      <td>7.0</td>\n",
              "      <td>NaN</td>\n",
              "    </tr>\n",
              "  </tbody>\n",
              "</table>\n",
              "</div>"
            ],
            "text/plain": [
              "                            a         b         c         d    f   g\n",
              "2019-09-03 00:00:00  0.412806  0.785678 -2.584773 -0.603822  1.0 NaN\n",
              "2019-09-06 00:00:00  0.190664 -1.402913 -0.772934  0.372401  6.1 NaN\n",
              "2019-09-07 00:00:00  0.053703 -0.141468  1.185618 -0.071422  NaN NaN\n",
              "2019-09-08 00:00:00 -0.090998 -1.307879  1.304461 -0.626320  7.0 NaN"
            ]
          },
          "metadata": {
            "tags": []
          },
          "execution_count": 103
        }
      ]
    },
    {
      "cell_type": "code",
      "metadata": {
        "id": "LKFcwp1VMrvc",
        "colab_type": "code",
        "colab": {
          "base_uri": "https://localhost:8080/",
          "height": 235
        },
        "outputId": "472835aa-14d9-48c1-903e-dd32f501c919"
      },
      "source": [
        "df.drop('f', axis=1)"
      ],
      "execution_count": 104,
      "outputs": [
        {
          "output_type": "execute_result",
          "data": {
            "text/html": [
              "<div>\n",
              "<style scoped>\n",
              "    .dataframe tbody tr th:only-of-type {\n",
              "        vertical-align: middle;\n",
              "    }\n",
              "\n",
              "    .dataframe tbody tr th {\n",
              "        vertical-align: top;\n",
              "    }\n",
              "\n",
              "    .dataframe thead th {\n",
              "        text-align: right;\n",
              "    }\n",
              "</style>\n",
              "<table border=\"1\" class=\"dataframe\">\n",
              "  <thead>\n",
              "    <tr style=\"text-align: right;\">\n",
              "      <th></th>\n",
              "      <th>a</th>\n",
              "      <th>b</th>\n",
              "      <th>c</th>\n",
              "      <th>d</th>\n",
              "      <th>g</th>\n",
              "    </tr>\n",
              "  </thead>\n",
              "  <tbody>\n",
              "    <tr>\n",
              "      <th>2019-09-03 00:00:00</th>\n",
              "      <td>0.412806</td>\n",
              "      <td>0.785678</td>\n",
              "      <td>-2.584773</td>\n",
              "      <td>-0.603822</td>\n",
              "      <td>NaN</td>\n",
              "    </tr>\n",
              "    <tr>\n",
              "      <th>2019-09-04 00:00:00</th>\n",
              "      <td>1.460746</td>\n",
              "      <td>-0.305871</td>\n",
              "      <td>-0.813106</td>\n",
              "      <td>0.677055</td>\n",
              "      <td>NaN</td>\n",
              "    </tr>\n",
              "    <tr>\n",
              "      <th>2019-09-05 00:00:00</th>\n",
              "      <td>1.149074</td>\n",
              "      <td>1.707585</td>\n",
              "      <td>-0.398772</td>\n",
              "      <td>-0.470960</td>\n",
              "      <td>NaN</td>\n",
              "    </tr>\n",
              "    <tr>\n",
              "      <th>2019-09-06 00:00:00</th>\n",
              "      <td>0.190664</td>\n",
              "      <td>-1.402913</td>\n",
              "      <td>-0.772934</td>\n",
              "      <td>0.372401</td>\n",
              "      <td>NaN</td>\n",
              "    </tr>\n",
              "    <tr>\n",
              "      <th>2019-09-07 00:00:00</th>\n",
              "      <td>0.053703</td>\n",
              "      <td>-0.141468</td>\n",
              "      <td>1.185618</td>\n",
              "      <td>-0.071422</td>\n",
              "      <td>NaN</td>\n",
              "    </tr>\n",
              "    <tr>\n",
              "      <th>2019-09-08 00:00:00</th>\n",
              "      <td>-0.090998</td>\n",
              "      <td>-1.307879</td>\n",
              "      <td>1.304461</td>\n",
              "      <td>-0.626320</td>\n",
              "      <td>NaN</td>\n",
              "    </tr>\n",
              "  </tbody>\n",
              "</table>\n",
              "</div>"
            ],
            "text/plain": [
              "                            a         b         c         d   g\n",
              "2019-09-03 00:00:00  0.412806  0.785678 -2.584773 -0.603822 NaN\n",
              "2019-09-04 00:00:00  1.460746 -0.305871 -0.813106  0.677055 NaN\n",
              "2019-09-05 00:00:00  1.149074  1.707585 -0.398772 -0.470960 NaN\n",
              "2019-09-06 00:00:00  0.190664 -1.402913 -0.772934  0.372401 NaN\n",
              "2019-09-07 00:00:00  0.053703 -0.141468  1.185618 -0.071422 NaN\n",
              "2019-09-08 00:00:00 -0.090998 -1.307879  1.304461 -0.626320 NaN"
            ]
          },
          "metadata": {
            "tags": []
          },
          "execution_count": 104
        }
      ]
    },
    {
      "cell_type": "code",
      "metadata": {
        "id": "YIXqv331Mvws",
        "colab_type": "code",
        "colab": {
          "base_uri": "https://localhost:8080/",
          "height": 235
        },
        "outputId": "6e23bb01-622f-4b14-939b-f34103624628"
      },
      "source": [
        "df.drop(['a', 'b'], axis=1)"
      ],
      "execution_count": 105,
      "outputs": [
        {
          "output_type": "execute_result",
          "data": {
            "text/html": [
              "<div>\n",
              "<style scoped>\n",
              "    .dataframe tbody tr th:only-of-type {\n",
              "        vertical-align: middle;\n",
              "    }\n",
              "\n",
              "    .dataframe tbody tr th {\n",
              "        vertical-align: top;\n",
              "    }\n",
              "\n",
              "    .dataframe thead th {\n",
              "        text-align: right;\n",
              "    }\n",
              "</style>\n",
              "<table border=\"1\" class=\"dataframe\">\n",
              "  <thead>\n",
              "    <tr style=\"text-align: right;\">\n",
              "      <th></th>\n",
              "      <th>c</th>\n",
              "      <th>d</th>\n",
              "      <th>f</th>\n",
              "      <th>g</th>\n",
              "    </tr>\n",
              "  </thead>\n",
              "  <tbody>\n",
              "    <tr>\n",
              "      <th>2019-09-03 00:00:00</th>\n",
              "      <td>-2.584773</td>\n",
              "      <td>-0.603822</td>\n",
              "      <td>1.0</td>\n",
              "      <td>NaN</td>\n",
              "    </tr>\n",
              "    <tr>\n",
              "      <th>2019-09-04 00:00:00</th>\n",
              "      <td>-0.813106</td>\n",
              "      <td>0.677055</td>\n",
              "      <td>NaN</td>\n",
              "      <td>NaN</td>\n",
              "    </tr>\n",
              "    <tr>\n",
              "      <th>2019-09-05 00:00:00</th>\n",
              "      <td>-0.398772</td>\n",
              "      <td>-0.470960</td>\n",
              "      <td>3.5</td>\n",
              "      <td>NaN</td>\n",
              "    </tr>\n",
              "    <tr>\n",
              "      <th>2019-09-06 00:00:00</th>\n",
              "      <td>-0.772934</td>\n",
              "      <td>0.372401</td>\n",
              "      <td>6.1</td>\n",
              "      <td>NaN</td>\n",
              "    </tr>\n",
              "    <tr>\n",
              "      <th>2019-09-07 00:00:00</th>\n",
              "      <td>1.185618</td>\n",
              "      <td>-0.071422</td>\n",
              "      <td>NaN</td>\n",
              "      <td>NaN</td>\n",
              "    </tr>\n",
              "    <tr>\n",
              "      <th>2019-09-08 00:00:00</th>\n",
              "      <td>1.304461</td>\n",
              "      <td>-0.626320</td>\n",
              "      <td>7.0</td>\n",
              "      <td>NaN</td>\n",
              "    </tr>\n",
              "  </tbody>\n",
              "</table>\n",
              "</div>"
            ],
            "text/plain": [
              "                            c         d    f   g\n",
              "2019-09-03 00:00:00 -2.584773 -0.603822  1.0 NaN\n",
              "2019-09-04 00:00:00 -0.813106  0.677055  NaN NaN\n",
              "2019-09-05 00:00:00 -0.398772 -0.470960  3.5 NaN\n",
              "2019-09-06 00:00:00 -0.772934  0.372401  6.1 NaN\n",
              "2019-09-07 00:00:00  1.185618 -0.071422  NaN NaN\n",
              "2019-09-08 00:00:00  1.304461 -0.626320  7.0 NaN"
            ]
          },
          "metadata": {
            "tags": []
          },
          "execution_count": 105
        }
      ]
    },
    {
      "cell_type": "code",
      "metadata": {
        "id": "GqlgVjcpMyqD",
        "colab_type": "code",
        "colab": {
          "base_uri": "https://localhost:8080/",
          "height": 173
        },
        "outputId": "b371f663-7fa7-49a6-d169-0e363153d99a"
      },
      "source": [
        "# Methods for Data Analysis\n",
        "\n",
        "data = [[1.4, np.nan],\n",
        "        [7.1, -4.5],\n",
        "        [np.nan, np.nan],\n",
        "        [0.75, -1.3]]\n",
        "df = pd.DataFrame(data, columns=['f1', 'f2'],\n",
        "                  index=['a', 'b', 'c', 'd'])\n",
        "df"
      ],
      "execution_count": 106,
      "outputs": [
        {
          "output_type": "execute_result",
          "data": {
            "text/html": [
              "<div>\n",
              "<style scoped>\n",
              "    .dataframe tbody tr th:only-of-type {\n",
              "        vertical-align: middle;\n",
              "    }\n",
              "\n",
              "    .dataframe tbody tr th {\n",
              "        vertical-align: top;\n",
              "    }\n",
              "\n",
              "    .dataframe thead th {\n",
              "        text-align: right;\n",
              "    }\n",
              "</style>\n",
              "<table border=\"1\" class=\"dataframe\">\n",
              "  <thead>\n",
              "    <tr style=\"text-align: right;\">\n",
              "      <th></th>\n",
              "      <th>f1</th>\n",
              "      <th>f2</th>\n",
              "    </tr>\n",
              "  </thead>\n",
              "  <tbody>\n",
              "    <tr>\n",
              "      <th>a</th>\n",
              "      <td>1.40</td>\n",
              "      <td>NaN</td>\n",
              "    </tr>\n",
              "    <tr>\n",
              "      <th>b</th>\n",
              "      <td>7.10</td>\n",
              "      <td>-4.5</td>\n",
              "    </tr>\n",
              "    <tr>\n",
              "      <th>c</th>\n",
              "      <td>NaN</td>\n",
              "      <td>NaN</td>\n",
              "    </tr>\n",
              "    <tr>\n",
              "      <th>d</th>\n",
              "      <td>0.75</td>\n",
              "      <td>-1.3</td>\n",
              "    </tr>\n",
              "  </tbody>\n",
              "</table>\n",
              "</div>"
            ],
            "text/plain": [
              "     f1   f2\n",
              "a  1.40  NaN\n",
              "b  7.10 -4.5\n",
              "c   NaN  NaN\n",
              "d  0.75 -1.3"
            ]
          },
          "metadata": {
            "tags": []
          },
          "execution_count": 106
        }
      ]
    },
    {
      "cell_type": "code",
      "metadata": {
        "id": "KX6ygnhmNLDc",
        "colab_type": "code",
        "colab": {
          "base_uri": "https://localhost:8080/",
          "height": 71
        },
        "outputId": "08ab542a-316b-4506-e036-a4ba315b84c5"
      },
      "source": [
        "# sum\n",
        "df.sum(axis=0) # direction of row (down)"
      ],
      "execution_count": 107,
      "outputs": [
        {
          "output_type": "execute_result",
          "data": {
            "text/plain": [
              "f1    9.25\n",
              "f2   -5.80\n",
              "dtype: float64"
            ]
          },
          "metadata": {
            "tags": []
          },
          "execution_count": 107
        }
      ]
    },
    {
      "cell_type": "code",
      "metadata": {
        "id": "xJ6NBjz3NQfs",
        "colab_type": "code",
        "colab": {
          "base_uri": "https://localhost:8080/",
          "height": 107
        },
        "outputId": "d79c709d-83d8-4b39-df52-33abf8195a6d"
      },
      "source": [
        "df.sum(axis=1) # direction of columns (right)"
      ],
      "execution_count": 108,
      "outputs": [
        {
          "output_type": "execute_result",
          "data": {
            "text/plain": [
              "a    1.40\n",
              "b    2.60\n",
              "c    0.00\n",
              "d   -0.55\n",
              "dtype: float64"
            ]
          },
          "metadata": {
            "tags": []
          },
          "execution_count": 108
        }
      ]
    },
    {
      "cell_type": "code",
      "metadata": {
        "id": "L26LvRx5Ncgs",
        "colab_type": "code",
        "colab": {
          "base_uri": "https://localhost:8080/",
          "height": 71
        },
        "outputId": "04dc7924-c3fb-4a21-c9d0-68addc438608"
      },
      "source": [
        "df.sum() # default direction(axis) is 0"
      ],
      "execution_count": 109,
      "outputs": [
        {
          "output_type": "execute_result",
          "data": {
            "text/plain": [
              "f1    9.25\n",
              "f2   -5.80\n",
              "dtype: float64"
            ]
          },
          "metadata": {
            "tags": []
          },
          "execution_count": 109
        }
      ]
    },
    {
      "cell_type": "code",
      "metadata": {
        "id": "i1YAzdGzNdYq",
        "colab_type": "code",
        "colab": {
          "base_uri": "https://localhost:8080/",
          "height": 107
        },
        "outputId": "19e09513-2b1a-404f-bd1d-78fa8318c7e4"
      },
      "source": [
        "# defalut : nan is ignored\n",
        "# set param skipna=False\n",
        "# nan + anything = nan\n",
        "df.sum(axis=1, skipna=False) "
      ],
      "execution_count": 110,
      "outputs": [
        {
          "output_type": "execute_result",
          "data": {
            "text/plain": [
              "a     NaN\n",
              "b    2.60\n",
              "c     NaN\n",
              "d   -0.55\n",
              "dtype: float64"
            ]
          },
          "metadata": {
            "tags": []
          },
          "execution_count": 110
        }
      ]
    },
    {
      "cell_type": "code",
      "metadata": {
        "id": "S-szSyKcOS5U",
        "colab_type": "code",
        "colab": {
          "base_uri": "https://localhost:8080/",
          "height": 35
        },
        "outputId": "5ce59571-ca31-49a6-c526-f00a672fcee3"
      },
      "source": [
        "df['f1'].sum()"
      ],
      "execution_count": 111,
      "outputs": [
        {
          "output_type": "execute_result",
          "data": {
            "text/plain": [
              "9.25"
            ]
          },
          "metadata": {
            "tags": []
          },
          "execution_count": 111
        }
      ]
    },
    {
      "cell_type": "code",
      "metadata": {
        "id": "D2l3G5SgOlwW",
        "colab_type": "code",
        "colab": {
          "base_uri": "https://localhost:8080/",
          "height": 35
        },
        "outputId": "de269bc6-a2ff-4d83-b8ad-3dfb1452be3b"
      },
      "source": [
        "df.loc['b'].sum()"
      ],
      "execution_count": 112,
      "outputs": [
        {
          "output_type": "execute_result",
          "data": {
            "text/plain": [
              "2.5999999999999996"
            ]
          },
          "metadata": {
            "tags": []
          },
          "execution_count": 112
        }
      ]
    },
    {
      "cell_type": "code",
      "metadata": {
        "id": "mebg36UEOoVE",
        "colab_type": "code",
        "colab": {
          "base_uri": "https://localhost:8080/",
          "height": 35
        },
        "outputId": "237e123a-9b61-4317-b7fa-9f3262295682"
      },
      "source": [
        "'''\n",
        "sum() \n",
        "count() # number of not nan value\n",
        "min(), max() # minimum, maximum value\n",
        "argmin(), argmax() # index of minimum, maximum value\n",
        "idxmin(), idxmax() # minimum, maximum value of idx\n",
        "mean() # mean\n",
        "median() # median\n",
        "mad() # absolute deviation\n",
        "std(), var() # standard, variance\n",
        "cumsum() # from 0 ~\n",
        "cumprod() # from 1 ~\n",
        "'''"
      ],
      "execution_count": 113,
      "outputs": [
        {
          "output_type": "execute_result",
          "data": {
            "text/plain": [
              "'\\nsum()\\ncount()\\nmin(), max()\\nargmin(), argmax()\\nidxmin(), idxmax()\\nmean()\\nmedian()\\nmad()\\nstd(), var()\\ncumsum()\\ncumprod()\\n'"
            ]
          },
          "metadata": {
            "tags": []
          },
          "execution_count": 113
        }
      ]
    },
    {
      "cell_type": "code",
      "metadata": {
        "id": "JZpPU-caO7mj",
        "colab_type": "code",
        "colab": {
          "base_uri": "https://localhost:8080/",
          "height": 235
        },
        "outputId": "d7827c2d-718d-4161-cade-f306385137e8"
      },
      "source": [
        "df2 = pd.DataFrame(np.random.randn(6, 4),\n",
        "                   columns=['f1', 'f2', 'f3', 'f4'],\n",
        "                   index=pd.date_range('20190819', periods=6))\n",
        "df2"
      ],
      "execution_count": 114,
      "outputs": [
        {
          "output_type": "execute_result",
          "data": {
            "text/html": [
              "<div>\n",
              "<style scoped>\n",
              "    .dataframe tbody tr th:only-of-type {\n",
              "        vertical-align: middle;\n",
              "    }\n",
              "\n",
              "    .dataframe tbody tr th {\n",
              "        vertical-align: top;\n",
              "    }\n",
              "\n",
              "    .dataframe thead th {\n",
              "        text-align: right;\n",
              "    }\n",
              "</style>\n",
              "<table border=\"1\" class=\"dataframe\">\n",
              "  <thead>\n",
              "    <tr style=\"text-align: right;\">\n",
              "      <th></th>\n",
              "      <th>f1</th>\n",
              "      <th>f2</th>\n",
              "      <th>f3</th>\n",
              "      <th>f4</th>\n",
              "    </tr>\n",
              "  </thead>\n",
              "  <tbody>\n",
              "    <tr>\n",
              "      <th>2019-08-19</th>\n",
              "      <td>0.290107</td>\n",
              "      <td>-1.003232</td>\n",
              "      <td>2.150938</td>\n",
              "      <td>-0.219107</td>\n",
              "    </tr>\n",
              "    <tr>\n",
              "      <th>2019-08-20</th>\n",
              "      <td>-1.197955</td>\n",
              "      <td>-2.391547</td>\n",
              "      <td>-0.289861</td>\n",
              "      <td>-0.957297</td>\n",
              "    </tr>\n",
              "    <tr>\n",
              "      <th>2019-08-21</th>\n",
              "      <td>-1.591266</td>\n",
              "      <td>0.458595</td>\n",
              "      <td>0.405646</td>\n",
              "      <td>0.492458</td>\n",
              "    </tr>\n",
              "    <tr>\n",
              "      <th>2019-08-22</th>\n",
              "      <td>-0.591570</td>\n",
              "      <td>-0.426321</td>\n",
              "      <td>1.890617</td>\n",
              "      <td>1.947095</td>\n",
              "    </tr>\n",
              "    <tr>\n",
              "      <th>2019-08-23</th>\n",
              "      <td>0.436061</td>\n",
              "      <td>-0.298017</td>\n",
              "      <td>-1.461563</td>\n",
              "      <td>0.486023</td>\n",
              "    </tr>\n",
              "    <tr>\n",
              "      <th>2019-08-24</th>\n",
              "      <td>1.065241</td>\n",
              "      <td>-1.928416</td>\n",
              "      <td>0.497166</td>\n",
              "      <td>1.698973</td>\n",
              "    </tr>\n",
              "  </tbody>\n",
              "</table>\n",
              "</div>"
            ],
            "text/plain": [
              "                  f1        f2        f3        f4\n",
              "2019-08-19  0.290107 -1.003232  2.150938 -0.219107\n",
              "2019-08-20 -1.197955 -2.391547 -0.289861 -0.957297\n",
              "2019-08-21 -1.591266  0.458595  0.405646  0.492458\n",
              "2019-08-22 -0.591570 -0.426321  1.890617  1.947095\n",
              "2019-08-23  0.436061 -0.298017 -1.461563  0.486023\n",
              "2019-08-24  1.065241 -1.928416  0.497166  1.698973"
            ]
          },
          "metadata": {
            "tags": []
          },
          "execution_count": 114
        }
      ]
    },
    {
      "cell_type": "code",
      "metadata": {
        "id": "9qVAOqy5PzhB",
        "colab_type": "code",
        "colab": {
          "base_uri": "https://localhost:8080/",
          "height": 35
        },
        "outputId": "06c29dc9-b46c-40d7-c5f7-5e0f59cb0ec8"
      },
      "source": [
        "# correlation of f2, f3\n",
        "df2['f2'].corr(df2['f3'])"
      ],
      "execution_count": 117,
      "outputs": [
        {
          "output_type": "execute_result",
          "data": {
            "text/plain": [
              "0.05068825008146462"
            ]
          },
          "metadata": {
            "tags": []
          },
          "execution_count": 117
        }
      ]
    },
    {
      "cell_type": "code",
      "metadata": {
        "id": "NH3KX2rhP5Pd",
        "colab_type": "code",
        "colab": {
          "base_uri": "https://localhost:8080/",
          "height": 35
        },
        "outputId": "c10efcd4-f2c0-4c7d-ed3d-5956ef4fac3d"
      },
      "source": [
        "# covariance of f2, f3\n",
        "df2['f2'].cov(df2['f3'])"
      ],
      "execution_count": 118,
      "outputs": [
        {
          "output_type": "execute_result",
          "data": {
            "text/plain": [
              "0.07327299867654559"
            ]
          },
          "metadata": {
            "tags": []
          },
          "execution_count": 118
        }
      ]
    },
    {
      "cell_type": "code",
      "metadata": {
        "id": "otc7wgd0QDTU",
        "colab_type": "code",
        "colab": {
          "base_uri": "https://localhost:8080/",
          "height": 235
        },
        "outputId": "b22769af-103c-4f1c-9107-2af57fd8225d"
      },
      "source": [
        "# etc method (sort ...)\n",
        "\n",
        "dates = df2.index\n",
        "random_dates = np.random.permutation(dates)\n",
        "df2 = df2.reindex(index=random_dates, columns=['f4', 'f2', 'f3', 'f1'])\n",
        "df2"
      ],
      "execution_count": 120,
      "outputs": [
        {
          "output_type": "execute_result",
          "data": {
            "text/html": [
              "<div>\n",
              "<style scoped>\n",
              "    .dataframe tbody tr th:only-of-type {\n",
              "        vertical-align: middle;\n",
              "    }\n",
              "\n",
              "    .dataframe tbody tr th {\n",
              "        vertical-align: top;\n",
              "    }\n",
              "\n",
              "    .dataframe thead th {\n",
              "        text-align: right;\n",
              "    }\n",
              "</style>\n",
              "<table border=\"1\" class=\"dataframe\">\n",
              "  <thead>\n",
              "    <tr style=\"text-align: right;\">\n",
              "      <th></th>\n",
              "      <th>f4</th>\n",
              "      <th>f2</th>\n",
              "      <th>f3</th>\n",
              "      <th>f1</th>\n",
              "    </tr>\n",
              "  </thead>\n",
              "  <tbody>\n",
              "    <tr>\n",
              "      <th>2019-08-21</th>\n",
              "      <td>0.492458</td>\n",
              "      <td>0.458595</td>\n",
              "      <td>0.405646</td>\n",
              "      <td>-1.591266</td>\n",
              "    </tr>\n",
              "    <tr>\n",
              "      <th>2019-08-22</th>\n",
              "      <td>1.947095</td>\n",
              "      <td>-0.426321</td>\n",
              "      <td>1.890617</td>\n",
              "      <td>-0.591570</td>\n",
              "    </tr>\n",
              "    <tr>\n",
              "      <th>2019-08-24</th>\n",
              "      <td>1.698973</td>\n",
              "      <td>-1.928416</td>\n",
              "      <td>0.497166</td>\n",
              "      <td>1.065241</td>\n",
              "    </tr>\n",
              "    <tr>\n",
              "      <th>2019-08-23</th>\n",
              "      <td>0.486023</td>\n",
              "      <td>-0.298017</td>\n",
              "      <td>-1.461563</td>\n",
              "      <td>0.436061</td>\n",
              "    </tr>\n",
              "    <tr>\n",
              "      <th>2019-08-20</th>\n",
              "      <td>-0.957297</td>\n",
              "      <td>-2.391547</td>\n",
              "      <td>-0.289861</td>\n",
              "      <td>-1.197955</td>\n",
              "    </tr>\n",
              "    <tr>\n",
              "      <th>2019-08-19</th>\n",
              "      <td>-0.219107</td>\n",
              "      <td>-1.003232</td>\n",
              "      <td>2.150938</td>\n",
              "      <td>0.290107</td>\n",
              "    </tr>\n",
              "  </tbody>\n",
              "</table>\n",
              "</div>"
            ],
            "text/plain": [
              "                  f4        f2        f3        f1\n",
              "2019-08-21  0.492458  0.458595  0.405646 -1.591266\n",
              "2019-08-22  1.947095 -0.426321  1.890617 -0.591570\n",
              "2019-08-24  1.698973 -1.928416  0.497166  1.065241\n",
              "2019-08-23  0.486023 -0.298017 -1.461563  0.436061\n",
              "2019-08-20 -0.957297 -2.391547 -0.289861 -1.197955\n",
              "2019-08-19 -0.219107 -1.003232  2.150938  0.290107"
            ]
          },
          "metadata": {
            "tags": []
          },
          "execution_count": 120
        }
      ]
    },
    {
      "cell_type": "code",
      "metadata": {
        "id": "XQFTI18CQpE1",
        "colab_type": "code",
        "colab": {
          "base_uri": "https://localhost:8080/",
          "height": 235
        },
        "outputId": "7425ea7b-6d58-489a-b6f7-e502443dab1c"
      },
      "source": [
        "# sort_index()\n",
        "# sort_values()\n",
        "df2.sort_index(axis=0)"
      ],
      "execution_count": 122,
      "outputs": [
        {
          "output_type": "execute_result",
          "data": {
            "text/html": [
              "<div>\n",
              "<style scoped>\n",
              "    .dataframe tbody tr th:only-of-type {\n",
              "        vertical-align: middle;\n",
              "    }\n",
              "\n",
              "    .dataframe tbody tr th {\n",
              "        vertical-align: top;\n",
              "    }\n",
              "\n",
              "    .dataframe thead th {\n",
              "        text-align: right;\n",
              "    }\n",
              "</style>\n",
              "<table border=\"1\" class=\"dataframe\">\n",
              "  <thead>\n",
              "    <tr style=\"text-align: right;\">\n",
              "      <th></th>\n",
              "      <th>f4</th>\n",
              "      <th>f2</th>\n",
              "      <th>f3</th>\n",
              "      <th>f1</th>\n",
              "    </tr>\n",
              "  </thead>\n",
              "  <tbody>\n",
              "    <tr>\n",
              "      <th>2019-08-19</th>\n",
              "      <td>-0.219107</td>\n",
              "      <td>-1.003232</td>\n",
              "      <td>2.150938</td>\n",
              "      <td>0.290107</td>\n",
              "    </tr>\n",
              "    <tr>\n",
              "      <th>2019-08-20</th>\n",
              "      <td>-0.957297</td>\n",
              "      <td>-2.391547</td>\n",
              "      <td>-0.289861</td>\n",
              "      <td>-1.197955</td>\n",
              "    </tr>\n",
              "    <tr>\n",
              "      <th>2019-08-21</th>\n",
              "      <td>0.492458</td>\n",
              "      <td>0.458595</td>\n",
              "      <td>0.405646</td>\n",
              "      <td>-1.591266</td>\n",
              "    </tr>\n",
              "    <tr>\n",
              "      <th>2019-08-22</th>\n",
              "      <td>1.947095</td>\n",
              "      <td>-0.426321</td>\n",
              "      <td>1.890617</td>\n",
              "      <td>-0.591570</td>\n",
              "    </tr>\n",
              "    <tr>\n",
              "      <th>2019-08-23</th>\n",
              "      <td>0.486023</td>\n",
              "      <td>-0.298017</td>\n",
              "      <td>-1.461563</td>\n",
              "      <td>0.436061</td>\n",
              "    </tr>\n",
              "    <tr>\n",
              "      <th>2019-08-24</th>\n",
              "      <td>1.698973</td>\n",
              "      <td>-1.928416</td>\n",
              "      <td>0.497166</td>\n",
              "      <td>1.065241</td>\n",
              "    </tr>\n",
              "  </tbody>\n",
              "</table>\n",
              "</div>"
            ],
            "text/plain": [
              "                  f4        f2        f3        f1\n",
              "2019-08-19 -0.219107 -1.003232  2.150938  0.290107\n",
              "2019-08-20 -0.957297 -2.391547 -0.289861 -1.197955\n",
              "2019-08-21  0.492458  0.458595  0.405646 -1.591266\n",
              "2019-08-22  1.947095 -0.426321  1.890617 -0.591570\n",
              "2019-08-23  0.486023 -0.298017 -1.461563  0.436061\n",
              "2019-08-24  1.698973 -1.928416  0.497166  1.065241"
            ]
          },
          "metadata": {
            "tags": []
          },
          "execution_count": 122
        }
      ]
    },
    {
      "cell_type": "code",
      "metadata": {
        "id": "Qbyx6NjlQxxJ",
        "colab_type": "code",
        "colab": {
          "base_uri": "https://localhost:8080/",
          "height": 235
        },
        "outputId": "e6608ecd-b2b9-43c6-c072-432e74a6d899"
      },
      "source": [
        "df2.sort_index(axis=1)"
      ],
      "execution_count": 123,
      "outputs": [
        {
          "output_type": "execute_result",
          "data": {
            "text/html": [
              "<div>\n",
              "<style scoped>\n",
              "    .dataframe tbody tr th:only-of-type {\n",
              "        vertical-align: middle;\n",
              "    }\n",
              "\n",
              "    .dataframe tbody tr th {\n",
              "        vertical-align: top;\n",
              "    }\n",
              "\n",
              "    .dataframe thead th {\n",
              "        text-align: right;\n",
              "    }\n",
              "</style>\n",
              "<table border=\"1\" class=\"dataframe\">\n",
              "  <thead>\n",
              "    <tr style=\"text-align: right;\">\n",
              "      <th></th>\n",
              "      <th>f1</th>\n",
              "      <th>f2</th>\n",
              "      <th>f3</th>\n",
              "      <th>f4</th>\n",
              "    </tr>\n",
              "  </thead>\n",
              "  <tbody>\n",
              "    <tr>\n",
              "      <th>2019-08-21</th>\n",
              "      <td>-1.591266</td>\n",
              "      <td>0.458595</td>\n",
              "      <td>0.405646</td>\n",
              "      <td>0.492458</td>\n",
              "    </tr>\n",
              "    <tr>\n",
              "      <th>2019-08-22</th>\n",
              "      <td>-0.591570</td>\n",
              "      <td>-0.426321</td>\n",
              "      <td>1.890617</td>\n",
              "      <td>1.947095</td>\n",
              "    </tr>\n",
              "    <tr>\n",
              "      <th>2019-08-24</th>\n",
              "      <td>1.065241</td>\n",
              "      <td>-1.928416</td>\n",
              "      <td>0.497166</td>\n",
              "      <td>1.698973</td>\n",
              "    </tr>\n",
              "    <tr>\n",
              "      <th>2019-08-23</th>\n",
              "      <td>0.436061</td>\n",
              "      <td>-0.298017</td>\n",
              "      <td>-1.461563</td>\n",
              "      <td>0.486023</td>\n",
              "    </tr>\n",
              "    <tr>\n",
              "      <th>2019-08-20</th>\n",
              "      <td>-1.197955</td>\n",
              "      <td>-2.391547</td>\n",
              "      <td>-0.289861</td>\n",
              "      <td>-0.957297</td>\n",
              "    </tr>\n",
              "    <tr>\n",
              "      <th>2019-08-19</th>\n",
              "      <td>0.290107</td>\n",
              "      <td>-1.003232</td>\n",
              "      <td>2.150938</td>\n",
              "      <td>-0.219107</td>\n",
              "    </tr>\n",
              "  </tbody>\n",
              "</table>\n",
              "</div>"
            ],
            "text/plain": [
              "                  f1        f2        f3        f4\n",
              "2019-08-21 -1.591266  0.458595  0.405646  0.492458\n",
              "2019-08-22 -0.591570 -0.426321  1.890617  1.947095\n",
              "2019-08-24  1.065241 -1.928416  0.497166  1.698973\n",
              "2019-08-23  0.436061 -0.298017 -1.461563  0.486023\n",
              "2019-08-20 -1.197955 -2.391547 -0.289861 -0.957297\n",
              "2019-08-19  0.290107 -1.003232  2.150938 -0.219107"
            ]
          },
          "metadata": {
            "tags": []
          },
          "execution_count": 123
        }
      ]
    },
    {
      "cell_type": "code",
      "metadata": {
        "id": "CGX6Wo3dQ0XO",
        "colab_type": "code",
        "colab": {
          "base_uri": "https://localhost:8080/",
          "height": 235
        },
        "outputId": "ae9f29de-8f39-485c-bcf1-ddeb17927f00"
      },
      "source": [
        "df2.sort_index(axis=0, ascending=False)"
      ],
      "execution_count": 124,
      "outputs": [
        {
          "output_type": "execute_result",
          "data": {
            "text/html": [
              "<div>\n",
              "<style scoped>\n",
              "    .dataframe tbody tr th:only-of-type {\n",
              "        vertical-align: middle;\n",
              "    }\n",
              "\n",
              "    .dataframe tbody tr th {\n",
              "        vertical-align: top;\n",
              "    }\n",
              "\n",
              "    .dataframe thead th {\n",
              "        text-align: right;\n",
              "    }\n",
              "</style>\n",
              "<table border=\"1\" class=\"dataframe\">\n",
              "  <thead>\n",
              "    <tr style=\"text-align: right;\">\n",
              "      <th></th>\n",
              "      <th>f4</th>\n",
              "      <th>f2</th>\n",
              "      <th>f3</th>\n",
              "      <th>f1</th>\n",
              "    </tr>\n",
              "  </thead>\n",
              "  <tbody>\n",
              "    <tr>\n",
              "      <th>2019-08-24</th>\n",
              "      <td>1.698973</td>\n",
              "      <td>-1.928416</td>\n",
              "      <td>0.497166</td>\n",
              "      <td>1.065241</td>\n",
              "    </tr>\n",
              "    <tr>\n",
              "      <th>2019-08-23</th>\n",
              "      <td>0.486023</td>\n",
              "      <td>-0.298017</td>\n",
              "      <td>-1.461563</td>\n",
              "      <td>0.436061</td>\n",
              "    </tr>\n",
              "    <tr>\n",
              "      <th>2019-08-22</th>\n",
              "      <td>1.947095</td>\n",
              "      <td>-0.426321</td>\n",
              "      <td>1.890617</td>\n",
              "      <td>-0.591570</td>\n",
              "    </tr>\n",
              "    <tr>\n",
              "      <th>2019-08-21</th>\n",
              "      <td>0.492458</td>\n",
              "      <td>0.458595</td>\n",
              "      <td>0.405646</td>\n",
              "      <td>-1.591266</td>\n",
              "    </tr>\n",
              "    <tr>\n",
              "      <th>2019-08-20</th>\n",
              "      <td>-0.957297</td>\n",
              "      <td>-2.391547</td>\n",
              "      <td>-0.289861</td>\n",
              "      <td>-1.197955</td>\n",
              "    </tr>\n",
              "    <tr>\n",
              "      <th>2019-08-19</th>\n",
              "      <td>-0.219107</td>\n",
              "      <td>-1.003232</td>\n",
              "      <td>2.150938</td>\n",
              "      <td>0.290107</td>\n",
              "    </tr>\n",
              "  </tbody>\n",
              "</table>\n",
              "</div>"
            ],
            "text/plain": [
              "                  f4        f2        f3        f1\n",
              "2019-08-24  1.698973 -1.928416  0.497166  1.065241\n",
              "2019-08-23  0.486023 -0.298017 -1.461563  0.436061\n",
              "2019-08-22  1.947095 -0.426321  1.890617 -0.591570\n",
              "2019-08-21  0.492458  0.458595  0.405646 -1.591266\n",
              "2019-08-20 -0.957297 -2.391547 -0.289861 -1.197955\n",
              "2019-08-19 -0.219107 -1.003232  2.150938  0.290107"
            ]
          },
          "metadata": {
            "tags": []
          },
          "execution_count": 124
        }
      ]
    },
    {
      "cell_type": "code",
      "metadata": {
        "id": "eKiTLdO6Q50v",
        "colab_type": "code",
        "colab": {
          "base_uri": "https://localhost:8080/",
          "height": 235
        },
        "outputId": "682fe84f-a2cb-446a-a666-9c1c86944e39"
      },
      "source": [
        "df2.sort_index(axis=1, ascending=False)"
      ],
      "execution_count": 125,
      "outputs": [
        {
          "output_type": "execute_result",
          "data": {
            "text/html": [
              "<div>\n",
              "<style scoped>\n",
              "    .dataframe tbody tr th:only-of-type {\n",
              "        vertical-align: middle;\n",
              "    }\n",
              "\n",
              "    .dataframe tbody tr th {\n",
              "        vertical-align: top;\n",
              "    }\n",
              "\n",
              "    .dataframe thead th {\n",
              "        text-align: right;\n",
              "    }\n",
              "</style>\n",
              "<table border=\"1\" class=\"dataframe\">\n",
              "  <thead>\n",
              "    <tr style=\"text-align: right;\">\n",
              "      <th></th>\n",
              "      <th>f4</th>\n",
              "      <th>f3</th>\n",
              "      <th>f2</th>\n",
              "      <th>f1</th>\n",
              "    </tr>\n",
              "  </thead>\n",
              "  <tbody>\n",
              "    <tr>\n",
              "      <th>2019-08-21</th>\n",
              "      <td>0.492458</td>\n",
              "      <td>0.405646</td>\n",
              "      <td>0.458595</td>\n",
              "      <td>-1.591266</td>\n",
              "    </tr>\n",
              "    <tr>\n",
              "      <th>2019-08-22</th>\n",
              "      <td>1.947095</td>\n",
              "      <td>1.890617</td>\n",
              "      <td>-0.426321</td>\n",
              "      <td>-0.591570</td>\n",
              "    </tr>\n",
              "    <tr>\n",
              "      <th>2019-08-24</th>\n",
              "      <td>1.698973</td>\n",
              "      <td>0.497166</td>\n",
              "      <td>-1.928416</td>\n",
              "      <td>1.065241</td>\n",
              "    </tr>\n",
              "    <tr>\n",
              "      <th>2019-08-23</th>\n",
              "      <td>0.486023</td>\n",
              "      <td>-1.461563</td>\n",
              "      <td>-0.298017</td>\n",
              "      <td>0.436061</td>\n",
              "    </tr>\n",
              "    <tr>\n",
              "      <th>2019-08-20</th>\n",
              "      <td>-0.957297</td>\n",
              "      <td>-0.289861</td>\n",
              "      <td>-2.391547</td>\n",
              "      <td>-1.197955</td>\n",
              "    </tr>\n",
              "    <tr>\n",
              "      <th>2019-08-19</th>\n",
              "      <td>-0.219107</td>\n",
              "      <td>2.150938</td>\n",
              "      <td>-1.003232</td>\n",
              "      <td>0.290107</td>\n",
              "    </tr>\n",
              "  </tbody>\n",
              "</table>\n",
              "</div>"
            ],
            "text/plain": [
              "                  f4        f3        f2        f1\n",
              "2019-08-21  0.492458  0.405646  0.458595 -1.591266\n",
              "2019-08-22  1.947095  1.890617 -0.426321 -0.591570\n",
              "2019-08-24  1.698973  0.497166 -1.928416  1.065241\n",
              "2019-08-23  0.486023 -1.461563 -0.298017  0.436061\n",
              "2019-08-20 -0.957297 -0.289861 -2.391547 -1.197955\n",
              "2019-08-19 -0.219107  2.150938 -1.003232  0.290107"
            ]
          },
          "metadata": {
            "tags": []
          },
          "execution_count": 125
        }
      ]
    },
    {
      "cell_type": "code",
      "metadata": {
        "id": "zgVUSOgRQ8cP",
        "colab_type": "code",
        "colab": {
          "base_uri": "https://localhost:8080/",
          "height": 235
        },
        "outputId": "90bb94c8-7603-4de3-a70d-e4416a13b287"
      },
      "source": [
        "df2.sort_values(by='f4')"
      ],
      "execution_count": 126,
      "outputs": [
        {
          "output_type": "execute_result",
          "data": {
            "text/html": [
              "<div>\n",
              "<style scoped>\n",
              "    .dataframe tbody tr th:only-of-type {\n",
              "        vertical-align: middle;\n",
              "    }\n",
              "\n",
              "    .dataframe tbody tr th {\n",
              "        vertical-align: top;\n",
              "    }\n",
              "\n",
              "    .dataframe thead th {\n",
              "        text-align: right;\n",
              "    }\n",
              "</style>\n",
              "<table border=\"1\" class=\"dataframe\">\n",
              "  <thead>\n",
              "    <tr style=\"text-align: right;\">\n",
              "      <th></th>\n",
              "      <th>f4</th>\n",
              "      <th>f2</th>\n",
              "      <th>f3</th>\n",
              "      <th>f1</th>\n",
              "    </tr>\n",
              "  </thead>\n",
              "  <tbody>\n",
              "    <tr>\n",
              "      <th>2019-08-20</th>\n",
              "      <td>-0.957297</td>\n",
              "      <td>-2.391547</td>\n",
              "      <td>-0.289861</td>\n",
              "      <td>-1.197955</td>\n",
              "    </tr>\n",
              "    <tr>\n",
              "      <th>2019-08-19</th>\n",
              "      <td>-0.219107</td>\n",
              "      <td>-1.003232</td>\n",
              "      <td>2.150938</td>\n",
              "      <td>0.290107</td>\n",
              "    </tr>\n",
              "    <tr>\n",
              "      <th>2019-08-23</th>\n",
              "      <td>0.486023</td>\n",
              "      <td>-0.298017</td>\n",
              "      <td>-1.461563</td>\n",
              "      <td>0.436061</td>\n",
              "    </tr>\n",
              "    <tr>\n",
              "      <th>2019-08-21</th>\n",
              "      <td>0.492458</td>\n",
              "      <td>0.458595</td>\n",
              "      <td>0.405646</td>\n",
              "      <td>-1.591266</td>\n",
              "    </tr>\n",
              "    <tr>\n",
              "      <th>2019-08-24</th>\n",
              "      <td>1.698973</td>\n",
              "      <td>-1.928416</td>\n",
              "      <td>0.497166</td>\n",
              "      <td>1.065241</td>\n",
              "    </tr>\n",
              "    <tr>\n",
              "      <th>2019-08-22</th>\n",
              "      <td>1.947095</td>\n",
              "      <td>-0.426321</td>\n",
              "      <td>1.890617</td>\n",
              "      <td>-0.591570</td>\n",
              "    </tr>\n",
              "  </tbody>\n",
              "</table>\n",
              "</div>"
            ],
            "text/plain": [
              "                  f4        f2        f3        f1\n",
              "2019-08-20 -0.957297 -2.391547 -0.289861 -1.197955\n",
              "2019-08-19 -0.219107 -1.003232  2.150938  0.290107\n",
              "2019-08-23  0.486023 -0.298017 -1.461563  0.436061\n",
              "2019-08-21  0.492458  0.458595  0.405646 -1.591266\n",
              "2019-08-24  1.698973 -1.928416  0.497166  1.065241\n",
              "2019-08-22  1.947095 -0.426321  1.890617 -0.591570"
            ]
          },
          "metadata": {
            "tags": []
          },
          "execution_count": 126
        }
      ]
    },
    {
      "cell_type": "code",
      "metadata": {
        "id": "n-CiCS0JUvW4",
        "colab_type": "code",
        "colab": {
          "base_uri": "https://localhost:8080/",
          "height": 235
        },
        "outputId": "430f9c47-c971-4dc1-d163-128e70e75d6a"
      },
      "source": [
        "df2.sort_values(by='f4', ascending=False)"
      ],
      "execution_count": 127,
      "outputs": [
        {
          "output_type": "execute_result",
          "data": {
            "text/html": [
              "<div>\n",
              "<style scoped>\n",
              "    .dataframe tbody tr th:only-of-type {\n",
              "        vertical-align: middle;\n",
              "    }\n",
              "\n",
              "    .dataframe tbody tr th {\n",
              "        vertical-align: top;\n",
              "    }\n",
              "\n",
              "    .dataframe thead th {\n",
              "        text-align: right;\n",
              "    }\n",
              "</style>\n",
              "<table border=\"1\" class=\"dataframe\">\n",
              "  <thead>\n",
              "    <tr style=\"text-align: right;\">\n",
              "      <th></th>\n",
              "      <th>f4</th>\n",
              "      <th>f2</th>\n",
              "      <th>f3</th>\n",
              "      <th>f1</th>\n",
              "    </tr>\n",
              "  </thead>\n",
              "  <tbody>\n",
              "    <tr>\n",
              "      <th>2019-08-22</th>\n",
              "      <td>1.947095</td>\n",
              "      <td>-0.426321</td>\n",
              "      <td>1.890617</td>\n",
              "      <td>-0.591570</td>\n",
              "    </tr>\n",
              "    <tr>\n",
              "      <th>2019-08-24</th>\n",
              "      <td>1.698973</td>\n",
              "      <td>-1.928416</td>\n",
              "      <td>0.497166</td>\n",
              "      <td>1.065241</td>\n",
              "    </tr>\n",
              "    <tr>\n",
              "      <th>2019-08-21</th>\n",
              "      <td>0.492458</td>\n",
              "      <td>0.458595</td>\n",
              "      <td>0.405646</td>\n",
              "      <td>-1.591266</td>\n",
              "    </tr>\n",
              "    <tr>\n",
              "      <th>2019-08-23</th>\n",
              "      <td>0.486023</td>\n",
              "      <td>-0.298017</td>\n",
              "      <td>-1.461563</td>\n",
              "      <td>0.436061</td>\n",
              "    </tr>\n",
              "    <tr>\n",
              "      <th>2019-08-19</th>\n",
              "      <td>-0.219107</td>\n",
              "      <td>-1.003232</td>\n",
              "      <td>2.150938</td>\n",
              "      <td>0.290107</td>\n",
              "    </tr>\n",
              "    <tr>\n",
              "      <th>2019-08-20</th>\n",
              "      <td>-0.957297</td>\n",
              "      <td>-2.391547</td>\n",
              "      <td>-0.289861</td>\n",
              "      <td>-1.197955</td>\n",
              "    </tr>\n",
              "  </tbody>\n",
              "</table>\n",
              "</div>"
            ],
            "text/plain": [
              "                  f4        f2        f3        f1\n",
              "2019-08-22  1.947095 -0.426321  1.890617 -0.591570\n",
              "2019-08-24  1.698973 -1.928416  0.497166  1.065241\n",
              "2019-08-21  0.492458  0.458595  0.405646 -1.591266\n",
              "2019-08-23  0.486023 -0.298017 -1.461563  0.436061\n",
              "2019-08-19 -0.219107 -1.003232  2.150938  0.290107\n",
              "2019-08-20 -0.957297 -2.391547 -0.289861 -1.197955"
            ]
          },
          "metadata": {
            "tags": []
          },
          "execution_count": 127
        }
      ]
    },
    {
      "cell_type": "code",
      "metadata": {
        "id": "YUp4T1GSUyZz",
        "colab_type": "code",
        "colab": {
          "base_uri": "https://localhost:8080/",
          "height": 235
        },
        "outputId": "cbc04f96-e0fd-4482-8ad4-16ac5dfefd12"
      },
      "source": [
        "df2['f5'] = np.random.randint(0, 6, size=6)\n",
        "df2['f6'] = ['alpha', 'beta', 'gamma', 'gamma', 'alpha', 'gamma']\n",
        "df2"
      ],
      "execution_count": 128,
      "outputs": [
        {
          "output_type": "execute_result",
          "data": {
            "text/html": [
              "<div>\n",
              "<style scoped>\n",
              "    .dataframe tbody tr th:only-of-type {\n",
              "        vertical-align: middle;\n",
              "    }\n",
              "\n",
              "    .dataframe tbody tr th {\n",
              "        vertical-align: top;\n",
              "    }\n",
              "\n",
              "    .dataframe thead th {\n",
              "        text-align: right;\n",
              "    }\n",
              "</style>\n",
              "<table border=\"1\" class=\"dataframe\">\n",
              "  <thead>\n",
              "    <tr style=\"text-align: right;\">\n",
              "      <th></th>\n",
              "      <th>f4</th>\n",
              "      <th>f2</th>\n",
              "      <th>f3</th>\n",
              "      <th>f1</th>\n",
              "      <th>f5</th>\n",
              "      <th>f6</th>\n",
              "    </tr>\n",
              "  </thead>\n",
              "  <tbody>\n",
              "    <tr>\n",
              "      <th>2019-08-21</th>\n",
              "      <td>0.492458</td>\n",
              "      <td>0.458595</td>\n",
              "      <td>0.405646</td>\n",
              "      <td>-1.591266</td>\n",
              "      <td>5</td>\n",
              "      <td>alpha</td>\n",
              "    </tr>\n",
              "    <tr>\n",
              "      <th>2019-08-22</th>\n",
              "      <td>1.947095</td>\n",
              "      <td>-0.426321</td>\n",
              "      <td>1.890617</td>\n",
              "      <td>-0.591570</td>\n",
              "      <td>0</td>\n",
              "      <td>beta</td>\n",
              "    </tr>\n",
              "    <tr>\n",
              "      <th>2019-08-24</th>\n",
              "      <td>1.698973</td>\n",
              "      <td>-1.928416</td>\n",
              "      <td>0.497166</td>\n",
              "      <td>1.065241</td>\n",
              "      <td>4</td>\n",
              "      <td>gamma</td>\n",
              "    </tr>\n",
              "    <tr>\n",
              "      <th>2019-08-23</th>\n",
              "      <td>0.486023</td>\n",
              "      <td>-0.298017</td>\n",
              "      <td>-1.461563</td>\n",
              "      <td>0.436061</td>\n",
              "      <td>2</td>\n",
              "      <td>gamma</td>\n",
              "    </tr>\n",
              "    <tr>\n",
              "      <th>2019-08-20</th>\n",
              "      <td>-0.957297</td>\n",
              "      <td>-2.391547</td>\n",
              "      <td>-0.289861</td>\n",
              "      <td>-1.197955</td>\n",
              "      <td>4</td>\n",
              "      <td>alpha</td>\n",
              "    </tr>\n",
              "    <tr>\n",
              "      <th>2019-08-19</th>\n",
              "      <td>-0.219107</td>\n",
              "      <td>-1.003232</td>\n",
              "      <td>2.150938</td>\n",
              "      <td>0.290107</td>\n",
              "      <td>3</td>\n",
              "      <td>gamma</td>\n",
              "    </tr>\n",
              "  </tbody>\n",
              "</table>\n",
              "</div>"
            ],
            "text/plain": [
              "                  f4        f2        f3        f1  f5     f6\n",
              "2019-08-21  0.492458  0.458595  0.405646 -1.591266   5  alpha\n",
              "2019-08-22  1.947095 -0.426321  1.890617 -0.591570   0   beta\n",
              "2019-08-24  1.698973 -1.928416  0.497166  1.065241   4  gamma\n",
              "2019-08-23  0.486023 -0.298017 -1.461563  0.436061   2  gamma\n",
              "2019-08-20 -0.957297 -2.391547 -0.289861 -1.197955   4  alpha\n",
              "2019-08-19 -0.219107 -1.003232  2.150938  0.290107   3  gamma"
            ]
          },
          "metadata": {
            "tags": []
          },
          "execution_count": 128
        }
      ]
    },
    {
      "cell_type": "code",
      "metadata": {
        "id": "6KtiHx60VAIN",
        "colab_type": "code",
        "colab": {
          "base_uri": "https://localhost:8080/",
          "height": 235
        },
        "outputId": "910ecdd6-ae9d-46c4-fea6-5acc77c6f992"
      },
      "source": [
        "df2.sort_values(by=['f5', 'f6'])"
      ],
      "execution_count": 129,
      "outputs": [
        {
          "output_type": "execute_result",
          "data": {
            "text/html": [
              "<div>\n",
              "<style scoped>\n",
              "    .dataframe tbody tr th:only-of-type {\n",
              "        vertical-align: middle;\n",
              "    }\n",
              "\n",
              "    .dataframe tbody tr th {\n",
              "        vertical-align: top;\n",
              "    }\n",
              "\n",
              "    .dataframe thead th {\n",
              "        text-align: right;\n",
              "    }\n",
              "</style>\n",
              "<table border=\"1\" class=\"dataframe\">\n",
              "  <thead>\n",
              "    <tr style=\"text-align: right;\">\n",
              "      <th></th>\n",
              "      <th>f4</th>\n",
              "      <th>f2</th>\n",
              "      <th>f3</th>\n",
              "      <th>f1</th>\n",
              "      <th>f5</th>\n",
              "      <th>f6</th>\n",
              "    </tr>\n",
              "  </thead>\n",
              "  <tbody>\n",
              "    <tr>\n",
              "      <th>2019-08-22</th>\n",
              "      <td>1.947095</td>\n",
              "      <td>-0.426321</td>\n",
              "      <td>1.890617</td>\n",
              "      <td>-0.591570</td>\n",
              "      <td>0</td>\n",
              "      <td>beta</td>\n",
              "    </tr>\n",
              "    <tr>\n",
              "      <th>2019-08-23</th>\n",
              "      <td>0.486023</td>\n",
              "      <td>-0.298017</td>\n",
              "      <td>-1.461563</td>\n",
              "      <td>0.436061</td>\n",
              "      <td>2</td>\n",
              "      <td>gamma</td>\n",
              "    </tr>\n",
              "    <tr>\n",
              "      <th>2019-08-19</th>\n",
              "      <td>-0.219107</td>\n",
              "      <td>-1.003232</td>\n",
              "      <td>2.150938</td>\n",
              "      <td>0.290107</td>\n",
              "      <td>3</td>\n",
              "      <td>gamma</td>\n",
              "    </tr>\n",
              "    <tr>\n",
              "      <th>2019-08-20</th>\n",
              "      <td>-0.957297</td>\n",
              "      <td>-2.391547</td>\n",
              "      <td>-0.289861</td>\n",
              "      <td>-1.197955</td>\n",
              "      <td>4</td>\n",
              "      <td>alpha</td>\n",
              "    </tr>\n",
              "    <tr>\n",
              "      <th>2019-08-24</th>\n",
              "      <td>1.698973</td>\n",
              "      <td>-1.928416</td>\n",
              "      <td>0.497166</td>\n",
              "      <td>1.065241</td>\n",
              "      <td>4</td>\n",
              "      <td>gamma</td>\n",
              "    </tr>\n",
              "    <tr>\n",
              "      <th>2019-08-21</th>\n",
              "      <td>0.492458</td>\n",
              "      <td>0.458595</td>\n",
              "      <td>0.405646</td>\n",
              "      <td>-1.591266</td>\n",
              "      <td>5</td>\n",
              "      <td>alpha</td>\n",
              "    </tr>\n",
              "  </tbody>\n",
              "</table>\n",
              "</div>"
            ],
            "text/plain": [
              "                  f4        f2        f3        f1  f5     f6\n",
              "2019-08-22  1.947095 -0.426321  1.890617 -0.591570   0   beta\n",
              "2019-08-23  0.486023 -0.298017 -1.461563  0.436061   2  gamma\n",
              "2019-08-19 -0.219107 -1.003232  2.150938  0.290107   3  gamma\n",
              "2019-08-20 -0.957297 -2.391547 -0.289861 -1.197955   4  alpha\n",
              "2019-08-24  1.698973 -1.928416  0.497166  1.065241   4  gamma\n",
              "2019-08-21  0.492458  0.458595  0.405646 -1.591266   5  alpha"
            ]
          },
          "metadata": {
            "tags": []
          },
          "execution_count": 129
        }
      ]
    },
    {
      "cell_type": "code",
      "metadata": {
        "id": "uEk5dF4xWMp8",
        "colab_type": "code",
        "colab": {
          "base_uri": "https://localhost:8080/",
          "height": 35
        },
        "outputId": "a0ee0971-607d-473d-8b4a-13f81cd609ef"
      },
      "source": [
        "# unique()\n",
        "\n",
        "df2['f6'].unique()"
      ],
      "execution_count": 130,
      "outputs": [
        {
          "output_type": "execute_result",
          "data": {
            "text/plain": [
              "array(['alpha', 'beta', 'gamma'], dtype=object)"
            ]
          },
          "metadata": {
            "tags": []
          },
          "execution_count": 130
        }
      ]
    },
    {
      "cell_type": "code",
      "metadata": {
        "id": "dOxUjwWNWYbE",
        "colab_type": "code",
        "colab": {
          "base_uri": "https://localhost:8080/",
          "height": 89
        },
        "outputId": "78b7d46a-2c2e-494f-a867-3f9460a40a3b"
      },
      "source": [
        "# value_counts()\n",
        "\n",
        "df2['f6'].value_counts()"
      ],
      "execution_count": 132,
      "outputs": [
        {
          "output_type": "execute_result",
          "data": {
            "text/plain": [
              "gamma    3\n",
              "alpha    2\n",
              "beta     1\n",
              "Name: f6, dtype: int64"
            ]
          },
          "metadata": {
            "tags": []
          },
          "execution_count": 132
        }
      ]
    },
    {
      "cell_type": "code",
      "metadata": {
        "id": "4hJnEYKHWbnG",
        "colab_type": "code",
        "colab": {
          "base_uri": "https://localhost:8080/",
          "height": 143
        },
        "outputId": "64d68674-2219-4f22-f6f9-2549a836cde4"
      },
      "source": [
        "df2['f6'].isin(['alpha', 'gamma'])"
      ],
      "execution_count": 133,
      "outputs": [
        {
          "output_type": "execute_result",
          "data": {
            "text/plain": [
              "2019-08-21     True\n",
              "2019-08-22    False\n",
              "2019-08-24     True\n",
              "2019-08-23     True\n",
              "2019-08-20     True\n",
              "2019-08-19     True\n",
              "Name: f6, dtype: bool"
            ]
          },
          "metadata": {
            "tags": []
          },
          "execution_count": 133
        }
      ]
    },
    {
      "cell_type": "code",
      "metadata": {
        "id": "hEa5AxejW0Z8",
        "colab_type": "code",
        "colab": {
          "base_uri": "https://localhost:8080/",
          "height": 204
        },
        "outputId": "f218b569-4c0a-4c05-e127-9c09ed6e366b"
      },
      "source": [
        "df2.loc[df2['f6'].isin(['alpha','gamma']) == 1, :]"
      ],
      "execution_count": 135,
      "outputs": [
        {
          "output_type": "execute_result",
          "data": {
            "text/html": [
              "<div>\n",
              "<style scoped>\n",
              "    .dataframe tbody tr th:only-of-type {\n",
              "        vertical-align: middle;\n",
              "    }\n",
              "\n",
              "    .dataframe tbody tr th {\n",
              "        vertical-align: top;\n",
              "    }\n",
              "\n",
              "    .dataframe thead th {\n",
              "        text-align: right;\n",
              "    }\n",
              "</style>\n",
              "<table border=\"1\" class=\"dataframe\">\n",
              "  <thead>\n",
              "    <tr style=\"text-align: right;\">\n",
              "      <th></th>\n",
              "      <th>f4</th>\n",
              "      <th>f2</th>\n",
              "      <th>f3</th>\n",
              "      <th>f1</th>\n",
              "      <th>f5</th>\n",
              "      <th>f6</th>\n",
              "    </tr>\n",
              "  </thead>\n",
              "  <tbody>\n",
              "    <tr>\n",
              "      <th>2019-08-21</th>\n",
              "      <td>0.492458</td>\n",
              "      <td>0.458595</td>\n",
              "      <td>0.405646</td>\n",
              "      <td>-1.591266</td>\n",
              "      <td>5</td>\n",
              "      <td>alpha</td>\n",
              "    </tr>\n",
              "    <tr>\n",
              "      <th>2019-08-24</th>\n",
              "      <td>1.698973</td>\n",
              "      <td>-1.928416</td>\n",
              "      <td>0.497166</td>\n",
              "      <td>1.065241</td>\n",
              "      <td>4</td>\n",
              "      <td>gamma</td>\n",
              "    </tr>\n",
              "    <tr>\n",
              "      <th>2019-08-23</th>\n",
              "      <td>0.486023</td>\n",
              "      <td>-0.298017</td>\n",
              "      <td>-1.461563</td>\n",
              "      <td>0.436061</td>\n",
              "      <td>2</td>\n",
              "      <td>gamma</td>\n",
              "    </tr>\n",
              "    <tr>\n",
              "      <th>2019-08-20</th>\n",
              "      <td>-0.957297</td>\n",
              "      <td>-2.391547</td>\n",
              "      <td>-0.289861</td>\n",
              "      <td>-1.197955</td>\n",
              "      <td>4</td>\n",
              "      <td>alpha</td>\n",
              "    </tr>\n",
              "    <tr>\n",
              "      <th>2019-08-19</th>\n",
              "      <td>-0.219107</td>\n",
              "      <td>-1.003232</td>\n",
              "      <td>2.150938</td>\n",
              "      <td>0.290107</td>\n",
              "      <td>3</td>\n",
              "      <td>gamma</td>\n",
              "    </tr>\n",
              "  </tbody>\n",
              "</table>\n",
              "</div>"
            ],
            "text/plain": [
              "                  f4        f2        f3        f1  f5     f6\n",
              "2019-08-21  0.492458  0.458595  0.405646 -1.591266   5  alpha\n",
              "2019-08-24  1.698973 -1.928416  0.497166  1.065241   4  gamma\n",
              "2019-08-23  0.486023 -0.298017 -1.461563  0.436061   2  gamma\n",
              "2019-08-20 -0.957297 -2.391547 -0.289861 -1.197955   4  alpha\n",
              "2019-08-19 -0.219107 -1.003232  2.150938  0.290107   3  gamma"
            ]
          },
          "metadata": {
            "tags": []
          },
          "execution_count": 135
        }
      ]
    },
    {
      "cell_type": "code",
      "metadata": {
        "id": "yHWF7d3oW7Ki",
        "colab_type": "code",
        "colab": {
          "base_uri": "https://localhost:8080/",
          "height": 173
        },
        "outputId": "2f15095d-aa92-42d6-d107-6c530a3c1622"
      },
      "source": [
        "df3 = pd.DataFrame(np.random.randn(4, 3), columns=['b', 'd', 'e'],\n",
        "                   index=['seoul', 'incheon', 'busan', 'daegu'])\n",
        "df3"
      ],
      "execution_count": 136,
      "outputs": [
        {
          "output_type": "execute_result",
          "data": {
            "text/html": [
              "<div>\n",
              "<style scoped>\n",
              "    .dataframe tbody tr th:only-of-type {\n",
              "        vertical-align: middle;\n",
              "    }\n",
              "\n",
              "    .dataframe tbody tr th {\n",
              "        vertical-align: top;\n",
              "    }\n",
              "\n",
              "    .dataframe thead th {\n",
              "        text-align: right;\n",
              "    }\n",
              "</style>\n",
              "<table border=\"1\" class=\"dataframe\">\n",
              "  <thead>\n",
              "    <tr style=\"text-align: right;\">\n",
              "      <th></th>\n",
              "      <th>b</th>\n",
              "      <th>d</th>\n",
              "      <th>e</th>\n",
              "    </tr>\n",
              "  </thead>\n",
              "  <tbody>\n",
              "    <tr>\n",
              "      <th>seoul</th>\n",
              "      <td>0.072260</td>\n",
              "      <td>-2.155512</td>\n",
              "      <td>0.562383</td>\n",
              "    </tr>\n",
              "    <tr>\n",
              "      <th>incheon</th>\n",
              "      <td>1.185242</td>\n",
              "      <td>-0.939793</td>\n",
              "      <td>-2.102446</td>\n",
              "    </tr>\n",
              "    <tr>\n",
              "      <th>busan</th>\n",
              "      <td>-0.895582</td>\n",
              "      <td>-0.872699</td>\n",
              "      <td>-0.788364</td>\n",
              "    </tr>\n",
              "    <tr>\n",
              "      <th>daegu</th>\n",
              "      <td>1.165088</td>\n",
              "      <td>-0.415682</td>\n",
              "      <td>1.604928</td>\n",
              "    </tr>\n",
              "  </tbody>\n",
              "</table>\n",
              "</div>"
            ],
            "text/plain": [
              "                b         d         e\n",
              "seoul    0.072260 -2.155512  0.562383\n",
              "incheon  1.185242 -0.939793 -2.102446\n",
              "busan   -0.895582 -0.872699 -0.788364\n",
              "daegu    1.165088 -0.415682  1.604928"
            ]
          },
          "metadata": {
            "tags": []
          },
          "execution_count": 136
        }
      ]
    },
    {
      "cell_type": "code",
      "metadata": {
        "id": "qVM4aPINXdKP",
        "colab_type": "code",
        "colab": {}
      },
      "source": [
        "func = lambda x: x.max()-x.min()"
      ],
      "execution_count": 0,
      "outputs": []
    },
    {
      "cell_type": "code",
      "metadata": {
        "id": "R-iRI_C6Xk3p",
        "colab_type": "code",
        "colab": {
          "base_uri": "https://localhost:8080/",
          "height": 89
        },
        "outputId": "8cb38783-2d16-42d9-ff33-1d7d8ab41dfd"
      },
      "source": [
        "df3.apply(func, axis=0)"
      ],
      "execution_count": 139,
      "outputs": [
        {
          "output_type": "execute_result",
          "data": {
            "text/plain": [
              "b    2.080824\n",
              "d    1.739831\n",
              "e    3.707374\n",
              "dtype: float64"
            ]
          },
          "metadata": {
            "tags": []
          },
          "execution_count": 139
        }
      ]
    },
    {
      "cell_type": "code",
      "metadata": {
        "id": "znZfl7VBXsck",
        "colab_type": "code",
        "colab": {
          "base_uri": "https://localhost:8080/",
          "height": 107
        },
        "outputId": "01598b15-c3f7-487c-de1f-94ad69bbba0e"
      },
      "source": [
        "df3.apply(func, axis=1)"
      ],
      "execution_count": 140,
      "outputs": [
        {
          "output_type": "execute_result",
          "data": {
            "text/plain": [
              "seoul      2.717896\n",
              "incheon    3.287688\n",
              "busan      0.107218\n",
              "daegu      2.020610\n",
              "dtype: float64"
            ]
          },
          "metadata": {
            "tags": []
          },
          "execution_count": 140
        }
      ]
    },
    {
      "cell_type": "code",
      "metadata": {
        "id": "i4zzD6lYX1QG",
        "colab_type": "code",
        "colab": {
          "base_uri": "https://localhost:8080/",
          "height": 35
        },
        "outputId": "ee23a7f1-4070-4da1-9d5c-76d08f6c2251"
      },
      "source": [
        "df3.apply(func, axis=1).loc['seoul']"
      ],
      "execution_count": 148,
      "outputs": [
        {
          "output_type": "execute_result",
          "data": {
            "text/plain": [
              "2.7178955879583144"
            ]
          },
          "metadata": {
            "tags": []
          },
          "execution_count": 148
        }
      ]
    },
    {
      "cell_type": "code",
      "metadata": {
        "id": "crMWxdI5YJND",
        "colab_type": "code",
        "colab": {
          "base_uri": "https://localhost:8080/",
          "height": 35
        },
        "outputId": "a4addbce-3c32-4b81-c33e-e91ae0a295b1"
      },
      "source": [
        "df3.apply(func, axis=0)['e']"
      ],
      "execution_count": 149,
      "outputs": [
        {
          "output_type": "execute_result",
          "data": {
            "text/plain": [
              "3.7073737552886037"
            ]
          },
          "metadata": {
            "tags": []
          },
          "execution_count": 149
        }
      ]
    },
    {
      "cell_type": "code",
      "metadata": {
        "id": "qNG5U4PEYwH1",
        "colab_type": "code",
        "colab": {}
      },
      "source": [
        ""
      ],
      "execution_count": 0,
      "outputs": []
    }
  ]
}